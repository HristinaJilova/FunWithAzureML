{
  "cells": [
    {
      "cell_type": "markdown",
      "source": [
        "# Schedule auto shutdown of ACI and compute resources  in the AzureML\r\n",
        "\r\n",
        "Imagine users deploying models through AutoML and you want to schedule a shutdown of them every night, just in case your power users forgot to close them on their own.\r\n",
        "This pipeline will shutdown all ACI in the AzureML's resource group and all compute instances running in the AzureML workspace. It will also scale all clusters down to 0 nodes.\r\n",
        "\r\n",
        "Potential variations of this script could include:\r\n",
        "- Filtering the ACIs to close based on resource tags (e.g. if resource has tag environment:prod avoid shutting down).\r\n",
        "- Create a single script step that invokes both scripts to avoid spinning up 2 nodes on a multi node cluster.\r\n"
      ],
      "metadata": {
        "nteract": {
          "transient": {
            "deleting": false
          }
        }
      }
    },
    {
      "cell_type": "code",
      "source": [
        "# Variables used in script\r\n",
        "compute_cluster_name='shutdown-cluster'\r\n",
        "pipeline_name='shutdown-resources-pipeline'"
      ],
      "outputs": [],
      "execution_count": null,
      "metadata": {
        "gather": {
          "logged": 1632212972795
        },
        "jupyter": {
          "outputs_hidden": false,
          "source_hidden": false
        },
        "nteract": {
          "transient": {
            "deleting": false
          }
        }
      }
    },
    {
      "cell_type": "markdown",
      "source": [
        "Make sure that you provide the compute clusters managed identity the following permissions:\r\n",
        "\r\n",
        "- Microsoft.ContainerInstance/containerGroups/read : To read ACI resources\r\n",
        "- Microsoft.ContainerInstance/containerGroups/stop/action : To stop ACI\r\n",
        "- Microsoft.MachineLearningServices/workspaces/read : To get compute instances\r\n",
        "- Microsoft.MachineLearningServices/workspaces/computes/read : To get compute instances\r\n",
        "- Microsoft.MachineLearningServices/workspaces/computes/stop/action : To stop compute instances\r\n",
        "- Microsoft.MachineLearningServices/workspaces/computes/write : To be able to resize clusters\r\n",
        "\r\n",
        "If you want to create a custom role:\r\n",
        "\r\n",
        "```\r\n",
        "{\r\n",
        "    \"properties\": {\r\n",
        "        \"roleName\": \"shutdownazuremlresources\",\r\n",
        "        \"description\": \"\",\r\n",
        "        \"assignableScopes\": [\r\n",
        "            \"/subscriptions/<subscription id>/resourceGroups/<resource group name>\"\r\n",
        "        ],\r\n",
        "        \"permissions\": [\r\n",
        "            {\r\n",
        "                \"actions\": [\r\n",
        "                    \"Microsoft.ContainerInstance/containerGroups/stop/action\",\r\n",
        "                    \"Microsoft.ContainerInstance/containerGroups/read\",\r\n",
        "                    \"Microsoft.MachineLearningServices/workspaces/read\",\r\n",
        "                    \"Microsoft.MachineLearningServices/workspaces/computes/read\",\r\n",
        "                    \"Microsoft.MachineLearningServices/workspaces/computes/stop/action\",\r\n",
        "                    \"Microsoft.MachineLearningServices/workspaces/computes/write\"\r\n",
        "                ],\r\n",
        "                \"notActions\": [],\r\n",
        "                \"dataActions\": [],\r\n",
        "                \"notDataActions\": []\r\n",
        "            }\r\n",
        "        ]\r\n",
        "    }\r\n",
        "}\r\n",
        "```\r\n",
        "\r\n",
        "The name of the system assigned managed identity should be `<workspace name>/computes/<cluster name>`\r\n",
        "\r\n",
        "Otherwise you will see the following error in 70_driver_log.txt:\r\n",
        "```\r\n",
        "Message: The client <guid> with object id <guid> does not have authorization to perform action \r\n",
        "Microsoft.ContainerInstance/containerGroups/read over scope \r\n",
        "/subscriptions/<subscription id>/resourceGroups/<resource group>/providers/Microsoft.ContainerInstance or the scope is invalid. \r\n",
        "If access was recently granted, please refresh your credentials.\r\n",
        "```\r\n",
        "\r\n",
        "Navigate to //portal.azure.com/#blade/Microsoft_AAD_IAM/ManagedAppMenuBlade/Overview/appId/`<guid>`/objectId/`<guid>` to see the system assigned managed identity of that compute."
      ],
      "metadata": {
        "nteract": {
          "transient": {
            "deleting": false
          }
        }
      }
    },
    {
      "cell_type": "code",
      "source": [
        "from azureml.core import Workspace\r\n",
        "from azureml.core.compute import ComputeTarget\r\n",
        "\r\n",
        "# Connect to workspace and get resource references\r\n",
        "ws = Workspace.from_config()\r\n",
        "compute_cluster = ComputeTarget(workspace=ws, name=compute_cluster_name)"
      ],
      "outputs": [],
      "execution_count": null,
      "metadata": {
        "gather": {
          "logged": 1632212973261
        },
        "jupyter": {
          "outputs_hidden": false,
          "source_hidden": false
        },
        "nteract": {
          "transient": {
            "deleting": false
          }
        }
      }
    },
    {
      "cell_type": "code",
      "source": [
        "from azureml.core import Environment\r\n",
        "from azureml.core.runconfig import RunConfiguration\r\n",
        "# Create an environment with the pip requirements\r\n",
        "execution_environment = Environment.from_pip_requirements(f\"{pipeline_name}-environment\", 'requirements.txt')\r\n",
        "# Register and refresh environment\r\n",
        "execution_environment.register(workspace=ws)\r\n",
        "building_process = execution_environment.build(workspace=ws)\r\n",
        "building_process.wait_for_completion(show_output=True)\r\n",
        "# Create a run config that we will use in our steps\r\n",
        "execution_run_config = RunConfiguration()\r\n",
        "execution_run_config.environment = execution_environment"
      ],
      "outputs": [],
      "execution_count": null,
      "metadata": {
        "gather": {
          "logged": 1632212978896
        },
        "jupyter": {
          "outputs_hidden": false,
          "source_hidden": false
        },
        "nteract": {
          "transient": {
            "deleting": false
          }
        }
      }
    },
    {
      "cell_type": "code",
      "source": [
        "from azureml.pipeline.steps import PythonScriptStep\r\n",
        "# Step to close ACI\r\n",
        "step_0 = PythonScriptStep(\r\n",
        "    'close_azure_container_instances.py',\r\n",
        "    source_directory='.',\r\n",
        "    name='Close ACI resources',\r\n",
        "    compute_target=compute_cluster,\r\n",
        "    runconfig=execution_run_config,\r\n",
        "    allow_reuse= False\r\n",
        ")\r\n",
        "\r\n",
        "# Step to close compute instances\r\n",
        "step_1 = PythonScriptStep(\r\n",
        "    'close_azureml_compute_resources.py',\r\n",
        "    source_directory='.',\r\n",
        "    name='Close AzureML computes',\r\n",
        "    compute_target=compute_cluster,\r\n",
        "    runconfig=execution_run_config,\r\n",
        "    allow_reuse= False\r\n",
        ")"
      ],
      "outputs": [],
      "execution_count": null,
      "metadata": {
        "gather": {
          "logged": 1632212978997
        },
        "jupyter": {
          "outputs_hidden": false,
          "source_hidden": false
        },
        "nteract": {
          "transient": {
            "deleting": false
          }
        }
      }
    },
    {
      "cell_type": "code",
      "source": [
        "from azureml.pipeline.core import Pipeline\r\n",
        "\r\n",
        "pipeline = Pipeline(workspace=ws, steps=[step_0, step_1])\r\n",
        "\r\n",
        "published_pipeline = pipeline.publish(\r\n",
        "    pipeline_name, \r\n",
        "    description=\"Shutdown AzureML resources\")"
      ],
      "outputs": [],
      "execution_count": null,
      "metadata": {
        "gather": {
          "logged": 1632212988962
        },
        "jupyter": {
          "outputs_hidden": false,
          "source_hidden": false
        },
        "nteract": {
          "transient": {
            "deleting": false
          }
        }
      }
    },
    {
      "cell_type": "code",
      "source": [
        "from azureml.pipeline.core import PublishedPipeline\r\n",
        "from azureml.pipeline.core.schedule import Schedule\r\n",
        "\r\n",
        "# Clean up previous deployments\r\n",
        "published_pipelines = PublishedPipeline.list(workspace=ws, active_only=True)\r\n",
        "schedules = Schedule.list(ws, active_only=True)\r\n",
        "\r\n",
        "for p in published_pipelines:\r\n",
        "    if (p.name == pipeline_name and p.id != published_pipeline.id):\r\n",
        "        print(f\"Disabling pipeline with id {p.id} and name {p.name}\")\r\n",
        "        for s in schedules:\r\n",
        "            if (s.pipeline_id == p.id):\r\n",
        "                print(f\"\\tDisabling schedule {s.id}\")\r\n",
        "                s.disable(wait_for_provisioning=True)\r\n",
        "        # Once scheduled pipelines are cleared, disable pipeline\r\n",
        "        p.disable()"
      ],
      "outputs": [],
      "execution_count": null,
      "metadata": {
        "jupyter": {
          "source_hidden": false,
          "outputs_hidden": false
        },
        "nteract": {
          "transient": {
            "deleting": false
          }
        },
        "gather": {
          "logged": 1632212996353
        }
      }
    },
    {
      "cell_type": "code",
      "source": [
        "from azureml.pipeline.core.schedule import ScheduleRecurrence, Schedule, TimeZone\r\n",
        "\r\n",
        "recurrence = ScheduleRecurrence(frequency=\"Day\", \r\n",
        "                                interval=1, \r\n",
        "                                hours=[22], \r\n",
        "                                minutes=[30],\r\n",
        "                                time_zone=TimeZone.EEuropeStandardTime,\r\n",
        "                                # start_time = datetime.now()  # This will prevent starting the pipeline once it's scheduled\r\n",
        "                                ) # Runs every other day at 10:30pm\r\n",
        "\r\n",
        "schedule = Schedule.create(workspace=ws, name=f\"{pipeline_name}-schedule\",\r\n",
        "                           pipeline_id=published_pipeline.id, \r\n",
        "                           experiment_name=f\"{pipeline_name}-schedule-run\",\r\n",
        "                           recurrence=recurrence,\r\n",
        "                           wait_for_provisioning=True,\r\n",
        "                           description=\"Shutdown AzureML related resources\")\r\n",
        "\r\n",
        "# You may want to make sure that the schedule is provisioned properly\r\n",
        "# before making any further changes to the schedule\r\n",
        "\r\n",
        "print(\"Created schedule with id: {}\".format(schedule.id))"
      ],
      "outputs": [],
      "execution_count": null,
      "metadata": {
        "gather": {
          "logged": 1632213003105
        },
        "jupyter": {
          "outputs_hidden": false,
          "source_hidden": false
        },
        "nteract": {
          "transient": {
            "deleting": false
          }
        }
      }
    },
    {
      "cell_type": "code",
      "source": [
        "from azureml.pipeline.core.schedule import Schedule\r\n",
        "# Use active_only=False to get all schedules including disabled schedules\r\n",
        "schedules = Schedule.list(ws, active_only=True) \r\n",
        "print(\"Your workspace has the following schedules set up:\")\r\n",
        "for schedule in schedules:\r\n",
        "    print(\"{} (Published pipeline: {}\".format(schedule.id, schedule.pipeline_id))\r\n",
        "    # schedule.disable(wait_for_provisioning=True)"
      ],
      "outputs": [],
      "execution_count": null,
      "metadata": {
        "gather": {
          "logged": 1632213003333
        },
        "jupyter": {
          "outputs_hidden": false,
          "source_hidden": false
        },
        "nteract": {
          "transient": {
            "deleting": false
          }
        }
      }
    }
  ],
  "metadata": {
    "kernel_info": {
      "name": "python3-azureml"
    },
    "kernelspec": {
      "name": "python3-azureml",
      "language": "python",
      "display_name": "Python 3.6 - AzureML"
    },
    "language_info": {
      "name": "python",
      "version": "3.6.9",
      "mimetype": "text/x-python",
      "codemirror_mode": {
        "name": "ipython",
        "version": 3
      },
      "pygments_lexer": "ipython3",
      "nbconvert_exporter": "python",
      "file_extension": ".py"
    },
    "microsoft": {
      "host": {
        "AzureML": {
          "notebookHasBeenCompleted": true
        }
      }
    },
    "nteract": {
      "version": "nteract-front-end@1.0.0"
    }
  },
  "nbformat": 4,
  "nbformat_minor": 2
}