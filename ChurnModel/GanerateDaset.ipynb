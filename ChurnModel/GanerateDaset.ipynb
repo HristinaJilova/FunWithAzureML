{
 "cells": [
  {
   "cell_type": "code",
   "execution_count": null,
   "metadata": {
    "gather": {
     "logged": 1606397901066
    }
   },
   "outputs": [],
   "source": [
    "import pandas as pd\r\n",
    "df = pd.read_csv('Original_Dataset.csv')"
   ]
  },
  {
   "cell_type": "code",
   "execution_count": null,
   "metadata": {
    "gather": {
     "logged": 1606397901260
    },
    "jupyter": {
     "outputs_hidden": false,
     "source_hidden": false
    },
    "nteract": {
     "transient": {
      "deleting": false
     }
    }
   },
   "outputs": [],
   "source": [
    "columns_to_keep = ['customerID','tenure','Churn']\r\n",
    "df = df[columns_to_keep]\r\n",
    "df.head(2)"
   ]
  },
  {
   "cell_type": "markdown",
   "metadata": {
    "nteract": {
     "transient": {
      "deleting": false
     }
    }
   },
   "source": [
    "Our features will be:\r\n",
    "- id: Customer Id\r\n",
    "- customer_tenure: How many years the customer has subscribed\r\n",
    "- product_tenure: How long is the customer in the specific product\r\n",
    "- activity_last_6_months: Minutes talked on phone last 6 months in total\r\n",
    "- activity_last_12_months: Minutes talked on phone last 12 months in total\r\n",
    "- churned: Bool indicating if the customer churned"
   ]
  },
  {
   "cell_type": "code",
   "execution_count": null,
   "metadata": {
    "gather": {
     "logged": 1606397901598
    },
    "jupyter": {
     "outputs_hidden": false,
     "source_hidden": false
    },
    "nteract": {
     "transient": {
      "deleting": false
     }
    }
   },
   "outputs": [],
   "source": [
    "df.rename(columns = {'customerID':'id', 'tenure': 'customer_tenure'}, inplace = True) \r\n",
    "df.head(2)"
   ]
  },
  {
   "cell_type": "code",
   "execution_count": null,
   "metadata": {
    "gather": {
     "logged": 1606397901667
    },
    "jupyter": {
     "outputs_hidden": false,
     "source_hidden": false
    },
    "nteract": {
     "transient": {
      "deleting": false
     }
    }
   },
   "outputs": [],
   "source": [
    "df['churned'] = (df['Churn'] == \"Yes\")\r\n",
    "df.drop('Churn',axis=1, inplace=True)\r\n",
    "df.head(5)"
   ]
  },
  {
   "cell_type": "code",
   "execution_count": null,
   "metadata": {
    "gather": {
     "logged": 1606397901796
    },
    "jupyter": {
     "outputs_hidden": false,
     "source_hidden": false
    },
    "nteract": {
     "transient": {
      "deleting": false
     }
    }
   },
   "outputs": [],
   "source": [
    "import numpy as np\r\n",
    "df['activity_last_6_months'] = np.random.randint(0,1000,size=(len(df),1))"
   ]
  },
  {
   "cell_type": "code",
   "execution_count": null,
   "metadata": {
    "gather": {
     "logged": 1606397901849
    },
    "jupyter": {
     "outputs_hidden": false,
     "source_hidden": false
    },
    "nteract": {
     "transient": {
      "deleting": false
     }
    }
   },
   "outputs": [],
   "source": [
    "df['activity_last_12_months'] = df['activity_last_6_months'] * (2 + np.random.random(size=(len(df))))\r\n",
    "df['activity_last_12_months'] = df['activity_last_12_months'].astype(int)\r\n",
    "# If customer is less than 6 months, assign 6 months activity to 12 months and not use double or more\r\n",
    "df.loc[df['customer_tenure'] <= 6, 'activity_last_12_months'] = df.loc[df['customer_tenure'] <= 6, 'activity_last_6_months']\r\n",
    "df.head(5)"
   ]
  },
  {
   "cell_type": "code",
   "execution_count": null,
   "metadata": {
    "gather": {
     "logged": 1606397902039
    },
    "jupyter": {
     "outputs_hidden": false,
     "source_hidden": false
    },
    "nteract": {
     "transient": {
      "deleting": false
     }
    }
   },
   "outputs": [],
   "source": [
    "df['product_tenure'] = np.random.randint(0,74,size=(len(df),1))\r\n",
    "\r\n",
    "df.loc[df['product_tenure'] > df['customer_tenure'], 'product_tenure'] = df.loc[df['product_tenure'] > df['customer_tenure'], 'customer_tenure']\r\n",
    "df.head(5)"
   ]
  },
  {
   "cell_type": "code",
   "execution_count": null,
   "metadata": {
    "jupyter": {
     "outputs_hidden": false,
     "source_hidden": false
    },
    "nteract": {
     "transient": {
      "deleting": false
     }
    }
   },
   "outputs": [],
   "source": [
    "!pip install pandas-profiling"
   ]
  },
  {
   "cell_type": "code",
   "execution_count": null,
   "metadata": {
    "gather": {
     "logged": 1606397920332
    },
    "jupyter": {
     "outputs_hidden": false,
     "source_hidden": false
    },
    "nteract": {
     "transient": {
      "deleting": false
     }
    }
   },
   "outputs": [],
   "source": [
    "from pandas_profiling import ProfileReport\r\n",
    "\r\n",
    "ProfileReport(df, title='Pandas Profiling Report', explorative=True)"
   ]
  },
  {
   "cell_type": "code",
   "execution_count": null,
   "metadata": {
    "gather": {
     "logged": 1606398519570
    },
    "jupyter": {
     "outputs_hidden": false,
     "source_hidden": false
    },
    "nteract": {
     "transient": {
      "deleting": false
     }
    }
   },
   "outputs": [],
   "source": [
    "df.to_parquet('CustomerInfo.parquet')"
   ]
  }
 ],
 "metadata": {
  "kernel_info": {
   "name": "python3-azureml"
  },
  "kernelspec": {
   "display_name": "Python 3.6 - AzureML",
   "language": "python",
   "name": "python3-azureml"
  },
  "language_info": {
   "codemirror_mode": {
    "name": "ipython",
    "version": 3
   },
   "file_extension": ".py",
   "mimetype": "text/x-python",
   "name": "python",
   "nbconvert_exporter": "python",
   "pygments_lexer": "ipython3",
   "version": "3.6.9"
  },
  "nteract": {
   "version": "nteract-front-end@1.0.0"
  }
 },
 "nbformat": 4,
 "nbformat_minor": 2
}
