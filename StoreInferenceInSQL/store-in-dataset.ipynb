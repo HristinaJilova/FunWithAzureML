{
 "cells": [
  {
   "cell_type": "markdown",
   "metadata": {},
   "source": [
    "# FAILING Currently"
   ]
  },
  {
   "cell_type": "code",
   "execution_count": null,
   "metadata": {},
   "outputs": [],
   "source": [
    "import azureml.core\n",
    "# Check core SDK version number\n",
    "print(\"SDK version:\", azureml.core.VERSION)"
   ]
  },
  {
   "cell_type": "code",
   "execution_count": null,
   "metadata": {},
   "outputs": [],
   "source": [
    "from azureml.core import Workspace\n",
    "ws = Workspace.from_config()\n",
    "print(ws.name, ws.resource_group, ws.location, ws.subscription_id, sep = '\\n')"
   ]
  },
  {
   "cell_type": "code",
   "execution_count": null,
   "metadata": {},
   "outputs": [],
   "source": [
    "# Load secrets from json file\n",
    "import json\n",
    "settings= {}\n",
    "with open('./settings.json') as f:\n",
    "    settings = json.load(f)\n",
    "\n",
    "# Name of SQL server\n",
    "server_name = settings[\"SQL_SERVERNAME\"]\n",
    " # Name of SQL database\n",
    "database_name = settings[\"SQL_DATABASENAME\"]\n",
    "# SQL Credential. You can also use service principal.\n",
    "# See https://docs.microsoft.com/en-us/python/api/azureml-core/azureml.core.datastore(class)?view=azure-ml-py#register-azure-sql-database-workspace--datastore-name--server-name--database-name--tenant-id-none--client-id-none--client-secret-none--resource-url-none--authority-url-none--endpoint-none--overwrite-false--username-none--password-none----kwargs-\n",
    "sql_user = settings[\"SQL_USER\"]\n",
    "sql_password = settings[\"SQL_PASS\"]"
   ]
  },
  {
   "cell_type": "markdown",
   "metadata": {},
   "source": [
    "## Select or create an SQL Store"
   ]
  },
  {
   "cell_type": "code",
   "execution_count": null,
   "metadata": {},
   "outputs": [],
   "source": [
    "sql_datastore_name=\"store_in_sql_datastore\"\n",
    "\n",
    "from azureml.core.datastore import Datastore\n",
    "from msrest.exceptions import HttpOperationError\n",
    "try:\n",
    "    sql_datastore = Datastore.get(ws, sql_datastore_name)\n",
    "    print(\"Found sql database datastore with name: %s\" % sql_datastore_name)\n",
    "except HttpOperationError:\n",
    "    sql_datastore = Datastore.register_azure_sql_database(\n",
    "        workspace=ws,\n",
    "        datastore_name=sql_datastore_name,\n",
    "        server_name=server_name,\n",
    "        database_name=database_name,\n",
    "        username=sql_user,\n",
    "        password=sql_password)\n",
    "    print(\"Registered sql databse datastore with name: %s\" % sql_datastore_name)\n"
   ]
  },
  {
   "cell_type": "code",
   "execution_count": null,
   "metadata": {},
   "outputs": [],
   "source": [
    "# Define an insert\n",
    "from azureml.data.sql_data_reference import SqlDataReference\n",
    "\n",
    "sql_query_data_ref = SqlDataReference(\n",
    "    datastore=sql_datastore,\n",
    "    data_reference_name=\"sql_insert_data\",\n",
    "    sql_query=\"insert into [dbo].[tblExample](id, name) values (1,\\\"this is a test\\\")\")"
   ]
  },
  {
   "cell_type": "code",
   "execution_count": null,
   "metadata": {},
   "outputs": [],
   "source": [
    "# Get fake output\n",
    "from azureml.data.data_reference import DataReference\n",
    "blob_storage_name = \"test_datastore\"\n",
    "blob_data_ref = DataReference(\n",
    "    datastore=Datastore.get(ws,blob_storage_name),\n",
    "    data_reference_name=\"blob_test_data\",\n",
    "    path_on_datastore=\"testdata\")\n",
    "\n",
    "blob_data_ref = SqlDataReference(\n",
    "    datastore=sql_datastore,\n",
    "    data_reference_name=\"sql_select_data\",\n",
    "    sql_query=\"Select * from [dbo].[tblExample]\")\n",
    "\n",
    "\n",
    "# Get compute\n",
    "from azureml.exceptions import ComputeTargetException\n",
    "from azureml.core.compute import DataFactoryCompute\n",
    "data_factory_name = 'adftest'\n",
    "\n",
    "def get_or_create_data_factory(workspace, factory_name):\n",
    "    try:\n",
    "        return DataFactoryCompute(workspace, factory_name)\n",
    "    except ComputeTargetException as e:\n",
    "        if 'ComputeTargetNotFound' in e.message:\n",
    "            print('Data factory not found, creating...')\n",
    "            provisioning_config = DataFactoryCompute.provisioning_configuration()\n",
    "            data_factory = ComputeTarget.create(workspace, factory_name, provisioning_config)\n",
    "            data_factory.wait_for_completion()\n",
    "            return data_factory\n",
    "        else:\n",
    "            raise e\n",
    "            \n",
    "data_factory_compute = get_or_create_data_factory(ws, data_factory_name)\n",
    "\n",
    "print(\"Setup Azure Data Factory account complete\")"
   ]
  },
  {
   "cell_type": "code",
   "execution_count": null,
   "metadata": {},
   "outputs": [],
   "source": [
    "from azureml.pipeline.steps import DataTransferStep\n",
    "fake_data_transfer = DataTransferStep(\n",
    "    name=\"fake_transfer_to_execute_sql\",\n",
    "    source_data_reference=sql_query_data_ref,\n",
    "    destination_data_reference=blob_data_ref,\n",
    "    compute_target=data_factory_compute.name)"
   ]
  },
  {
   "cell_type": "code",
   "execution_count": null,
   "metadata": {},
   "outputs": [],
   "source": [
    "# THIS FAILS\n",
    "from azureml.pipeline.core import Pipeline\n",
    "from azureml.core import Experiment\n",
    "pipeline_01 = Pipeline(\n",
    "    description=\"fake_transfer_to_execute_sql\",\n",
    "    workspace=ws,\n",
    "    steps=[fake_data_transfer])\n",
    "\n",
    "pipeline_run_01 = Experiment(ws, \"fake_data_transfer\").submit(pipeline_01)\n",
    "pipeline_run_01.wait_for_completion()"
   ]
  },
  {
   "cell_type": "code",
   "execution_count": null,
   "metadata": {},
   "outputs": [],
   "source": []
  }
 ],
 "metadata": {
  "kernelspec": {
   "display_name": "Python 3.6 - AzureML",
   "language": "python",
   "name": "python3-azureml"
  },
  "language_info": {
   "codemirror_mode": {
    "name": "ipython",
    "version": 3
   },
   "file_extension": ".py",
   "mimetype": "text/x-python",
   "name": "python",
   "nbconvert_exporter": "python",
   "pygments_lexer": "ipython3",
   "version": "3.6.9"
  }
 },
 "nbformat": 4,
 "nbformat_minor": 4
}
