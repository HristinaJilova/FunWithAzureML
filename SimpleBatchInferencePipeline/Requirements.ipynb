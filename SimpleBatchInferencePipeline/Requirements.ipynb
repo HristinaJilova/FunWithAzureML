{
  "cells": [
    {
      "cell_type": "markdown",
      "source": [
        "# Demo requirements\r\n",
        "\r\n",
        "This notebook creates a dummy model to use for inference and registers the dataset to use for inference."
      ],
      "metadata": {
        "nteract": {
          "transient": {
            "deleting": false
          }
        }
      }
    },
    {
      "cell_type": "code",
      "source": [
        "# Variables used in script\r\n",
        "model_name = \"simple-model\"\r\n",
        "dataset_name = \"simple-batch\""
      ],
      "outputs": [],
      "execution_count": null,
      "metadata": {
        "collapsed": true,
        "jupyter": {
          "source_hidden": false,
          "outputs_hidden": false
        },
        "nteract": {
          "transient": {
            "deleting": false
          }
        },
        "gather": {
          "logged": 1614612200578
        }
      }
    },
    {
      "cell_type": "markdown",
      "source": [
        "## Create dummy model and register it in AzureML"
      ],
      "metadata": {
        "nteract": {
          "transient": {
            "deleting": false
          }
        }
      }
    },
    {
      "cell_type": "code",
      "source": [
        "from SimpleModel import SimpleModel\r\n",
        "# Create an instance of the simple model that counts the lenght\r\n",
        "# of the specific feature\r\n",
        "dummyModel = SimpleModel('word')"
      ],
      "outputs": [],
      "execution_count": null,
      "metadata": {
        "collapsed": true,
        "jupyter": {
          "source_hidden": false,
          "outputs_hidden": false
        },
        "nteract": {
          "transient": {
            "deleting": false
          }
        },
        "gather": {
          "logged": 1614612222431
        }
      }
    },
    {
      "cell_type": "code",
      "source": [
        "import pandas as pd\r\n",
        "df = pd.read_csv(\"sampledata.csv\")\r\n",
        "df.head()"
      ],
      "outputs": [],
      "execution_count": null,
      "metadata": {
        "collapsed": true,
        "jupyter": {
          "source_hidden": false,
          "outputs_hidden": false
        },
        "nteract": {
          "transient": {
            "deleting": false
          }
        },
        "gather": {
          "logged": 1614612201242
        }
      }
    },
    {
      "cell_type": "code",
      "source": [
        "# And test that the output \r\n",
        "df['outputs']=dummyModel.predict(df)\r\n",
        "df.head()"
      ],
      "outputs": [],
      "execution_count": null,
      "metadata": {
        "collapsed": true,
        "jupyter": {
          "source_hidden": false,
          "outputs_hidden": false
        },
        "nteract": {
          "transient": {
            "deleting": false
          }
        },
        "gather": {
          "logged": 1614612201568
        }
      }
    },
    {
      "cell_type": "code",
      "source": [
        "# Create a folder to store the memory dump of the dummy model\r\n",
        "import os\r\n",
        "\r\n",
        "model_path = 'model'\r\n",
        "\r\n",
        "if not os.path.exists(model_path):\r\n",
        "    os.makedirs(model_path) "
      ],
      "outputs": [],
      "execution_count": null,
      "metadata": {
        "collapsed": true,
        "jupyter": {
          "source_hidden": false,
          "outputs_hidden": false
        },
        "nteract": {
          "transient": {
            "deleting": false
          }
        },
        "gather": {
          "logged": 1614612201893
        }
      }
    },
    {
      "cell_type": "code",
      "source": [
        "import joblib\r\n",
        "\r\n",
        "# Store  model as joblib dump\r\n",
        "joblib.dump(value=dummyModel, filename=os.path.join('model','model.joblib'))\r\n"
      ],
      "outputs": [],
      "execution_count": null,
      "metadata": {
        "collapsed": true,
        "jupyter": {
          "source_hidden": false,
          "outputs_hidden": false
        },
        "nteract": {
          "transient": {
            "deleting": false
          }
        },
        "gather": {
          "logged": 1614612202199
        }
      }
    },
    {
      "cell_type": "code",
      "source": [
        "from azureml.core import Workspace\r\n",
        "\r\n",
        "# Connect to workspace\r\n",
        "ws = Workspace.from_config()"
      ],
      "outputs": [],
      "execution_count": null,
      "metadata": {
        "collapsed": true,
        "jupyter": {
          "source_hidden": false,
          "outputs_hidden": false
        },
        "nteract": {
          "transient": {
            "deleting": false
          }
        },
        "gather": {
          "logged": 1614612202631
        }
      }
    },
    {
      "cell_type": "code",
      "source": [
        "from azureml.core import Model\r\n",
        "\r\n",
        "model = Model.register(ws,\r\n",
        "                model_name=model_name,\r\n",
        "                model_path=model_path\r\n",
        "                )"
      ],
      "outputs": [],
      "execution_count": null,
      "metadata": {
        "collapsed": true,
        "jupyter": {
          "source_hidden": false,
          "outputs_hidden": false
        },
        "nteract": {
          "transient": {
            "deleting": false
          }
        },
        "gather": {
          "logged": 1614612204512
        }
      }
    },
    {
      "cell_type": "markdown",
      "source": [
        "## Register dummy dataset to evaluate"
      ],
      "metadata": {
        "nteract": {
          "transient": {
            "deleting": false
          }
        }
      }
    },
    {
      "cell_type": "code",
      "source": [
        "datastore = ws.get_default_datastore()\r\n",
        "\r\n",
        "# Upload csv file in the dataset_name folder of the default data store\r\n",
        "datastore.upload_files(['sampledata.csv'], target_path=f'{dataset_name}/')"
      ],
      "outputs": [],
      "execution_count": null,
      "metadata": {
        "collapsed": true,
        "jupyter": {
          "source_hidden": false,
          "outputs_hidden": false
        },
        "nteract": {
          "transient": {
            "deleting": false
          }
        },
        "gather": {
          "logged": 1614612205878
        }
      }
    },
    {
      "cell_type": "code",
      "source": [
        "from azureml.core import Dataset\r\n",
        "\r\n",
        "# Create an unregistered dataset reference to the file we uploaded\r\n",
        "csv_files = [(datastore, f\"{dataset_name}/sampledata.csv\")]\r\n",
        "dataset = Dataset.Tabular.from_delimited_files(path=csv_files)"
      ],
      "outputs": [],
      "execution_count": null,
      "metadata": {
        "collapsed": true,
        "jupyter": {
          "source_hidden": false,
          "outputs_hidden": false
        },
        "nteract": {
          "transient": {
            "deleting": false
          }
        },
        "gather": {
          "logged": 1614612211446
        }
      }
    },
    {
      "cell_type": "code",
      "source": [
        "# Register the dataset to get reference during the inference pipeline\r\n",
        "# You do not need to register the dataset as you can create the reference \r\n",
        "# as we did above during the batch inference execution\r\n",
        "\r\n",
        "dataset.register(workspace=ws,\r\n",
        "                 name=dataset_name,\r\n",
        "                 description=f\"Simple data simple batch inference pipeline\")"
      ],
      "outputs": [],
      "execution_count": null,
      "metadata": {
        "collapsed": true,
        "jupyter": {
          "source_hidden": false,
          "outputs_hidden": false
        },
        "nteract": {
          "transient": {
            "deleting": false
          }
        },
        "gather": {
          "logged": 1614612211875
        }
      }
    }
  ],
  "metadata": {
    "kernelspec": {
      "name": "python3-azureml",
      "language": "python",
      "display_name": "Python 3.6 - AzureML"
    },
    "language_info": {
      "name": "python",
      "version": "3.6.9",
      "mimetype": "text/x-python",
      "codemirror_mode": {
        "name": "ipython",
        "version": 3
      },
      "pygments_lexer": "ipython3",
      "nbconvert_exporter": "python",
      "file_extension": ".py"
    },
    "kernel_info": {
      "name": "python3-azureml"
    },
    "microsoft": {
      "host": {
        "AzureML": {
          "notebookHasBeenCompleted": true
        }
      }
    },
    "nteract": {
      "version": "nteract-front-end@1.0.0"
    }
  },
  "nbformat": 4,
  "nbformat_minor": 2
}