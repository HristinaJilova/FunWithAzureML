{
 "cells": [
  {
   "cell_type": "markdown",
   "metadata": {},
   "source": [
    "# Schedule an endpoint"
   ]
  },
  {
   "cell_type": "code",
   "execution_count": 5,
   "metadata": {},
   "outputs": [],
   "source": [
    "# Get the endpoint name from the AzureML studio in the Pipelines -> Pipeline endpoints\n",
    "pipeline_endpoint_name = \"forecast-with-r\""
   ]
  },
  {
   "cell_type": "code",
   "execution_count": 3,
   "metadata": {},
   "outputs": [
    {
     "name": "stdout",
     "output_type": "stream",
     "text": [
      "Azure ML SDK Version:  1.35.0\n"
     ]
    }
   ],
   "source": [
    "import azureml\n",
    "\n",
    "from azureml.core import Workspace\n",
    "\n",
    "print(\"Azure ML SDK Version: \", azureml.core.VERSION)\n",
    "# Connect to Workspace\n",
    "ws = Workspace.from_config()"
   ]
  },
  {
   "cell_type": "code",
   "execution_count": 6,
   "metadata": {},
   "outputs": [],
   "source": [
    "from azureml.pipeline.core import PipelineEndpoint, Schedule \n",
    "\n",
    "pipeline_endpoint = PipelineEndpoint.get(workspace=ws, name=pipeline_endpoint_name)\n"
   ]
  },
  {
   "cell_type": "code",
   "execution_count": 7,
   "metadata": {},
   "outputs": [
    {
     "name": "stdout",
     "output_type": "stream",
     "text": [
      "Provisioning status: Completed\n",
      "Created schedule with id: d3fa9aa6-cf31-4d80-9152-becf4360ff20\n"
     ]
    }
   ],
   "source": [
    "from azureml.pipeline.core.schedule import ScheduleRecurrence, Schedule, TimeZone\n",
    "from datetime import datetime\n",
    "\n",
    "recurrence = ScheduleRecurrence(frequency=\"Day\", \n",
    "                                interval=1, \n",
    "                                hours=[22], \n",
    "                                minutes=[30],\n",
    "                                time_zone=TimeZone.EEuropeStandardTime,\n",
    "                                start_time = datetime.now()  # This will prevent starting the pipeline immediately after scheduling it\n",
    "                                ) # Runs every other day at 10:30pm Eastern European Standard Time (aka Greece)\n",
    "\n",
    "schedule = Schedule.create_for_pipeline_endpoint(workspace=ws, name=f\"{pipeline_endpoint_name}-schedule\",\n",
    "                           pipeline_endpoint_id=pipeline_endpoint.id, \n",
    "                           pipeline_parameters = {  # These are the parameters that will be passed to the pipeline\n",
    "                               \"start_date\": \"2020-01-01\",\n",
    "                               \"key_vault\": \"my-key-vault\",\n",
    "                           },\n",
    "                           experiment_name=f\"{pipeline_endpoint_name}-schedule-run\",\n",
    "                           recurrence=recurrence,\n",
    "                           wait_for_provisioning=True,\n",
    "                           description=\"Scheduled pipeline run\")\n",
    "\n",
    "# You may want to make sure that the schedule is provisioned properly\n",
    "# before making any further changes to the schedule\n",
    "\n",
    "print(\"Created schedule with id: {}\".format(schedule.id))"
   ]
  },
  {
   "cell_type": "code",
   "execution_count": 13,
   "metadata": {},
   "outputs": [
    {
     "name": "stdout",
     "output_type": "stream",
     "text": [
      "Your workspace has the following schedules set up:\n",
      "Schedule Id: 79e8a585-4e9d-4060-849e-342553f108fd (Published pipeline: 3855df31-cff6-4341-9707-6841abc862fb, Published endpoint: None)\n"
     ]
    }
   ],
   "source": [
    "from azureml.pipeline.core.schedule import Schedule\n",
    "# Use active_only=False to get all schedules including disabled schedules\n",
    "schedules = Schedule.list(ws, active_only=True) \n",
    "print(\"Your workspace has the following schedules set up:\")\n",
    "for schedule in schedules:\n",
    "    print(\"Schedule Id: {} (Published pipeline: {}, Published endpoint: {})\".format(schedule.id, schedule.pipeline_id, schedule.pipeline_endpoint_id))\n",
    "    if schedule.id == \"a specific schedule id you want to disable\":\n",
    "      schedule.disable(wait_for_provisioning=True)"
   ]
  },
  {
   "cell_type": "code",
   "execution_count": null,
   "metadata": {},
   "outputs": [],
   "source": []
  }
 ],
 "metadata": {
  "interpreter": {
   "hash": "aaf752ee7e264d07f2aa436f1fcdea415bc1d1a9b82629a37d86a1397f966a41"
  },
  "kernelspec": {
   "display_name": "Python 3.6.9 ('azureml_py36_automl')",
   "language": "python",
   "name": "python3"
  },
  "language_info": {
   "codemirror_mode": {
    "name": "ipython",
    "version": 3
   },
   "file_extension": ".py",
   "mimetype": "text/x-python",
   "name": "python",
   "nbconvert_exporter": "python",
   "pygments_lexer": "ipython3",
   "version": "3.6.9"
  },
  "orig_nbformat": 4
 },
 "nbformat": 4,
 "nbformat_minor": 2
}
