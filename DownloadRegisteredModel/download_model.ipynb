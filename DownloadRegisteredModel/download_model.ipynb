{
 "cells": [
  {
   "cell_type": "code",
   "execution_count": null,
   "metadata": {},
   "outputs": [],
   "source": [
    "import azureml\n",
    "from azureml.core import Workspace, Experiment, Datastore, Environment\n",
    "from azureml.core.runconfig import RunConfiguration\n",
    "from azureml.data.datapath import DataPath, DataPathComputeBinding\n",
    "from azureml.data.data_reference import DataReference\n",
    "from azureml.core.compute import ComputeTarget, AmlCompute\n",
    "from azureml.core.compute_target import ComputeTargetException\n",
    "from azureml.pipeline.core import Pipeline, PipelineData, PipelineParameter\n",
    "from azureml.pipeline.steps import PythonScriptStep, EstimatorStep\n",
    "from azureml.widgets import RunDetails\n",
    "from azureml.train.estimator import Estimator\n",
    "import os\n",
    "\n",
    "print(\"Azure ML SDK Version: \", azureml.core.VERSION)"
   ]
  },
  {
   "cell_type": "code",
   "execution_count": null,
   "metadata": {},
   "outputs": [],
   "source": [
    "# The following is needed if Azure ML SDK is old \n",
    "# !pip install --upgrade azureml-sdk"
   ]
  },
  {
   "cell_type": "markdown",
   "metadata": {},
   "source": [
    "## Get workspace and compute"
   ]
  },
  {
   "cell_type": "code",
   "execution_count": null,
   "metadata": {},
   "outputs": [],
   "source": [
    "# workspace\n",
    "ws = Workspace.from_config()\n",
    "print(ws.name[:4], ws.resource_group[:4], ws.location, ws.subscription_id[:10], sep = '\\n')"
   ]
  },
  {
   "cell_type": "code",
   "execution_count": null,
   "metadata": {},
   "outputs": [],
   "source": [
    "computetarget=\"cpu-cluster\"\n",
    "try:\n",
    "    cpu_cluster = ComputeTarget(workspace=ws, name=computetarget)\n",
    "    print('Found existing cluster, use it.')\n",
    "except ComputeTargetException:\n",
    "    compute_config = AmlCompute.provisioning_configuration(\n",
    "        vm_size='STANDARD_DS3_V2',\n",
    "        vm_priority='lowpriority',\n",
    "        min_nodes=0, \n",
    "        max_nodes=2,\n",
    "        idle_seconds_before_scaledown=600\n",
    "    )\n",
    "    cpu_cluster = ComputeTarget.create(ws, computetarget, compute_config)\n",
    "\n",
    "cpu_cluster.wait_for_completion(show_output=True)\n",
    "compute = ws.compute_targets[computetarget]\n",
    "\n",
    "print('Compute registered: ', compute)"
   ]
  },
  {
   "cell_type": "markdown",
   "metadata": {},
   "source": [
    "## Create python step that downloads the model"
   ]
  },
  {
   "cell_type": "code",
   "execution_count": null,
   "metadata": {},
   "outputs": [],
   "source": [
    "# we just need azureml-sdk\n",
    "# note that we can .amlignore the requirement.txt file cause the contents are added\n",
    "# in the run configuration\n",
    "pythonEnvironment = Environment.from_pip_requirements('myEnv', 'requirements.txt')\n",
    "run_config = RunConfiguration()\n",
    "run_config.environment = pythonEnvironment\n",
    "# Fix warning about remote compute supporting only docker\n",
    "run_config.environment.docker.enabled = True\n",
    "\n",
    "downloadModelStep = PythonScriptStep(\n",
    "    'download_model.py',\n",
    "    source_directory='.',\n",
    "    name='Download model test',\n",
    "    compute_target=compute,\n",
    "    runconfig=run_config\n",
    ")\n"
   ]
  },
  {
   "cell_type": "markdown",
   "metadata": {},
   "source": [
    "## Create and publish the Pipeline"
   ]
  },
  {
   "cell_type": "code",
   "execution_count": null,
   "metadata": {},
   "outputs": [],
   "source": [
    "from azureml.pipeline.core import PublishedPipeline\n",
    "\n",
    "pipeline_name=\"Download model pipeline\"\n",
    "\n",
    "# Disable previously registered pipelines\n",
    "published_pipeline = PublishedPipeline.list(workspace=ws)\n",
    "for x in published_pipeline:\n",
    "    if (x.name == pipeline_name):\n",
    "        x.disable()\n",
    "        print(\"Disabled pipeline with id \", x.id, \" and name \", x.name)\n",
    "    else:\n",
    "        print(\"Skipping pipeline with id \", x.id, \" and name \", x.name)"
   ]
  },
  {
   "cell_type": "code",
   "execution_count": null,
   "metadata": {},
   "outputs": [],
   "source": [
    "pipeline = Pipeline(workspace=ws, steps=[downloadModelStep])\n",
    "\n",
    "published_pipeline = pipeline.publish(\n",
    "    name=pipeline_name, \n",
    "    description=\"Test to download model\")"
   ]
  },
  {
   "cell_type": "code",
   "execution_count": null,
   "metadata": {},
   "outputs": [],
   "source": [
    "# Submit the pipeline to be run\n",
    "pipeline_run = Experiment(ws, 'test-model-download',).submit(published_pipeline)\n",
    "print('Run created with ID: ', pipeline_run.id)"
   ]
  }
 ],
 "metadata": {
  "file_extension": ".py",
  "kernel_info": {
   "name": "python3-azureml"
  },
  "kernelspec": {
   "display_name": "Python 3.6 - AzureML",
   "language": "python",
   "name": "python3-azureml"
  },
  "language_info": {
   "codemirror_mode": {
    "name": "ipython",
    "version": 3
   },
   "file_extension": ".py",
   "mimetype": "text/x-python",
   "name": "python",
   "nbconvert_exporter": "python",
   "pygments_lexer": "ipython3",
   "version": "3.6.9"
  },
  "mimetype": "text/x-python",
  "name": "python",
  "npconvert_exporter": "python",
  "nteract": {
   "version": "nteract-front-end@1.0.0"
  },
  "pygments_lexer": "ipython3",
  "version": 3
 },
 "nbformat": 4,
 "nbformat_minor": 4
}
