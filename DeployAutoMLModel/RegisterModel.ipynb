{
  "cells": [
    {
      "cell_type": "code",
      "source": [
        "# Get reference to experiment\r\n",
        "from azureml.core import Workspace, Experiment\r\n",
        "\r\n",
        "ws = Workspace.from_config()\r\n",
        "\r\n",
        "my_experiment = Experiment(ws, 'auto-ml-deployment-experiment')"
      ],
      "outputs": [],
      "execution_count": null,
      "metadata": {
        "gather": {
          "logged": 1614105556732
        }
      }
    },
    {
      "cell_type": "code",
      "source": [
        "# Get first run (in reverse chronological order)\r\n",
        "run = next(my_experiment.get_runs())\r\n",
        "\r\n",
        "print(f\"Run {run.id} is {run.status}\")"
      ],
      "outputs": [],
      "execution_count": null,
      "metadata": {
        "collapsed": true,
        "jupyter": {
          "source_hidden": false,
          "outputs_hidden": false
        },
        "nteract": {
          "transient": {
            "deleting": false
          }
        },
        "gather": {
          "logged": 1614105558464
        }
      }
    },
    {
      "cell_type": "code",
      "source": [
        "from azureml.train.automl.run import AutoMLRun\r\n",
        "automl_run = AutoMLRun(my_experiment, run.id)\r\n",
        "# Zero is the Run and 1 is the best model\r\n",
        "best_run, best_model = automl_run.get_output()"
      ],
      "outputs": [],
      "execution_count": null,
      "metadata": {
        "collapsed": true,
        "jupyter": {
          "source_hidden": false,
          "outputs_hidden": false
        },
        "nteract": {
          "transient": {
            "deleting": false
          }
        },
        "gather": {
          "logged": 1614105563860
        }
      }
    },
    {
      "cell_type": "code",
      "source": [
        "best_run.download_files(prefix='outputs/', output_directory='./')"
      ],
      "outputs": [],
      "execution_count": null,
      "metadata": {
        "collapsed": true,
        "jupyter": {
          "source_hidden": false,
          "outputs_hidden": false
        },
        "nteract": {
          "transient": {
            "deleting": false
          }
        },
        "gather": {
          "logged": 1614105567726
        }
      }
    },
    {
      "cell_type": "code",
      "source": [
        "training_input = automl_run.get_details()['inputDatasets'][0]\r\n",
        "validation_input = automl_run.get_details()['inputDatasets'][1]\r\n",
        "print(training_input)"
      ],
      "outputs": [],
      "execution_count": null,
      "metadata": {
        "collapsed": true,
        "jupyter": {
          "source_hidden": false,
          "outputs_hidden": false
        },
        "nteract": {
          "transient": {
            "deleting": false
          }
        },
        "gather": {
          "logged": 1614105574154
        }
      }
    },
    {
      "cell_type": "code",
      "source": [
        "training_ds= training_input['dataset']\r\n",
        "validation_ds = validation_input['dataset']"
      ],
      "outputs": [],
      "execution_count": null,
      "metadata": {
        "collapsed": true,
        "jupyter": {
          "source_hidden": false,
          "outputs_hidden": false
        },
        "nteract": {
          "transient": {
            "deleting": false
          }
        },
        "gather": {
          "logged": 1614105577494
        }
      }
    },
    {
      "cell_type": "code",
      "source": [
        "from azureml.train.automl.runtime.automl_explain_utilities import automl_setup_model_explanations\r\n",
        "\r\n",
        "x_train = training_ds.drop_columns('target')\r\n",
        "y_train = training_ds.keep_columns('target')\r\n",
        "x_test = validation_ds.drop_columns('target')\r\n",
        "automl_explainer_setup_obj = automl_setup_model_explanations(\r\n",
        "                                            best_model, \r\n",
        "                                            X=x_train,y=y_train,\r\n",
        "                                            task='regression',\r\n",
        "                                            features=['0', '1', '2',\r\n",
        "                                            '3', '4', '5', '6', '7',\r\n",
        "                                            '8', '9'],\r\n",
        "                                            X_test=x_test\r\n",
        "                                            )"
      ],
      "outputs": [],
      "execution_count": null,
      "metadata": {
        "collapsed": true,
        "jupyter": {
          "source_hidden": false,
          "outputs_hidden": false
        },
        "nteract": {
          "transient": {
            "deleting": false
          }
        },
        "gather": {
          "logged": 1614105584873
        }
      }
    },
    {
      "cell_type": "code",
      "source": [
        "from azureml.interpret import MimicWrapper\r\n",
        "\r\n",
        "# Initialize the Mimic Explainer\r\n",
        "mimic_explainer = MimicWrapper(ws, automl_explainer_setup_obj.automl_estimator,\r\n",
        "                         explainable_model=automl_explainer_setup_obj.surrogate_model, \r\n",
        "                         init_dataset=automl_explainer_setup_obj.X_transform, run=automl_run,\r\n",
        "                         features=automl_explainer_setup_obj.engineered_feature_names, \r\n",
        "                         feature_maps=[automl_explainer_setup_obj.feature_map],\r\n",
        "                         classes=automl_explainer_setup_obj.classes,\r\n",
        "                         explainer_kwargs=automl_explainer_setup_obj.surrogate_model_params)"
      ],
      "outputs": [],
      "execution_count": null,
      "metadata": {
        "collapsed": true,
        "jupyter": {
          "source_hidden": false,
          "outputs_hidden": false
        },
        "nteract": {
          "transient": {
            "deleting": false
          }
        },
        "gather": {
          "logged": 1614105590696
        }
      }
    },
    {
      "cell_type": "code",
      "source": [
        "from azureml.interpret.scoring.scoring_explainer import TreeScoringExplainer, save\r\n",
        "\r\n",
        "# Initialize the ScoringExplainer\r\n",
        "scoring_explainer = TreeScoringExplainer(mimic_explainer.explainer, feature_maps=[automl_explainer_setup_obj.feature_map])\r\n",
        "\r\n",
        "# Pickle scoring explainer locally\r\n",
        "save(scoring_explainer, directory='outputs', exist_ok=True)"
      ],
      "outputs": [],
      "execution_count": null,
      "metadata": {
        "collapsed": true,
        "jupyter": {
          "source_hidden": false,
          "outputs_hidden": false
        },
        "nteract": {
          "transient": {
            "deleting": false
          }
        },
        "gather": {
          "logged": 1614105594187
        }
      }
    },
    {
      "cell_type": "code",
      "source": [
        "# Upload explainer to best run\r\n",
        "best_run.upload_file('outputs/scoring_explainer.pkl','outputs/scoring_explainer.pkl')"
      ],
      "outputs": [],
      "execution_count": null,
      "metadata": {
        "collapsed": true,
        "jupyter": {
          "source_hidden": false,
          "outputs_hidden": false
        },
        "nteract": {
          "transient": {
            "deleting": false
          }
        },
        "gather": {
          "logged": 1614105766474
        }
      }
    },
    {
      "cell_type": "code",
      "source": [
        "# Name of the model\r\n",
        "best_model.steps[1][0]"
      ],
      "outputs": [],
      "execution_count": null,
      "metadata": {
        "collapsed": false,
        "jupyter": {
          "source_hidden": false,
          "outputs_hidden": false
        },
        "nteract": {
          "transient": {
            "deleting": false
          }
        },
        "gather": {
          "logged": 1614106546947
        }
      }
    },
    {
      "cell_type": "code",
      "source": [
        "import azureml.core\r\n",
        "\r\n",
        "best_run.register_model(model_name='automl_diabetes',\r\n",
        "                               model_path=\"outputs\",\r\n",
        "                               tags={'type': 'regression', 'model': best_model.steps[1][0]},\r\n",
        "                               model_framework=f\"AutoML\",\r\n",
        "                               model_framework_version=azureml.core.VERSION, # Although model may be trained with the latest version\r\n",
        "                               datasets=[(\"training data\", training_ds),(\"validation data\", validation_ds)])\r\n"
      ],
      "outputs": [],
      "execution_count": null,
      "metadata": {
        "collapsed": true,
        "jupyter": {
          "source_hidden": false,
          "outputs_hidden": false
        },
        "nteract": {
          "transient": {
            "deleting": false
          }
        },
        "gather": {
          "logged": 1614106704678
        }
      }
    },
    {
      "cell_type": "code",
      "source": [
        "# Feature names\r\n",
        "# https://docs.microsoft.com/en-us/python/api/azureml-automl-runtime/azureml.automl.runtime.featurization.data_transformer.datatransformer?view=azure-ml-py#attributes\r\n",
        "list(best_model[0].get_column_names_and_types.keys())"
      ],
      "outputs": [],
      "execution_count": null,
      "metadata": {
        "collapsed": true,
        "jupyter": {
          "source_hidden": false,
          "outputs_hidden": false
        },
        "nteract": {
          "transient": {
            "deleting": false
          }
        },
        "gather": {
          "logged": 1614107661395
        }
      }
    }
  ],
  "metadata": {
    "kernelspec": {
      "name": "python3-azureml",
      "language": "python",
      "display_name": "Python 3.6 - AzureML"
    },
    "language_info": {
      "name": "python",
      "version": "3.6.9",
      "mimetype": "text/x-python",
      "codemirror_mode": {
        "name": "ipython",
        "version": 3
      },
      "pygments_lexer": "ipython3",
      "nbconvert_exporter": "python",
      "file_extension": ".py"
    },
    "nteract": {
      "version": "nteract-front-end@1.0.0"
    },
    "kernel_info": {
      "name": "python3-azureml"
    }
  },
  "nbformat": 4,
  "nbformat_minor": 2
}