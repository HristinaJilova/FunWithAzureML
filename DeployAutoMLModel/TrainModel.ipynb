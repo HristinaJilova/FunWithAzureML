{
  "cells": [
    {
      "cell_type": "code",
      "source": [
        "# Create the training dataset\r\n",
        "from sklearn.datasets import load_diabetes\r\n",
        "import pandas as pd\r\n",
        "\r\n",
        "features, target = load_diabetes(return_X_y=True)\r\n",
        "diabetes_df = pd.DataFrame(features)\r\n",
        "diabetes_df['target'] = target"
      ],
      "outputs": [],
      "execution_count": null,
      "metadata": {
        "gather": {
          "logged": 1614170861965
        }
      }
    },
    {
      "cell_type": "code",
      "source": [
        "# Store and register as dataset\r\n",
        "from azureml.core import Workspace, Dataset\r\n",
        "\r\n",
        "ws = Workspace.from_config()\r\n",
        "dstore = ws.get_default_datastore()\r\n",
        "ds = Dataset.Tabular.register_pandas_dataframe(\r\n",
        "    dataframe=diabetes_df,\r\n",
        "    target=(dstore,\"/samples/diabetes\"),\r\n",
        "    name=\"diabetes\",\r\n",
        "    description=\"The sklearn diabetes dataset\")"
      ],
      "outputs": [],
      "execution_count": null,
      "metadata": {
        "collapsed": true,
        "jupyter": {
          "source_hidden": false,
          "outputs_hidden": false
        },
        "nteract": {
          "transient": {
            "deleting": false
          }
        },
        "gather": {
          "logged": 1614170875225
        }
      }
    },
    {
      "cell_type": "code",
      "source": [
        "# Get the computation target for training\r\n",
        "compute_target = ws.compute_targets[\"cpu-cluster\"]"
      ],
      "outputs": [],
      "execution_count": null,
      "metadata": {
        "collapsed": true,
        "jupyter": {
          "source_hidden": false,
          "outputs_hidden": false
        },
        "nteract": {
          "transient": {
            "deleting": false
          }
        },
        "gather": {
          "logged": 1614170885740
        }
      }
    },
    {
      "cell_type": "code",
      "source": [
        "# Create automl experiment\r\n",
        "from azureml.train.automl import AutoMLConfig\r\n",
        "\r\n",
        "# Split dataset\r\n",
        "train_ds,validate_ds = ds.random_split(percentage=0.8, seed=1337)\r\n",
        "\r\n",
        "experiment_config = AutoMLConfig(\r\n",
        "    validation_data = validate_ds,\r\n",
        "    training_data = train_ds,\r\n",
        "    label_column_name = \"target\",\r\n",
        "    task = \"regression\",\r\n",
        "    compute_target = compute_target,\r\n",
        "    primary_metric = 'r2_score',\r\n",
        "    experiment_timeout_hours = 0.25,\r\n",
        "    model_explainability = True  # This is the default value\r\n",
        ")"
      ],
      "outputs": [],
      "execution_count": null,
      "metadata": {
        "collapsed": true,
        "jupyter": {
          "source_hidden": false,
          "outputs_hidden": false
        },
        "nteract": {
          "transient": {
            "deleting": false
          }
        },
        "gather": {
          "logged": 1614170889394
        }
      }
    },
    {
      "cell_type": "code",
      "source": [
        "# Let it train\r\n",
        "from azureml.core.experiment import Experiment\r\n",
        "\r\n",
        "my_experiment = Experiment(ws, 'auto-ml-deployment-experiment')\r\n",
        "run = my_experiment.submit(experiment_config, show_output=True)"
      ],
      "outputs": [],
      "execution_count": null,
      "metadata": {
        "collapsed": true,
        "jupyter": {
          "source_hidden": false,
          "outputs_hidden": false
        },
        "nteract": {
          "transient": {
            "deleting": false
          }
        },
        "gather": {
          "logged": 1614171067812
        }
      }
    }
  ],
  "metadata": {
    "kernelspec": {
      "name": "python3-azureml",
      "language": "python",
      "display_name": "Python 3.6 - AzureML"
    },
    "language_info": {
      "name": "python",
      "version": "3.6.9",
      "mimetype": "text/x-python",
      "codemirror_mode": {
        "name": "ipython",
        "version": 3
      },
      "pygments_lexer": "ipython3",
      "nbconvert_exporter": "python",
      "file_extension": ".py"
    },
    "kernel_info": {
      "name": "python3-azureml"
    },
    "nteract": {
      "version": "nteract-front-end@1.0.0"
    }
  },
  "nbformat": 4,
  "nbformat_minor": 2
}