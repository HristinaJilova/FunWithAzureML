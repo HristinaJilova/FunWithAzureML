{
  "cells": [
    {
      "cell_type": "code",
      "source": [
        "# Variables (Change them to match your environment)\r\n",
        "compute_cluster_name = \"cpu-cluster\"\r\n",
        "file_dataset_name = \"product-images\"\r\n",
        "output_folder = \"r-script-outputs/\" # This folder will be created in the default datastore to store the outputs of the R script."
      ],
      "outputs": [],
      "execution_count": null,
      "metadata": {
        "collapsed": true,
        "jupyter": {
          "source_hidden": false,
          "outputs_hidden": false
        },
        "nteract": {
          "transient": {
            "deleting": false
          }
        },
        "gather": {
          "logged": 1620668937094
        }
      }
    },
    {
      "cell_type": "code",
      "source": [
        "import azureml.core\r\n",
        "from azureml.core import Workspace\r\n",
        "\r\n",
        "# Check core SDK version number\r\n",
        "print(\"SDK version:\", azureml.core.VERSION)\r\n",
        "\r\n",
        "# Get reference to workspace\r\n",
        "ws = Workspace.from_config()\r\n",
        "print('Workspace name: ' + ws.name, \r\n",
        "      'Azure region: ' + ws.location, \r\n",
        "      'Subscription id: ' + ws.subscription_id, \r\n",
        "      'Resource group: ' + ws.resource_group, sep = '\\n')"
      ],
      "outputs": [],
      "execution_count": null,
      "metadata": {
        "gather": {
          "logged": 1620668937667
        }
      }
    },
    {
      "cell_type": "code",
      "source": [
        "# Get reference to your compute cluster\r\n",
        "compute_target = ws.compute_targets[compute_cluster_name]\r\n",
        "max_cluster_nodes = compute_target.scale_settings.maximum_node_count\r\n",
        "\r\n",
        "print(f\"Got reference to {compute_target.name} with max nodes {max_cluster_nodes}\")"
      ],
      "outputs": [],
      "execution_count": null,
      "metadata": {
        "collapsed": true,
        "jupyter": {
          "source_hidden": false,
          "outputs_hidden": false
        },
        "nteract": {
          "transient": {
            "deleting": false
          }
        },
        "gather": {
          "logged": 1620668938380
        }
      }
    },
    {
      "cell_type": "code",
      "source": [
        "# For debuging purposes, I set my cluster to have 1 node hot stand by\r\n",
        "# and limited parallelization to a single node.\r\n",
        "max_cluster_nodes = 1"
      ],
      "outputs": [],
      "execution_count": null,
      "metadata": {
        "collapsed": true,
        "jupyter": {
          "source_hidden": false,
          "outputs_hidden": false
        },
        "nteract": {
          "transient": {
            "deleting": false
          }
        },
        "gather": {
          "logged": 1620668939210
        }
      }
    },
    {
      "cell_type": "code",
      "source": [
        "# Create reference to the dataset\r\n",
        "from azureml.data.dataset_consumption_config import DatasetConsumptionConfig\r\n",
        "from azureml.pipeline.core import PipelineParameter\r\n",
        "\r\n",
        "dataset = ws.datasets[file_dataset_name]\r\n",
        "pipeline_param = PipelineParameter(name=\"dataset_param\", default_value=dataset)\r\n",
        "input_dataset = DatasetConsumptionConfig(\"dataset_consumption_config\", pipeline_param).as_mount()"
      ],
      "outputs": [],
      "execution_count": null,
      "metadata": {
        "collapsed": true,
        "jupyter": {
          "source_hidden": false,
          "outputs_hidden": false
        },
        "nteract": {
          "transient": {
            "deleting": false
          }
        },
        "gather": {
          "logged": 1620668942917
        }
      }
    },
    {
      "cell_type": "code",
      "source": [
        "# Create an output folder in default datastore to store results.\r\n",
        "from azureml.data import OutputFileDatasetConfig\r\n",
        "# To find more help\r\n",
        "# help(OutputFileDatasetConfig)\r\n",
        "datastore = ws.get_default_datastore()\r\n",
        "\r\n",
        "# Create an output folder\r\n",
        "output = OutputFileDatasetConfig(destination=(datastore, output_folder))"
      ],
      "outputs": [],
      "execution_count": null,
      "metadata": {
        "collapsed": true,
        "jupyter": {
          "source_hidden": false,
          "outputs_hidden": false
        },
        "nteract": {
          "transient": {
            "deleting": false
          }
        },
        "gather": {
          "logged": 1620668943267
        }
      }
    },
    {
      "cell_type": "code",
      "source": [
        "# Create environment to execute \r\n",
        "from azureml.core import Environment\r\n",
        "from azureml.core.runconfig import CondaDependencies, DEFAULT_CPU_IMAGE\r\n",
        "from azureml.core.environment import RSection, RCranPackage\r\n",
        "\r\n",
        "r_env = Environment(name=\"renv\")\r\n",
        "r_env.docker.base_image = DEFAULT_CPU_IMAGE\r\n",
        "r_env.r = RSection()    # R details with required packages\r\n",
        "\r\n",
        "opt_cran_package = RCranPackage()\r\n",
        "opt_cran_package.name = \"optparse\"\r\n",
        "\r\n",
        "r_env.r.cran_packages = [opt_cran_package]\r\n",
        "\r\n",
        "r_env.python.conda_dependencies= CondaDependencies() # This should have the azureml-defaults in it\r\n",
        "r_env.python.conda_dependencies.set_python_version(\"3.7\")"
      ],
      "outputs": [],
      "execution_count": null,
      "metadata": {
        "collapsed": true,
        "jupyter": {
          "source_hidden": false,
          "outputs_hidden": false
        },
        "nteract": {
          "transient": {
            "deleting": false
          }
        },
        "gather": {
          "logged": 1620668943333
        }
      }
    },
    {
      "cell_type": "code",
      "source": [
        "# Create the parallel run step for the pipeline\r\n",
        "from azureml.pipeline.steps import ParallelRunStep, ParallelRunConfig\r\n",
        "\r\n",
        "# https://docs.microsoft.com/en-us/python/api/azureml-contrib-pipeline-steps/azureml.contrib.pipeline.steps.parallelrunconfig?view=azure-ml-py\r\n",
        "\r\n",
        "parallel_run_config = ParallelRunConfig(\r\n",
        "    source_directory=\"scripts\", # The folder containing the scripts\r\n",
        "    entry_script= \"batch_wrapper.py\",  # the wrapper script to execut the R code\r\n",
        "    mini_batch_size= 2, # How many files to run in each batch\r\n",
        "    error_threshold=5,\r\n",
        "    output_action='summary_only', # User script is expected to store the output by itself. An output row is still expected for each successful input item processed.\r\n",
        "    environment=r_env,\r\n",
        "    compute_target=compute_target, \r\n",
        "    node_count= max_cluster_nodes,\r\n",
        "    # process_count_per_node default is the number of cores\r\n",
        ")\r\n",
        "\r\n",
        "parallel_run_step = ParallelRunStep(\r\n",
        "    name='parallel-r-script',\r\n",
        "    inputs=[input_dataset],\r\n",
        "    arguments= [\"--r-output\", output],\r\n",
        "    parallel_run_config=parallel_run_config,\r\n",
        "    allow_reuse=False\r\n",
        ")"
      ],
      "outputs": [],
      "execution_count": null,
      "metadata": {
        "collapsed": true,
        "jupyter": {
          "source_hidden": false,
          "outputs_hidden": false
        },
        "nteract": {
          "transient": {
            "deleting": false
          }
        },
        "gather": {
          "logged": 1620668943580
        }
      }
    },
    {
      "cell_type": "code",
      "source": [
        "from azureml.pipeline.core import Pipeline\r\n",
        "from azureml.core import Experiment\r\n",
        "\r\n",
        "pipeline = Pipeline(workspace=ws, steps=[parallel_run_step])\r\n",
        "pipeline_run = Experiment(ws, 'parallel-r-pipeline').submit(pipeline)"
      ],
      "outputs": [],
      "execution_count": null,
      "metadata": {
        "collapsed": true,
        "jupyter": {
          "source_hidden": false,
          "outputs_hidden": false
        },
        "nteract": {
          "transient": {
            "deleting": false
          }
        },
        "gather": {
          "logged": 1620668952883
        }
      }
    },
    {
      "cell_type": "code",
      "source": [
        "from azureml.widgets import RunDetails\r\n",
        "RunDetails(pipeline_run).show()"
      ],
      "outputs": [],
      "execution_count": null,
      "metadata": {
        "collapsed": true,
        "jupyter": {
          "source_hidden": false,
          "outputs_hidden": false
        },
        "nteract": {
          "transient": {
            "deleting": false
          }
        },
        "gather": {
          "logged": 1620668953183
        }
      }
    }
  ],
  "metadata": {
    "kernelspec": {
      "name": "python3-azureml",
      "language": "python",
      "display_name": "Python 3.6 - AzureML"
    },
    "language_info": {
      "name": "python",
      "version": "3.6.9",
      "mimetype": "text/x-python",
      "codemirror_mode": {
        "name": "ipython",
        "version": 3
      },
      "pygments_lexer": "ipython3",
      "nbconvert_exporter": "python",
      "file_extension": ".py"
    },
    "kernel_info": {
      "name": "python3-azureml"
    },
    "microsoft": {
      "host": {
        "AzureML": {
          "notebookHasBeenCompleted": true
        }
      }
    },
    "nteract": {
      "version": "nteract-front-end@1.0.0"
    }
  },
  "nbformat": 4,
  "nbformat_minor": 2
}