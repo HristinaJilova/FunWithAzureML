{
 "cells": [
  {
   "cell_type": "code",
   "execution_count": null,
   "metadata": {
    "gather": {
     "logged": 1606401426842
    }
   },
   "outputs": [],
   "source": [
    "import argparse\r\n",
    "import datetime\r\n",
    "\r\n",
    "parser = argparse.ArgumentParser()\r\n",
    "parser.add_argument('--country', type=str, dest='country', help='Country to train the model for')\r\n",
    "parser.add_argument('--target-day', type=lambda s: datetime.datetime.strptime(s, '%Y-%m-%d'), dest='target_day', help='The day to use for training')\r\n",
    "\r\n",
    "args = parser.parse_args(['--country','GR','--target-day','2020-11-26'])\r\n",
    "\r\n",
    "file_path=f\"ChurnDataset/{args.country}/{args.target_day.strftime('%Y/%m/%d')}/\"\r\n",
    "print(file_path)"
   ]
  },
  {
   "cell_type": "code",
   "execution_count": null,
   "metadata": {
    "jupyter": {
     "outputs_hidden": false,
     "source_hidden": false
    },
    "nteract": {
     "transient": {
      "deleting": false
     }
    }
   },
   "outputs": [],
   "source": []
  }
 ],
 "metadata": {
  "kernel_info": {
   "name": "python3-azureml"
  },
  "kernelspec": {
   "display_name": "Python 3.6 - AzureML",
   "language": "python",
   "name": "python3-azureml"
  },
  "language_info": {
   "codemirror_mode": {
    "name": "ipython",
    "version": 3
   },
   "file_extension": ".py",
   "mimetype": "text/x-python",
   "name": "python",
   "nbconvert_exporter": "python",
   "pygments_lexer": "ipython3",
   "version": "3.6.9"
  },
  "nteract": {
   "version": "nteract-front-end@1.0.0"
  }
 },
 "nbformat": 4,
 "nbformat_minor": 2
}
