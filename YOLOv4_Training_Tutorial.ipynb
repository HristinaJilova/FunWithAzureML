{
  "cells": [
    {
      "cell_type": "markdown",
      "metadata": {
        "id": "iZULaGX7_H1u"
      },
      "source": [
        "***bold text***# Running a YOLOv4 Object Detector with Darknet in the Cloud! (GPU ENABLED)\n",
        "This tutorial will help you build YOLOv4 easily in the cloud with GPU enabled so that you can run object detections in milliseconds!"
      ]
    },
    {
      "cell_type": "markdown",
      "metadata": {
        "id": "O2w9w1Ye_nk1"
      },
      "source": [
        "## Use a compute that has GPU\r\n"
      ]
    },
    {
      "cell_type": "markdown",
      "metadata": {
        "id": "gE3azXoR_pWi"
      },
      "source": [
        "# Step 2: Cloning and Building Darknet\n",
        "The following cells will clone darknet from AlexeyAB's famous repository, adjust the Makefile to enable OPENCV and GPU for darknet and then build darknet.\n",
        "\n",
        "Do not worry about any warnings when you run the '!make' cell!"
      ]
    },
    {
      "cell_type": "code",
      "execution_count": null,
      "metadata": {
        "colab": {
          "base_uri": "https://localhost:8080/",
          "height": 35
        },
        "id": "68eMertgIxaB",
        "outputId": "9e7cd7bf-45e8-478e-e52b-bec9919e7952"
      },
      "outputs": [],
      "source": [
        "# clone darknet repo\n",
        "!git clone https://github.com/AlexeyAB/darknet"
      ]
    },
    {
      "cell_type": "code",
      "execution_count": null,
      "metadata": {
        "colab": {
          "base_uri": "https://localhost:8080/",
          "height": 35
        },
        "id": "xym8_m8CIyXK",
        "outputId": "480d2c73-847d-45cf-d2df-f863b94d30c7"
      },
      "outputs": [],
      "source": [
        "# change makefile to have GPU and OPENCV enabled\n",
        "%cd darknet\n",
        "!sed -i 's/OPENCV=0/OPENCV=1/' Makefile\n",
        "!sed -i 's/GPU=0/GPU=1/' Makefile\n",
        "!sed -i 's/CUDNN=0/CUDNN=1/' Makefile\n",
        "!sed -i 's/CUDNN_HALF=0/CUDNN_HALF=1/' Makefile"
      ]
    },
    {
      "cell_type": "code",
      "execution_count": null,
      "metadata": {
        "colab": {
          "base_uri": "https://localhost:8080/",
          "height": 87
        },
        "id": "5uloUwmUKF05",
        "outputId": "459408c6-93b7-4b4f-c2fc-c71e1d8f6552"
      },
      "outputs": [],
      "source": [
        "# verify CUDA\n",
        "!/usr/local/cuda/bin/nvcc --version"
      ]
    },
    {
      "cell_type": "code",
      "execution_count": null,
      "metadata": {
        "colab": {
          "base_uri": "https://localhost:8080/",
          "height": 1000
        },
        "id": "q2Jjv0yRKLPe",
        "outputId": "f02743d8-8cd0-46e6-89cd-94f6461ebbc8"
      },
      "outputs": [],
      "source": [
        "# make darknet (builds darknet so that you can then use the darknet executable file to run or train object detectors)\n",
        "!make"
      ]
    },
    {
      "cell_type": "markdown",
      "metadata": {
        "id": "ikgv38AdKldo"
      },
      "source": [
        "# Step 3: Download pre-trained YOLOv4 weights\n",
        "YOLOv4 has been trained already on the coco dataset which has 80 classes that it can predict. We will grab these pretrained weights so that we can run YOLOv4 on these pretrained classes and get detections."
      ]
    },
    {
      "cell_type": "code",
      "execution_count": null,
      "metadata": {
        "colab": {
          "base_uri": "https://localhost:8080/",
          "height": 319
        },
        "id": "vVtgyY_ELoSf",
        "outputId": "4af76309-0e35-406a-cf67-8f3d45933dce"
      },
      "outputs": [],
      "source": [
        "!wget https://github.com/AlexeyAB/darknet/releases/download/darknet_yolo_v3_optimal/yolov4.weights"
      ]
    },
    {
      "cell_type": "markdown",
      "metadata": {
        "id": "xn7TpB-UMBWf"
      },
      "source": [
        "# Step 4: Define Helper Functions\n",
        "\n",
        "These three functions are helper functions that will allow you to show the image in your Colab Notebook after running your detections, as well as upload and download images to and from your Cloud VM."
      ]
    },
    {
      "cell_type": "code",
      "execution_count": null,
      "metadata": {
        "id": "G9Fv0wjCMPYY"
      },
      "outputs": [],
      "source": [
        "# define helper functions\n",
        "def imShow(path):\n",
        "  import cv2\n",
        "  import matplotlib.pyplot as plt\n",
        "  %matplotlib inline\n",
        "\n",
        "  image = cv2.imread(path)\n",
        "  height, width = image.shape[:2]\n",
        "  resized_image = cv2.resize(image,(3*width, 3*height), interpolation = cv2.INTER_CUBIC)\n",
        "\n",
        "  fig = plt.gcf()\n",
        "  fig.set_size_inches(18, 10)\n",
        "  plt.axis(\"off\")\n",
        "  plt.imshow(cv2.cvtColor(resized_image, cv2.COLOR_BGR2RGB))\n",
        "  plt.show()\n",
        "\n",
        "# use this to upload files\n",
        "def upload():\n",
        "  from google.colab import files\n",
        "  uploaded = files.upload() \n",
        "  for name, data in uploaded.items():\n",
        "    with open(name, 'wb') as f:\n",
        "      f.write(data)\n",
        "      print ('saved file', name)\n",
        "\n",
        "# use this to download a file  \n",
        "def download(path):\n",
        "  from google.colab import files\n",
        "  files.download(path)"
      ]
    },
    {
      "cell_type": "markdown",
      "metadata": {
        "id": "zROXpfwcMcJW"
      },
      "source": [
        "# Step 5: Run Your Detections with Darknet and YOLOv4!\n",
        "Darknet is now built and ready to run detections using YOLOv4 in the cloud! You can find out which sorts of classes the pre-trained YOLOv4 weights can detect by clicking here. [COCO CLASSES](http://cocodataset.org/#explore)\n",
        "\n",
        "The object detector can be run using the following command\n",
        "```bash\n",
        "!./darknet detector test <path to .data file> <path to config> <path to weights> <path to image>\n",
        "```\n",
        "Darknet comes with a few images already installed in the darknet/data/ folder.\n",
        "\n",
        "**Note:** After running detections OpenCV can't open the image instantly in the cloud so we must run: \n",
        "```bash\n",
        "imShow('predictions.jpg')\n",
        "```\n",
        "This will output the image with the detections shown. The most recent detections are always saved to 'predictions.jpg'\n",
        "\n",
        "Try out the examples below for yourself!"
      ]
    },
    {
      "cell_type": "code",
      "execution_count": null,
      "metadata": {
        "colab": {
          "base_uri": "https://localhost:8080/",
          "height": 1000
        },
        "id": "jESyRhd4Nd38",
        "outputId": "8a9156b3-2983-4387-fa06-6c9310f1aef7"
      },
      "outputs": [],
      "source": [
        "# run darknet detection on test images\n",
        "!./darknet detector test cfg/coco.data cfg/yolov4.cfg yolov4.weights data/person.jpg"
      ]
    },
    {
      "cell_type": "code",
      "execution_count": null,
      "metadata": {
        "colab": {
          "base_uri": "https://localhost:8080/",
          "height": 575
        },
        "id": "GQQrAMdXN22a",
        "outputId": "3c062bad-6099-4a8f-d9bc-1c96653e8442"
      },
      "outputs": [],
      "source": [
        "# show image using our helper function\n",
        "imShow('predictions.jpg')"
      ]
    },
    {
      "cell_type": "code",
      "execution_count": null,
      "metadata": {
        "colab": {
          "base_uri": "https://localhost:8080/",
          "height": 185
        },
        "id": "32MX4xIkUyKM",
        "outputId": "1d480c92-c162-46c8-9982-9a94eceff655"
      },
      "outputs": [],
      "source": [
        "# This stops 'Run all' at this cell by causing an error\n",
        "assert False"
      ]
    },
    {
      "cell_type": "markdown",
      "metadata": {
        "id": "F6W6MlHRVEfA"
      },
      "source": [
        "# Step 6: Uploading Local or Google Drive Files to Use\n",
        "You may want to run detections on more than just the images within the darknet/data/ folder. This step will show you how to upload local or Google Drive files to the cloud VM and run detections on them!"
      ]
    },
    {
      "cell_type": "markdown",
      "metadata": {
        "id": "yqDN3aOWWCzE"
      },
      "source": []
    },
    {
      "cell_type": "code",
      "execution_count": null,
      "metadata": {
        "id": "EZouo3ZDWU8q"
      },
      "outputs": [],
      "source": [
        "# try out the upload helper function! (I uploaded an image called highway.jpg, upload whatever you want!)\n",
        "%cd ..\n",
        "upload()\n",
        "%cd darknet"
      ]
    },
    {
      "cell_type": "code",
      "execution_count": null,
      "metadata": {
        "id": "uRvm2x8OYZd3"
      },
      "outputs": [],
      "source": [
        "# run darknet with YOLOv4 on your personal image! (note yours will not be called highway.jpg so change the name)\n",
        "!./darknet detector test cfg/coco.data cfg/yolov4.cfg yolov4.weights ../highway.jpg\n",
        "imShow('predictions.jpg')"
      ]
    },
    {
      "cell_type": "markdown",
      "metadata": {
        "id": "fGKcGR_kZAU7"
      },
      "source": []
    },
    {
      "cell_type": "code",
      "execution_count": null,
      "metadata": {
        "colab": {
          "base_uri": "https://localhost:8080/",
          "height": 143
        },
        "id": "uMLpWp-DZSZY",
        "outputId": "6c8a4d31-a38e-4036-c883-76b1e0fc5114"
      },
      "outputs": [],
      "source": [
        "%cd ..\n",
        "from google.colab import drive\n",
        "drive.mount('/content/gdrive')"
      ]
    },
    {
      "cell_type": "code",
      "execution_count": null,
      "metadata": {
        "colab": {
          "base_uri": "https://localhost:8080/",
          "height": 35
        },
        "id": "bBFiu7rFZdmU",
        "outputId": "24c52003-9d19-4227-eb8f-e55d4ce8dec7"
      },
      "outputs": [],
      "source": [
        "# this creates a symbolic link so that now the path /content/gdrive/My\\ Drive/ is equal to /mydrive\n",
        "!ln -s /content/gdrive/My\\ Drive/ /mydrive\n",
        "!ls /mydrive"
      ]
    },
    {
      "cell_type": "code",
      "execution_count": null,
      "metadata": {
        "colab": {
          "base_uri": "https://localhost:8080/",
          "height": 35
        },
        "id": "JafIRIU0Z6UQ",
        "outputId": "b1640ae1-f848-4756-a5f1-748f2265848b"
      },
      "outputs": [],
      "source": [
        "# cd back into the darknet folder to run detections\n",
        "%cd darknet"
      ]
    },
    {
      "cell_type": "code",
      "execution_count": null,
      "metadata": {
        "id": "g3yVsww8aCn8"
      },
      "outputs": [],
      "source": [
        "# run detections on image within your Google Drive!\n",
        "!./darknet detector test cfg/coco.data cfg/yolov4.cfg yolov4.weights /mydrive/images/street.jpg\n",
        "imShow('predictions.jpg')"
      ]
    },
    {
      "cell_type": "code",
      "execution_count": null,
      "metadata": {
        "id": "zEJPj5HQa901"
      },
      "outputs": [],
      "source": [
        "# LOCAL MACHINE DOWNLOAD\n",
        "# if you get an error first run then run it again and it should work\n",
        "download('predictions.jpg')"
      ]
    },
    {
      "cell_type": "code",
      "execution_count": null,
      "metadata": {
        "id": "R_HooCprbDKZ"
      },
      "outputs": [],
      "source": [
        "# GOOGLE DRIVE DOWNLOAD\n",
        "# note that I can change what the image name is saved as (I am saving it as detection1.jpg)\n",
        "!cp predictions.jpg /mydrive/images/detection1.jpg"
      ]
    },
    {
      "cell_type": "markdown",
      "metadata": {
        "id": "AoxKr73dgd3i"
      },
      "source": [
        "# Step 7: Running YOLOv4 on Video in the Cloud!\n",
        "\n",
        "You can also run YOLOv4 object detections on video in your Google Colab VM. Follow the cells below to see how to run videos from your local machine or from your Google Drive! "
      ]
    },
    {
      "cell_type": "markdown",
      "metadata": {
        "id": "RSVop1HHkFOo"
      },
      "source": [
        "## Local Machine Video\n",
        "Here is how to upload video from local machine, run detector and then download video showing detections."
      ]
    },
    {
      "cell_type": "code",
      "execution_count": null,
      "metadata": {
        "id": "EmKMPcmDfF7X"
      },
      "outputs": [],
      "source": [
        "# upload the video of your choosing! (Feel free to use the same video I do, it is in the Github repository)\n",
        "upload()"
      ]
    },
    {
      "cell_type": "code",
      "execution_count": null,
      "metadata": {
        "id": "Lgf-ZUbqbb4K"
      },
      "outputs": [],
      "source": [
        "!./darknet detector demo cfg/coco.data cfg/yolov4.cfg yolov4.weights -dont_show test.mp4 -i 0 -out_filename results.avi"
      ]
    },
    {
      "cell_type": "code",
      "execution_count": null,
      "metadata": {
        "id": "fkPm6t6yj6Ky"
      },
      "outputs": [],
      "source": [
        "# download the video with detections shown\n",
        "download('results.avi')"
      ]
    },
    {
      "cell_type": "markdown",
      "metadata": {
        "id": "nPskTMswkVmS"
      },
      "source": [
        "## Google Drive Video\n",
        "Here is how to run detector on video stored in Google Drive and save video straight to Google drive as well!\n",
        "\n",
        "**Note:** You will have to change the paths to where your video is stored within your Google Drive and to where you want the resulting video stored. I have a videos folder in the home directory of my Google Drive."
      ]
    },
    {
      "cell_type": "code",
      "execution_count": null,
      "metadata": {
        "id": "rUSlB1hRkjhX"
      },
      "outputs": [],
      "source": [
        "!./darknet detector demo cfg/coco.data cfg/yolov4.cfg yolov4.weights -dont_show /mydrive/videos/test.mp4 -i 0 -out_filename /mydrive/videos/results.avi"
      ]
    },
    {
      "cell_type": "markdown",
      "metadata": {
        "id": "SSs6pVUwlDyj"
      },
      "source": [
        "# Step 8: Customize YOLOv4 with the different command line flags.\n",
        "Darknet and YOLOv4 have a lot of command line flags you can add to your '!./darknet detector ...' to allow it to be customizeable and flexible.\n",
        "\n",
        "I will show a few examples of these flags that you can take advantage of! Feel free to mix and match them together to customize your detections in any way you want."
      ]
    },
    {
      "cell_type": "markdown",
      "metadata": {
        "id": "kRr0itg5sJFc"
      },
      "source": [
        "## Threshold Flag\n",
        "There is a flag '-thresh' you can use to add a threshold for confidences on the detections.  Only detections with a confidence level above the threshold you set will be returned.\n",
        "\n",
        "In the example below we run darknet with YOLOv4 without a threshold on the test image dog.jpg. The image returns four detections, the lowest confidence being on the pottedplant with 33%.\n",
        "\n",
        "If we add the '-thresh 0.5' flag this will only output three detections as now pottedplant falls below the threshold and is ignored. \n",
        "\n",
        "Check it out below!"
      ]
    },
    {
      "cell_type": "code",
      "execution_count": null,
      "metadata": {
        "id": "bK2UB9h2st99"
      },
      "outputs": [],
      "source": [
        "# this is ran without the threshold flag set\n",
        "!./darknet detector test cfg/coco.data cfg/yolov4.cfg yolov4.weights data/dog.jpg\n",
        "imShow('predictions.jpg')"
      ]
    },
    {
      "cell_type": "code",
      "execution_count": null,
      "metadata": {
        "id": "nhPyF5wNtph7"
      },
      "outputs": [],
      "source": [
        "# same detections but ran with the threshold flag set to 0.5 (pottedplant is no longer detected!)\n",
        "!./darknet detector test cfg/coco.data cfg/yolov4.cfg yolov4.weights data/dog.jpg -thresh 0.5\n",
        "imShow('predictions.jpg')"
      ]
    },
    {
      "cell_type": "markdown",
      "metadata": {
        "id": "VJVZjOlbuAU4"
      },
      "source": [
        "## Output Bounding Box Coordinates\n",
        "You can output bounding box coordinates for each detection with the flag '-ext_output'. This external outputs flag will give you a few extra details about each detection within an image.\n",
        "\n",
        "Check it out below!"
      ]
    },
    {
      "cell_type": "code",
      "execution_count": null,
      "metadata": {
        "id": "ZljsbwXnubZc"
      },
      "outputs": [],
      "source": [
        "# darknet run with external output flag to print bounding box coordinates\n",
        "!./darknet detector test cfg/coco.data cfg/yolov4.cfg yolov4.weights data/person.jpg -ext_output\n",
        "imShow('predictions.jpg')"
      ]
    },
    {
      "cell_type": "markdown",
      "metadata": {
        "id": "ifqddnZ0yjCd"
      },
      "source": [
        "## Don't Show Image\n",
        "You can add the flag '-dont_show' to not have the image outputted after running darknet. This doesn't really affect anything when running in Colab as the image is unable to output properly straight from darknet anyways. However, by adding the -dont_show flag you will get rid of the following warning from showing.\n",
        "```\n",
        "Unable to init server: Could not connect: Connection refused\n",
        "\n",
        "(predictions:1850): Gtk-WARNING **: 17:01:00.687: cannot open display:\n",
        "```\n",
        "\n",
        "This is an important flag to have when running darknet with YOLOv4 on video as it will suppress having the video shown."
      ]
    },
    {
      "cell_type": "code",
      "execution_count": null,
      "metadata": {
        "id": "HjHJX_Md1YdU"
      },
      "outputs": [],
      "source": [
        "# running darknet with dont show flag set (no longer get warnings)\n",
        "!./darknet detector test cfg/coco.data cfg/yolov4.cfg yolov4.weights data/person.jpg -dont_show"
      ]
    },
    {
      "cell_type": "markdown",
      "metadata": {
        "id": "LPpfxAGA2Ldb"
      },
      "source": []
    },
    {
      "cell_type": "markdown",
      "metadata": {
        "id": "7jKaUSus6OPr"
      },
      "source": [
        "## Save Results to .JSON File\n",
        "Here is an example of saving the multiple image detections to a .JSON file."
      ]
    },
    {
      "cell_type": "code",
      "execution_count": null,
      "metadata": {
        "id": "BjbebMZZ50Zg"
      },
      "outputs": [],
      "source": [
        "!./darknet detector test cfg/coco.data cfg/yolov4.cfg yolov4.weights -ext_output -dont_show -out result.json < /mydrive/images.txt"
      ]
    },
    {
      "cell_type": "code",
      "execution_count": null,
      "metadata": {
        "id": "CWPWB_yICGlL"
      },
      "outputs": [],
      "source": [
        "download('result.json')"
      ]
    },
    {
      "cell_type": "markdown",
      "metadata": {
        "id": "xhh-N0GF8GC4"
      },
      "source": [
        "## Saving Results to a .txt File\n",
        "You can also save the results of running multiple images to a text file."
      ]
    },
    {
      "cell_type": "code",
      "execution_count": null,
      "metadata": {
        "id": "Fn3wzgCA8mv8"
      },
      "outputs": [],
      "source": [
        "!./darknet detector test cfg/coco.data cfg/yolov4.cfg yolov4.weights -dont_show -ext_output < /mydrive/images.txt > result.txt"
      ]
    },
    {
      "cell_type": "code",
      "execution_count": null,
      "metadata": {
        "id": "YLKxikH6CN22"
      },
      "outputs": [],
      "source": [
        "download('result.txt')"
      ]
    },
    {
      "cell_type": "markdown",
      "metadata": {
        "id": "qaONUTI2l4Sf"
      },
      "source": [
        "# How to Train Your Own YOLOv4 Custom Object Detector!\n",
        "Now comes the time to create your own custom YOLOv4 object detector to recognize any classes/objects you want!\n",
        "\n",
        "This requires a couple tricks and tips so make sure to follow along closely with the rest of the tutorial.\n",
        "\n",
        "In order to create a custom YOLOv4 detector we will need the following:\n",
        "\n",
        "*   Labeled Custom Dataset\n",
        "*   Custom .cfg file\n",
        "*   obj.data and obj.names files\n",
        "*   train.txt file (test.txt is optional here as well)"
      ]
    },
    {
      "cell_type": "markdown",
      "metadata": {
        "id": "9ket44SxkdBu"
      },
      "source": [
        "# Step 2: Moving Your Custom Datasets Into Your Cloud VM\n",
        "So now that you have your datasets properly formatted to be used for training and validation, we need to move them into this cloud VM so that when it comes the time we can actually train and validate our model.\n",
        "\n",
        "I recommend renaming the trainin dataset folder with your images and text files on your local machine to be called '**obj**' and then creating a .zip folder of the 'obj' folder. Then I recommend uploading the zip to your Google Drive. So you should now have obj.zip someplace in your Google drive. \n",
        "\n",
        "Do the same with your validation dataset but name it '**test**'. So you should now have **test.zip** also uploaded to your Google Drive.\n",
        "\n",
        "This will **greatly reduce** the time it takes to transfer our dataset into our cloud VM.\n",
        "\n",
        "Now we can copy in the zips and unzip them in your cloud VM."
      ]
    },
    {
      "cell_type": "code",
      "execution_count": null,
      "metadata": {
        "colab": {
          "base_uri": "https://localhost:8080/",
          "height": 52
        },
        "id": "YL--CsG0Vevs",
        "outputId": "55f2d4ad-23de-4bab-9f3d-09ae8a50c88a"
      },
      "outputs": [],
      "source": [
        "# this is where my datasets are stored within my Google Drive (I created a yolov4 folder to store all important files for custom training) \n",
        "!ls /mydrive/yolov4"
      ]
    },
    {
      "cell_type": "code",
      "execution_count": null,
      "metadata": {
        "id": "zqLQF0fNWJro"
      },
      "outputs": [],
      "source": [
        "# copy over both datasets into the root directory of the Colab VM (comment out test.zip if you are not using a validation dataset)\n",
        "!cp /mydrive/yolov4/obj.zip ../\n",
        "!cp /mydrive/yolov4/test.zip ../"
      ]
    },
    {
      "cell_type": "code",
      "execution_count": null,
      "metadata": {
        "colab": {
          "base_uri": "https://localhost:8080/",
          "height": 1000
        },
        "id": "A9mYUoKOWWlR",
        "outputId": "a6451ef6-a34c-4dd6-8c0a-7806766acfb3"
      },
      "outputs": [],
      "source": [
        "# unzip the datasets and their contents so that they are now in /darknet/data/ folder\n",
        "!unzip ../obj.zip -d data/\n",
        "!unzip ../test.zip -d data/"
      ]
    },
    {
      "cell_type": "markdown",
      "metadata": {
        "id": "SWjNcjfcXKgx"
      },
      "source": [
        "# Step 3: Configuring Files for Training\n",
        "This step involves properly configuring your custom .cfg, obj.data, obj.names, train.txt and test.txt files.\n",
        "\n",
        "It is important to configure all these files with extreme caution as typos or small errors can cause major problems with your custom training."
      ]
    },
    {
      "cell_type": "markdown",
      "metadata": {
        "id": "nWZqyTvxdZW1"
      },
      "source": [
        "## i) Cfg File\n",
        "Copy over the yolov4.cfg to your Google Drive by running the cell below. This will allow us to edit it in a text editor."
      ]
    },
    {
      "cell_type": "code",
      "execution_count": null,
      "metadata": {
        "id": "WpI1Y_EzdtYx"
      },
      "outputs": [],
      "source": [
        "# download cfg to google drive and change its name\n",
        "!cp cfg/yolov4-custom.cfg /mydrive/yolov4/yolov4-obj.cfg"
      ]
    },
    {
      "cell_type": "code",
      "execution_count": null,
      "metadata": {
        "id": "vFJ0-dkueG-F"
      },
      "outputs": [],
      "source": [
        "# to download to local machine (change its name to yolov4-obj.cfg once you download)\n",
        "download('cfg/yolov4-custom.cfg')"
      ]
    },
    {
      "cell_type": "markdown",
      "metadata": {
        "id": "YQUDXrhJekxl"
      },
      "source": []
    },
    {
      "cell_type": "code",
      "execution_count": null,
      "metadata": {
        "id": "kXkXb1tlLCnE"
      },
      "outputs": [],
      "source": [
        "# upload the custom .cfg back to cloud VM from Google Drive\n",
        "!cp /mydrive/yolov4/yolov4-obj.cfg ./cfg"
      ]
    },
    {
      "cell_type": "code",
      "execution_count": null,
      "metadata": {
        "id": "1vuqvzvLUtw2"
      },
      "outputs": [],
      "source": [
        "# upload the obj.names and obj.data files to cloud VM from Google Drive\n",
        "!cp /mydrive/yolov4/obj.names ./data\n",
        "!cp /mydrive/yolov4/obj.data  ./data"
      ]
    },
    {
      "cell_type": "markdown",
      "metadata": {
        "id": "zIA38VpCU1y9"
      },
      "source": [
        "## iii) Generating train.txt and test.txt\n",
        "The last configuration files needed before we can begin to train our custom detector are the train.txt and test.txt files which hold the relative paths to all our training images and valdidation images.\n",
        "\n",
        "Luckily I have created scripts that eaily generate these two files withe proper paths to all images.\n",
        "\n",
        "The scripts can be accessed from the [Github Repo](https://github.com/theAIGuysCode/YOLOv4-Cloud-Tutorial)\n",
        "\n",
        "Just download the two files to your local machine and upload them to your Google Drive so we can use them in the Colab Notebook."
      ]
    },
    {
      "cell_type": "code",
      "execution_count": null,
      "metadata": {
        "id": "4mgiK3C2ZF0k"
      },
      "outputs": [],
      "source": [
        "# upload the generate_train.py and generate_test.py script to cloud VM from Google Drive\n",
        "!cp /mydrive/yolov4/generate_train.py ./\n",
        "!cp /mydrive/yolov4/generate_test.py ./"
      ]
    },
    {
      "cell_type": "markdown",
      "metadata": {
        "id": "eq9gDuAaJWM6"
      },
      "source": [
        "Now simply run both scripts to do the work for you of generating the two txt files."
      ]
    },
    {
      "cell_type": "code",
      "execution_count": null,
      "metadata": {
        "id": "DAKjJSJwJb5R"
      },
      "outputs": [],
      "source": [
        "!python generate_train.py\n",
        "!python generate_test.py"
      ]
    },
    {
      "cell_type": "code",
      "execution_count": null,
      "metadata": {
        "colab": {
          "base_uri": "https://localhost:8080/",
          "height": 105
        },
        "id": "nv5yDQptaJRE",
        "outputId": "2f0b3a55-8f1a-4695-dccf-ce6cfc275368"
      },
      "outputs": [],
      "source": [
        "# verify that the newly generated train.txt and test.txt can be seen in our darknet/data folder\n",
        "!ls data/"
      ]
    },
    {
      "cell_type": "markdown",
      "metadata": {
        "id": "nrkC4l-PbmNS"
      },
      "source": [
        "# Step 4: Download pre-trained weights for the convolutional layers.\n",
        "This step downloads the weights for the convolutional layers of the YOLOv4 network. By using these weights it helps your custom object detector to be way more accurate and not have to train as long. You don't have to use these weights but trust me it will help your modle converge and be accurate way faster. USE IT!"
      ]
    },
    {
      "cell_type": "code",
      "execution_count": null,
      "metadata": {
        "colab": {
          "base_uri": "https://localhost:8080/",
          "height": 319
        },
        "id": "KcUKbtO-byOE",
        "outputId": "586123c5-a973-481c-b3e2-7813a800d471"
      },
      "outputs": [],
      "source": [
        "!wget https://github.com/AlexeyAB/darknet/releases/download/darknet_yolo_v3_optimal/yolov4.conv.137"
      ]
    },
    {
      "cell_type": "code",
      "execution_count": null,
      "metadata": {
        "colab": {
          "base_uri": "https://localhost:8080/",
          "height": 1000
        },
        "id": "imc0NP19hLuq",
        "outputId": "0192fde4-fc25-4a41-da87-8c33b44db3b2"
      },
      "outputs": [],
      "source": [
        "# train your custom detector! (uncomment %%capture below if you run into memory issues or your Colab is crashing)\n",
        "# %%capture\n",
        "!./darknet detector train data/obj.data cfg/yolov4-obj.cfg yolov4.conv.137 -dont_show -map"
      ]
    },
    {
      "cell_type": "markdown",
      "metadata": {
        "id": "5GjIkYFjhnYL"
      },
      "source": [
        "After training, you can observe a chart of how your model did throughout the training process by running the below command. It shows a chart of your average loss vs. iterations. For your model to be 'accurate' you should aim for a loss under 2."
      ]
    },
    {
      "cell_type": "code",
      "execution_count": null,
      "metadata": {
        "colab": {
          "base_uri": "https://localhost:8080/",
          "height": 575
        },
        "id": "uXPGYKmchv7Z",
        "outputId": "c6522130-ad70-4fcd-a89f-6c66840b8331"
      },
      "outputs": [],
      "source": [
        "# show chart.png of how custom object detector did with training\n",
        "imShow('chart.png')"
      ]
    },
    {
      "cell_type": "markdown",
      "metadata": {
        "id": "8q2gyKSujCxr"
      },
      "source": [
        "**TRICK**: If for some reason you get an error or your Colab goes idle during training, you have not lost your partially trained model and weights! Every 100 iterations a weights file called **yolov4-obj_last.weights** is saved to **mydrive/yolov4/backup/** folder (wherever your backup folder is). This is why we created this folder in our Google drive and not on the cloud VM. If your runtime crashes and your backup folder was in your cloud VM you would lose your weights and your training progress.\n",
        "\n",
        "We can kick off training from our last saved weights file so that we don't have to restart! WOOHOO! Just run the following command but with your backup location.\n",
        "```\n",
        "!./darknet detector train data/obj.data cfg/yolov4-obj.cfg /mydrive/yolov4/backup/yolov4-obj_last.weights -dont_show\n",
        "```"
      ]
    },
    {
      "cell_type": "code",
      "execution_count": null,
      "metadata": {
        "colab": {
          "base_uri": "https://localhost:8080/",
          "height": 1000
        },
        "id": "Fl7PsmikjCBW",
        "outputId": "095d317c-9960-4fe7-da21-7616e475e5c5"
      },
      "outputs": [],
      "source": [
        "# kick off training from where it last saved\n",
        "!./darknet detector train data/obj.data cfg/yolov4-obj.cfg /mydrive/yolov4/backup/yolov4-obj_last.weights -dont_show"
      ]
    },
    {
      "cell_type": "markdown",
      "metadata": {
        "id": "voia4UtxlPMa"
      },
      "source": [
        "# Step 6: Checking the Mean Average Precision (mAP) of Your Model\n",
        "If you didn't run the training with the '-map- flag added then you can still find out the mAP of your model after training. Run the following command on any of the saved weights from the training to see the mAP value for that specific weight's file. I would suggest to run it on multiple of the saved weights to compare and find the weights with the highest mAP as that is the most accurate one!\n",
        "\n",
        "**NOTE:** If you think your final weights file has overfitted then it is important to run these mAP commands to see if one of the previously saved weights is a more accurate model for your classes."
      ]
    },
    {
      "cell_type": "code",
      "execution_count": null,
      "metadata": {
        "colab": {
          "base_uri": "https://localhost:8080/",
          "height": 1000
        },
        "id": "2UoSBmTFlNep",
        "outputId": "974cd56d-7afa-45be-9af3-27f1d0c56d55"
      },
      "outputs": [],
      "source": [
        "!./darknet detector map data/obj.data cfg/yolov4-obj.cfg /mydrive/yolov4/backup/yolov4-obj_1000.weights"
      ]
    },
    {
      "cell_type": "markdown",
      "metadata": {
        "id": "8dfPY2h39m-T"
      },
      "source": [
        "# Step 7: Run Your Custom Object Detector!!!\n",
        "You have done it! You now have a custom object detector to make your very own detections. Time to test it out and have some fun!"
      ]
    },
    {
      "cell_type": "code",
      "execution_count": null,
      "metadata": {
        "colab": {
          "base_uri": "https://localhost:8080/",
          "height": 52
        },
        "id": "xXkZNeA09o2f",
        "outputId": "7adfc9a3-a5cb-4833-a04e-45e336c8b282"
      },
      "outputs": [],
      "source": [
        "# need to set our custom cfg to test mode \n",
        "%cd cfg\n",
        "!sed -i 's/batch=64/batch=1/' yolov4-obj.cfg\n",
        "!sed -i 's/subdivisions=16/subdivisions=1/' yolov4-obj.cfg\n",
        "%cd .."
      ]
    },
    {
      "cell_type": "code",
      "execution_count": null,
      "metadata": {
        "colab": {
          "base_uri": "https://localhost:8080/",
          "height": 1000
        },
        "id": "o7IIzEal90dA",
        "outputId": "26a870ca-fc36-474c-b503-7f214fdb4db2"
      },
      "outputs": [],
      "source": [
        "# run your custom detector with this command (upload an image to your google drive to test, thresh flag sets accuracy that detection must be in order to show it)\n",
        "!./darknet detector test data/obj.data cfg/yolov4-obj.cfg /mydrive/yolov4/backup/yolov4-obj_last.weights /mydrive/images/car2.jpg -thresh 0.3\n",
        "imShow('predictions.jpg')"
      ]
    },
    {
      "cell_type": "markdown",
      "metadata": {
        "id": "H8DYUTHiEeGZ"
      },
      "source": [
        "# Thanks!\n",
        "Thanks for following along this tutorial, I hope it worked well for all of you!\n",
        "\n",
        "If you enjoy YOLOv3 or YOLOv4 check out my other videos and subscribe to my channel so you don't miss out on any other amazing YOLO content! \n",
        "\n",
        "[The AI Guy](https://www.youtube.com/channel/UCrydcKaojc44XnuXrfhlV8Q)"
      ]
    }
  ],
  "metadata": {
    "accelerator": "GPU",
    "colab": {
      "collapsed_sections": [],
      "name": "YOLOv4_Training_Tutorial.ipynb",
      "provenance": [],
      "toc_visible": true
    },
    "interpreter": {
      "hash": "23744c79af8b83c7293f18390ca68d4672c70c2cfc74fda3293011f814e06f40"
    },
    "kernelspec": {
      "display_name": "Python 3.9.5 64-bit ('Python39')",
      "name": "python3"
    },
    "language_info": {
      "name": "python",
      "version": ""
    }
  },
  "nbformat": 4,
  "nbformat_minor": 0
}