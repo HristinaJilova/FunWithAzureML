{
 "metadata": {
  "language_info": {
   "codemirror_mode": {
    "name": "ipython",
    "version": 3
   },
   "file_extension": ".py",
   "mimetype": "text/x-python",
   "name": "python",
   "nbconvert_exporter": "python",
   "pygments_lexer": "ipython3",
   "version": "3.8.5-final"
  },
  "orig_nbformat": 2,
  "kernelspec": {
   "name": "python_defaultSpec_1599833441167",
   "display_name": "Python 3.8.5 64-bit ('wayve': conda)"
  }
 },
 "nbformat": 4,
 "nbformat_minor": 2,
 "cells": [
  {
   "source": [
    "# Mount FileDataset and extract video frames"
   ],
   "cell_type": "markdown",
   "metadata": {}
  },
  {
   "cell_type": "code",
   "execution_count": 1,
   "metadata": {
    "tags": []
   },
   "outputs": [
    {
     "output_type": "stream",
     "name": "stdout",
     "text": "Requirement already up-to-date: azureml-sdk in /home/azureuser/anaconda3/envs/wayve/lib/python3.8/site-packages (1.13.0)\nRequirement already up-to-date: azureml-dataprep in /home/azureuser/anaconda3/envs/wayve/lib/python3.8/site-packages (2.1.4)\nRequirement already up-to-date: opencv-python in /home/azureuser/anaconda3/envs/wayve/lib/python3.8/site-packages (4.4.0.42)\nRequirement already up-to-date: matplotlib in /home/azureuser/anaconda3/envs/wayve/lib/python3.8/site-packages (3.3.1)\nRequirement already satisfied, skipping upgrade: azureml-train-automl-client~=1.13.0 in /home/azureuser/anaconda3/envs/wayve/lib/python3.8/site-packages (from azureml-sdk) (1.13.0.post1)\nRequirement already satisfied, skipping upgrade: azureml-core~=1.13.0 in /home/azureuser/anaconda3/envs/wayve/lib/python3.8/site-packages (from azureml-sdk) (1.13.0)\nRequirement already satisfied, skipping upgrade: azureml-dataset-runtime[fuse]~=1.13.0 in /home/azureuser/anaconda3/envs/wayve/lib/python3.8/site-packages (from azureml-sdk) (1.13.0)\nRequirement already satisfied, skipping upgrade: azureml-pipeline~=1.13.0 in /home/azureuser/anaconda3/envs/wayve/lib/python3.8/site-packages (from azureml-sdk) (1.13.0)\nRequirement already satisfied, skipping upgrade: azureml-train~=1.13.0 in /home/azureuser/anaconda3/envs/wayve/lib/python3.8/site-packages (from azureml-sdk) (1.13.0)\nRequirement already satisfied, skipping upgrade: azure-identity<2.0.0,>=1.2.0 in /home/azureuser/anaconda3/envs/wayve/lib/python3.8/site-packages (from azureml-dataprep) (1.2.0)\nRequirement already satisfied, skipping upgrade: cloudpickle<2.0.0,>=1.1.0 in /home/azureuser/anaconda3/envs/wayve/lib/python3.8/site-packages (from azureml-dataprep) (1.6.0)\nRequirement already satisfied, skipping upgrade: azureml-dataprep-native<22.0.0,>=21.0.0 in /home/azureuser/anaconda3/envs/wayve/lib/python3.8/site-packages (from azureml-dataprep) (21.0.0)\nRequirement already satisfied, skipping upgrade: dotnetcore2<3.0.0,>=2.1.14 in /home/azureuser/anaconda3/envs/wayve/lib/python3.8/site-packages (from azureml-dataprep) (2.1.14)\nRequirement already satisfied, skipping upgrade: numpy>=1.17.3 in /home/azureuser/anaconda3/envs/wayve/lib/python3.8/site-packages (from opencv-python) (1.19.2)\nRequirement already satisfied, skipping upgrade: pillow>=6.2.0 in /home/azureuser/anaconda3/envs/wayve/lib/python3.8/site-packages (from matplotlib) (7.2.0)\nRequirement already satisfied, skipping upgrade: kiwisolver>=1.0.1 in /home/azureuser/anaconda3/envs/wayve/lib/python3.8/site-packages (from matplotlib) (1.2.0)\nRequirement already satisfied, skipping upgrade: certifi>=2020.06.20 in /home/azureuser/anaconda3/envs/wayve/lib/python3.8/site-packages (from matplotlib) (2020.6.20)\nRequirement already satisfied, skipping upgrade: pyparsing!=2.0.4,!=2.1.2,!=2.1.6,>=2.0.3 in /home/azureuser/anaconda3/envs/wayve/lib/python3.8/site-packages (from matplotlib) (2.4.7)\nRequirement already satisfied, skipping upgrade: python-dateutil>=2.1 in /home/azureuser/anaconda3/envs/wayve/lib/python3.8/site-packages (from matplotlib) (2.8.1)\nRequirement already satisfied, skipping upgrade: cycler>=0.10 in /home/azureuser/anaconda3/envs/wayve/lib/python3.8/site-packages (from matplotlib) (0.10.0)\nRequirement already satisfied, skipping upgrade: azureml-telemetry~=1.13.0 in /home/azureuser/anaconda3/envs/wayve/lib/python3.8/site-packages (from azureml-train-automl-client~=1.13.0->azureml-sdk) (1.13.0)\nRequirement already satisfied, skipping upgrade: azureml-automl-core~=1.13.0 in /home/azureuser/anaconda3/envs/wayve/lib/python3.8/site-packages (from azureml-train-automl-client~=1.13.0->azureml-sdk) (1.13.0)\nRequirement already satisfied, skipping upgrade: SecretStorage in /home/azureuser/anaconda3/envs/wayve/lib/python3.8/site-packages (from azureml-core~=1.13.0->azureml-sdk) (3.1.2)\nRequirement already satisfied, skipping upgrade: requests>=2.19.1 in /home/azureuser/anaconda3/envs/wayve/lib/python3.8/site-packages (from azureml-core~=1.13.0->azureml-sdk) (2.24.0)\nRequirement already satisfied, skipping upgrade: msrest>=0.5.1 in /home/azureuser/anaconda3/envs/wayve/lib/python3.8/site-packages (from azureml-core~=1.13.0->azureml-sdk) (0.6.18)\nRequirement already satisfied, skipping upgrade: backports.tempfile in /home/azureuser/anaconda3/envs/wayve/lib/python3.8/site-packages (from azureml-core~=1.13.0->azureml-sdk) (1.0)\nRequirement already satisfied, skipping upgrade: azure-mgmt-containerregistry>=2.0.0 in /home/azureuser/anaconda3/envs/wayve/lib/python3.8/site-packages (from azureml-core~=1.13.0->azureml-sdk) (2.8.0)\nRequirement already satisfied, skipping upgrade: pytz in /home/azureuser/anaconda3/envs/wayve/lib/python3.8/site-packages (from azureml-core~=1.13.0->azureml-sdk) (2020.1)\nRequirement already satisfied, skipping upgrade: ndg-httpsclient in /home/azureuser/anaconda3/envs/wayve/lib/python3.8/site-packages (from azureml-core~=1.13.0->azureml-sdk) (0.5.1)\nRequirement already satisfied, skipping upgrade: azure-mgmt-resource>=1.2.1 in /home/azureuser/anaconda3/envs/wayve/lib/python3.8/site-packages (from azureml-core~=1.13.0->azureml-sdk) (10.2.0)\nRequirement already satisfied, skipping upgrade: pathspec in /home/azureuser/anaconda3/envs/wayve/lib/python3.8/site-packages (from azureml-core~=1.13.0->azureml-sdk) (0.8.0)\nRequirement already satisfied, skipping upgrade: cryptography!=1.9,!=2.0.*,!=2.1.*,!=2.2.* in /home/azureuser/anaconda3/envs/wayve/lib/python3.8/site-packages (from azureml-core~=1.13.0->azureml-sdk) (3.1)\nRequirement already satisfied, skipping upgrade: adal>=1.2.0 in /home/azureuser/anaconda3/envs/wayve/lib/python3.8/site-packages (from azureml-core~=1.13.0->azureml-sdk) (1.2.4)\nRequirement already satisfied, skipping upgrade: pyopenssl in /home/azureuser/anaconda3/envs/wayve/lib/python3.8/site-packages (from azureml-core~=1.13.0->azureml-sdk) (19.1.0)\nRequirement already satisfied, skipping upgrade: azure-mgmt-keyvault>=0.40.0 in /home/azureuser/anaconda3/envs/wayve/lib/python3.8/site-packages (from azureml-core~=1.13.0->azureml-sdk) (2.2.0)\nRequirement already satisfied, skipping upgrade: jmespath in /home/azureuser/anaconda3/envs/wayve/lib/python3.8/site-packages (from azureml-core~=1.13.0->azureml-sdk) (0.10.0)\nRequirement already satisfied, skipping upgrade: azure-common>=1.1.12 in /home/azureuser/anaconda3/envs/wayve/lib/python3.8/site-packages (from azureml-core~=1.13.0->azureml-sdk) (1.1.25)\nRequirement already satisfied, skipping upgrade: msrestazure>=0.4.33 in /home/azureuser/anaconda3/envs/wayve/lib/python3.8/site-packages (from azureml-core~=1.13.0->azureml-sdk) (0.6.4)\nRequirement already satisfied, skipping upgrade: azure-mgmt-storage>=1.5.0 in /home/azureuser/anaconda3/envs/wayve/lib/python3.8/site-packages (from azureml-core~=1.13.0->azureml-sdk) (11.2.0)\nRequirement already satisfied, skipping upgrade: jsonpickle in /home/azureuser/anaconda3/envs/wayve/lib/python3.8/site-packages (from azureml-core~=1.13.0->azureml-sdk) (1.4.1)\nRequirement already satisfied, skipping upgrade: azure-mgmt-authorization>=0.40.0 in /home/azureuser/anaconda3/envs/wayve/lib/python3.8/site-packages (from azureml-core~=1.13.0->azureml-sdk) (0.61.0)\nRequirement already satisfied, skipping upgrade: ruamel.yaml>=0.15.35 in /home/azureuser/anaconda3/envs/wayve/lib/python3.8/site-packages (from azureml-core~=1.13.0->azureml-sdk) (0.16.12)\nRequirement already satisfied, skipping upgrade: azure-graphrbac>=0.40.0 in /home/azureuser/anaconda3/envs/wayve/lib/python3.8/site-packages (from azureml-core~=1.13.0->azureml-sdk) (0.61.1)\nRequirement already satisfied, skipping upgrade: urllib3>=1.23 in /home/azureuser/anaconda3/envs/wayve/lib/python3.8/site-packages (from azureml-core~=1.13.0->azureml-sdk) (1.25.10)\nRequirement already satisfied, skipping upgrade: docker in /home/azureuser/anaconda3/envs/wayve/lib/python3.8/site-packages (from azureml-core~=1.13.0->azureml-sdk) (4.3.1)\nRequirement already satisfied, skipping upgrade: PyJWT in /home/azureuser/anaconda3/envs/wayve/lib/python3.8/site-packages (from azureml-core~=1.13.0->azureml-sdk) (1.7.1)\nRequirement already satisfied, skipping upgrade: contextlib2 in /home/azureuser/anaconda3/envs/wayve/lib/python3.8/site-packages (from azureml-core~=1.13.0->azureml-sdk) (0.6.0.post1)\nRequirement already satisfied, skipping upgrade: pyarrow<2.0.0,>=0.17.0 in /home/azureuser/anaconda3/envs/wayve/lib/python3.8/site-packages (from azureml-dataset-runtime[fuse]~=1.13.0->azureml-sdk) (1.0.1)\nRequirement already satisfied, skipping upgrade: fusepy<4.0.0,>=3.0.1; extra == \"fuse\" in /home/azureuser/anaconda3/envs/wayve/lib/python3.8/site-packages (from azureml-dataset-runtime[fuse]~=1.13.0->azureml-sdk) (3.0.1)\nRequirement already satisfied, skipping upgrade: azureml-pipeline-core~=1.13.0 in /home/azureuser/anaconda3/envs/wayve/lib/python3.8/site-packages (from azureml-pipeline~=1.13.0->azureml-sdk) (1.13.0)\nRequirement already satisfied, skipping upgrade: azureml-pipeline-steps~=1.13.0 in /home/azureuser/anaconda3/envs/wayve/lib/python3.8/site-packages (from azureml-pipeline~=1.13.0->azureml-sdk) (1.13.0)\nRequirement already satisfied, skipping upgrade: azureml-train-core~=1.13.0 in /home/azureuser/anaconda3/envs/wayve/lib/python3.8/site-packages (from azureml-train~=1.13.0->azureml-sdk) (1.13.0)\nRequirement already satisfied, skipping upgrade: six>=1.6 in /home/azureuser/anaconda3/envs/wayve/lib/python3.8/site-packages (from azure-identity<2.0.0,>=1.2.0->azureml-dataprep) (1.15.0)\nRequirement already satisfied, skipping upgrade: msal-extensions~=0.1.3 in /home/azureuser/anaconda3/envs/wayve/lib/python3.8/site-packages (from azure-identity<2.0.0,>=1.2.0->azureml-dataprep) (0.1.3)\nRequirement already satisfied, skipping upgrade: azure-core<2.0.0,>=1.0.0 in /home/azureuser/anaconda3/envs/wayve/lib/python3.8/site-packages (from azure-identity<2.0.0,>=1.2.0->azureml-dataprep) (1.8.0)\nRequirement already satisfied, skipping upgrade: msal<2.0.0,>=1.0.0 in /home/azureuser/anaconda3/envs/wayve/lib/python3.8/site-packages (from azure-identity<2.0.0,>=1.2.0->azureml-dataprep) (1.4.3)\nRequirement already satisfied, skipping upgrade: distro>=1.2.0 in /home/azureuser/anaconda3/envs/wayve/lib/python3.8/site-packages (from dotnetcore2<3.0.0,>=2.1.14->azureml-dataprep) (1.5.0)\nRequirement already satisfied, skipping upgrade: applicationinsights in /home/azureuser/anaconda3/envs/wayve/lib/python3.8/site-packages (from azureml-telemetry~=1.13.0->azureml-train-automl-client~=1.13.0->azureml-sdk) (0.11.9)\nRequirement already satisfied, skipping upgrade: jeepney>=0.4.2 in /home/azureuser/anaconda3/envs/wayve/lib/python3.8/site-packages (from SecretStorage->azureml-core~=1.13.0->azureml-sdk) (0.4.3)\nRequirement already satisfied, skipping upgrade: idna<3,>=2.5 in /home/azureuser/anaconda3/envs/wayve/lib/python3.8/site-packages (from requests>=2.19.1->azureml-core~=1.13.0->azureml-sdk) (2.10)\nRequirement already satisfied, skipping upgrade: chardet<4,>=3.0.2 in /home/azureuser/anaconda3/envs/wayve/lib/python3.8/site-packages (from requests>=2.19.1->azureml-core~=1.13.0->azureml-sdk) (3.0.4)\nRequirement already satisfied, skipping upgrade: requests-oauthlib>=0.5.0 in /home/azureuser/anaconda3/envs/wayve/lib/python3.8/site-packages (from msrest>=0.5.1->azureml-core~=1.13.0->azureml-sdk) (1.3.0)\nRequirement already satisfied, skipping upgrade: isodate>=0.6.0 in /home/azureuser/anaconda3/envs/wayve/lib/python3.8/site-packages (from msrest>=0.5.1->azureml-core~=1.13.0->azureml-sdk) (0.6.0)\nRequirement already satisfied, skipping upgrade: backports.weakref in /home/azureuser/anaconda3/envs/wayve/lib/python3.8/site-packages (from backports.tempfile->azureml-core~=1.13.0->azureml-sdk) (1.0.post1)\nRequirement already satisfied, skipping upgrade: pyasn1>=0.1.1 in /home/azureuser/anaconda3/envs/wayve/lib/python3.8/site-packages (from ndg-httpsclient->azureml-core~=1.13.0->azureml-sdk) (0.4.8)\nRequirement already satisfied, skipping upgrade: cffi!=1.11.3,>=1.8 in /home/azureuser/anaconda3/envs/wayve/lib/python3.8/site-packages (from cryptography!=1.9,!=2.0.*,!=2.1.*,!=2.2.*->azureml-core~=1.13.0->azureml-sdk) (1.14.2)\nRequirement already satisfied, skipping upgrade: importlib-metadata in /home/azureuser/anaconda3/envs/wayve/lib/python3.8/site-packages (from jsonpickle->azureml-core~=1.13.0->azureml-sdk) (1.7.0)\nRequirement already satisfied, skipping upgrade: ruamel.yaml.clib>=0.1.2; platform_python_implementation == \"CPython\" and python_version < \"3.9\" in /home/azureuser/anaconda3/envs/wayve/lib/python3.8/site-packages (from ruamel.yaml>=0.15.35->azureml-core~=1.13.0->azureml-sdk) (0.2.2)\nRequirement already satisfied, skipping upgrade: websocket-client>=0.32.0 in /home/azureuser/anaconda3/envs/wayve/lib/python3.8/site-packages (from docker->azureml-core~=1.13.0->azureml-sdk) (0.57.0)\nRequirement already satisfied, skipping upgrade: azureml-train-restclients-hyperdrive~=1.13.0 in /home/azureuser/anaconda3/envs/wayve/lib/python3.8/site-packages (from azureml-train-core~=1.13.0->azureml-train~=1.13.0->azureml-sdk) (1.13.0)\nRequirement already satisfied, skipping upgrade: portalocker~=1.0 in /home/azureuser/anaconda3/envs/wayve/lib/python3.8/site-packages (from msal-extensions~=0.1.3->azure-identity<2.0.0,>=1.2.0->azureml-dataprep) (1.7.1)\nRequirement already satisfied, skipping upgrade: oauthlib>=3.0.0 in /home/azureuser/anaconda3/envs/wayve/lib/python3.8/site-packages (from requests-oauthlib>=0.5.0->msrest>=0.5.1->azureml-core~=1.13.0->azureml-sdk) (3.1.0)\nRequirement already satisfied, skipping upgrade: pycparser in /home/azureuser/anaconda3/envs/wayve/lib/python3.8/site-packages (from cffi!=1.11.3,>=1.8->cryptography!=1.9,!=2.0.*,!=2.1.*,!=2.2.*->azureml-core~=1.13.0->azureml-sdk) (2.20)\nRequirement already satisfied, skipping upgrade: zipp>=0.5 in /home/azureuser/anaconda3/envs/wayve/lib/python3.8/site-packages (from importlib-metadata->jsonpickle->azureml-core~=1.13.0->azureml-sdk) (3.1.0)\n"
    }
   ],
   "source": [
    "!pip install --upgrade azureml-sdk azureml-dataprep opencv-python matplotlib"
   ]
  },
  {
   "cell_type": "code",
   "execution_count": 2,
   "metadata": {
    "tags": []
   },
   "outputs": [
    {
     "output_type": "stream",
     "name": "stderr",
     "text": "Failure while loading azureml_run_type_providers. Failed to load entrypoint automl = azureml.train.automl.run:AutoMLRun._from_run_dto with exception (azureml-dataprep 2.1.4 (/home/azureuser/anaconda3/envs/wayve/lib/python3.8/site-packages), Requirement.parse('azureml-dataprep<2.1.0a,>=2.0.1a'), {'azureml-dataset-runtime'}).\nWorkspace.create(name='aiml50dg2ai', subscription_id='6be80d16-1b1d-465b-bbdd-a298a0cbbf89', resource_group='mlops-demo-rg')\n"
    }
   ],
   "source": [
    "from azureml.core import Workspace, Dataset\n",
    "\n",
    "workspace = Workspace.from_config()\n",
    "print(workspace)"
   ]
  },
  {
   "cell_type": "code",
   "execution_count": 3,
   "metadata": {
    "tags": []
   },
   "outputs": [
    {
     "output_type": "stream",
     "name": "stdout",
     "text": "videos-samples\n"
    }
   ],
   "source": [
    "dataset_name=\"videos-samples\"\n",
    "dataset = Dataset.get_by_name(workspace, name=dataset_name)\n",
    "print(dataset.name)"
   ]
  },
  {
   "cell_type": "code",
   "execution_count": 8,
   "metadata": {},
   "outputs": [],
   "source": [
    "import cv2\n",
    "import matplotlib.pyplot as plt\n",
    "def processVideo(video_file_path):\n",
    "     video_capture = cv2.VideoCapture(video_file_path)\n",
    "     print(f\"{video_file_path}: file opened {video_capture.isOpened()}\")\n",
    "     fps = int(video_capture.get(cv2.CAP_PROP_FPS))\n",
    "     print(f\"{video_file_path}: fps # {fps}\")\n",
    "     frame_count = 0\n",
    "     video_capture.set(cv2.CAP_PROP_POS_FRAMES, frame_count)\n",
    "     success, frame = video_capture.read()\n",
    "     print(f\"{video_file_path}: {success} reading first frame\")\n",
    "     while success:\n",
    "         temp_file_name = f\"/tmp/video_frame_{frame_count:05d}.jpg\"\n",
    "         # convert to RGB\n",
    "         rgb_frame =  cv2.cvtColor(frame, cv2.COLOR_BGR2RGB)\n",
    "         plt.imsave(temp_file_name, rgb_frame)\n",
    "         print(f\"{frame_count:05d}: Saved frame in {temp_file_name}\")\n",
    "         frame_count += 1\n",
    "         success, frame = video_capture.read()\n"
   ]
  },
  {
   "cell_type": "code",
   "execution_count": 10,
   "metadata": {
    "tags": []
   },
   "outputs": [
    {
     "output_type": "stream",
     "name": "stdout",
     "text": "WARNING - Failure while loading azureml_run_type_providers. Failed to load entrypoint automl = azureml.train.automl.run:AutoMLRun._from_run_dto with exception (azureml-dataprep 2.1.4 (/home/azureuser/anaconda3/envs/wayve/lib/python3.8/site-packages), Requirement.parse('azureml-dataprep<2.1.0a,>=2.0.1a'), {'azureml-dataset-runtime'}).\n/tmp/tmp5vsw2uqz\n['bbb_sunflower_1080p_30fps_normal.mp4']\n"
    }
   ],
   "source": [
    "# mount dataset manually instead of using\n",
    "# with dataset.mount() as mount_context:\n",
    "mount_context=dataset.mount()\n",
    "mount_context.start()\n",
    "# See where we mounted the file dataset\n",
    "print(mount_context.mount_point)\n",
    "# List files in there\n",
    "print(os.listdir(mount_context.mount_point))\n"
   ]
  },
  {
   "cell_type": "code",
   "execution_count": 11,
   "metadata": {
    "tags": []
   },
   "outputs": [
    {
     "output_type": "stream",
     "name": "stdout",
     "text": "/tmp/tmp5vsw2uqz/bbb_sunflower_1080p_30fps_normal.mp4: file opened True\n/tmp/tmp5vsw2uqz/bbb_sunflower_1080p_30fps_normal.mp4: fps # 30\n/tmp/tmp5vsw2uqz/bbb_sunflower_1080p_30fps_normal.mp4: True reading first frame\n00000: Saved frame in /tmp/video_frame_00000.jpg\n00001: Saved frame in /tmp/video_frame_00001.jpg\n00002: Saved frame in /tmp/video_frame_00002.jpg\n00003: Saved frame in /tmp/video_frame_00003.jpg\n00004: Saved frame in /tmp/video_frame_00004.jpg\n00005: Saved frame in /tmp/video_frame_00005.jpg\n00006: Saved frame in /tmp/video_frame_00006.jpg\n00007: Saved frame in /tmp/video_frame_00007.jpg\n00008: Saved frame in /tmp/video_frame_00008.jpg\n00009: Saved frame in /tmp/video_frame_00009.jpg\n00010: Saved frame in /tmp/video_frame_00010.jpg\n00011: Saved frame in /tmp/video_frame_00011.jpg\n00012: Saved frame in /tmp/video_frame_00012.jpg\n00013: Saved frame in /tmp/video_frame_00013.jpg\n00014: Saved frame in /tmp/video_frame_00014.jpg\n00015: Saved frame in /tmp/video_frame_00015.jpg\n00016: Saved frame in /tmp/video_frame_00016.jpg\n00017: Saved frame in /tmp/video_frame_00017.jpg\n00018: Saved frame in /tmp/video_frame_00018.jpg\n00019: Saved frame in /tmp/video_frame_00019.jpg\n00020: Saved frame in /tmp/video_frame_00020.jpg\n00021: Saved frame in /tmp/video_frame_00021.jpg\n00022: Saved frame in /tmp/video_frame_00022.jpg\n00023: Saved frame in /tmp/video_frame_00023.jpg\n00024: Saved frame in /tmp/video_frame_00024.jpg\n00025: Saved frame in /tmp/video_frame_00025.jpg\n00026: Saved frame in /tmp/video_frame_00026.jpg\n00027: Saved frame in /tmp/video_frame_00027.jpg\n00028: Saved frame in /tmp/video_frame_00028.jpg\n00029: Saved frame in /tmp/video_frame_00029.jpg\n00030: Saved frame in /tmp/video_frame_00030.jpg\n00031: Saved frame in /tmp/video_frame_00031.jpg\n00032: Saved frame in /tmp/video_frame_00032.jpg\n00033: Saved frame in /tmp/video_frame_00033.jpg\n00034: Saved frame in /tmp/video_frame_00034.jpg\n00035: Saved frame in /tmp/video_frame_00035.jpg\n00036: Saved frame in /tmp/video_frame_00036.jpg\n00037: Saved frame in /tmp/video_frame_00037.jpg\n00038: Saved frame in /tmp/video_frame_00038.jpg\n00039: Saved frame in /tmp/video_frame_00039.jpg\n00040: Saved frame in /tmp/video_frame_00040.jpg\n00041: Saved frame in /tmp/video_frame_00041.jpg\n00042: Saved frame in /tmp/video_frame_00042.jpg\n00043: Saved frame in /tmp/video_frame_00043.jpg\n00044: Saved frame in /tmp/video_frame_00044.jpg\n00045: Saved frame in /tmp/video_frame_00045.jpg\n00046: Saved frame in /tmp/video_frame_00046.jpg\n00047: Saved frame in /tmp/video_frame_00047.jpg\n00048: Saved frame in /tmp/video_frame_00048.jpg\n00049: Saved frame in /tmp/video_frame_00049.jpg\n00050: Saved frame in /tmp/video_frame_00050.jpg\n00051: Saved frame in /tmp/video_frame_00051.jpg\n00052: Saved frame in /tmp/video_frame_00052.jpg\n00053: Saved frame in /tmp/video_frame_00053.jpg\n00054: Saved frame in /tmp/video_frame_00054.jpg\n00055: Saved frame in /tmp/video_frame_00055.jpg\n00056: Saved frame in /tmp/video_frame_00056.jpg\n00057: Saved frame in /tmp/video_frame_00057.jpg\n00058: Saved frame in /tmp/video_frame_00058.jpg\n00059: Saved frame in /tmp/video_frame_00059.jpg\n00060: Saved frame in /tmp/video_frame_00060.jpg\n00061: Saved frame in /tmp/video_frame_00061.jpg\n00062: Saved frame in /tmp/video_frame_00062.jpg\n00063: Saved frame in /tmp/video_frame_00063.jpg\n00064: Saved frame in /tmp/video_frame_00064.jpg\n00065: Saved frame in /tmp/video_frame_00065.jpg\n00066: Saved frame in /tmp/video_frame_00066.jpg\n00067: Saved frame in /tmp/video_frame_00067.jpg\n00068: Saved frame in /tmp/video_frame_00068.jpg\n00069: Saved frame in /tmp/video_frame_00069.jpg\n00070: Saved frame in /tmp/video_frame_00070.jpg\n00071: Saved frame in /tmp/video_frame_00071.jpg\n00072: Saved frame in /tmp/video_frame_00072.jpg\n00073: Saved frame in /tmp/video_frame_00073.jpg\n00074: Saved frame in /tmp/video_frame_00074.jpg\n00075: Saved frame in /tmp/video_frame_00075.jpg\n00076: Saved frame in /tmp/video_frame_00076.jpg\n00077: Saved frame in /tmp/video_frame_00077.jpg\n00078: Saved frame in /tmp/video_frame_00078.jpg\n00079: Saved frame in /tmp/video_frame_00079.jpg\n00080: Saved frame in /tmp/video_frame_00080.jpg\n00081: Saved frame in /tmp/video_frame_00081.jpg\n00082: Saved frame in /tmp/video_frame_00082.jpg\n00083: Saved frame in /tmp/video_frame_00083.jpg\n00084: Saved frame in /tmp/video_frame_00084.jpg\n00085: Saved frame in /tmp/video_frame_00085.jpg\n00086: Saved frame in /tmp/video_frame_00086.jpg\n00087: Saved frame in /tmp/video_frame_00087.jpg\n"
    },
    {
     "output_type": "error",
     "ename": "KeyboardInterrupt",
     "evalue": "",
     "traceback": [
      "\u001b[0;31m---------------------------------------------------------------------------\u001b[0m",
      "\u001b[0;31mKeyboardInterrupt\u001b[0m                         Traceback (most recent call last)",
      "\u001b[0;32m<ipython-input-11-7ce6bdedfe3a>\u001b[0m in \u001b[0;36m<module>\u001b[0;34m\u001b[0m\n\u001b[1;32m      3\u001b[0m     \u001b[0;32mif\u001b[0m \u001b[0mos\u001b[0m\u001b[0;34m.\u001b[0m\u001b[0mpath\u001b[0m\u001b[0;34m.\u001b[0m\u001b[0msplitext\u001b[0m\u001b[0;34m(\u001b[0m\u001b[0mf\u001b[0m\u001b[0;34m)\u001b[0m\u001b[0;34m[\u001b[0m\u001b[0;34m-\u001b[0m\u001b[0;36m1\u001b[0m\u001b[0;34m]\u001b[0m \u001b[0;34m==\u001b[0m \u001b[0;34m'.mp4'\u001b[0m\u001b[0;34m:\u001b[0m \u001b[0;31m# Process only files ending in mp4\u001b[0m\u001b[0;34m\u001b[0m\u001b[0;34m\u001b[0m\u001b[0m\n\u001b[1;32m      4\u001b[0m         \u001b[0mfull_file_path\u001b[0m \u001b[0;34m=\u001b[0m \u001b[0mos\u001b[0m\u001b[0;34m.\u001b[0m\u001b[0mpath\u001b[0m\u001b[0;34m.\u001b[0m\u001b[0mjoin\u001b[0m\u001b[0;34m(\u001b[0m\u001b[0mmount_context\u001b[0m\u001b[0;34m.\u001b[0m\u001b[0mmount_point\u001b[0m\u001b[0;34m,\u001b[0m \u001b[0mf\u001b[0m\u001b[0;34m)\u001b[0m\u001b[0;34m\u001b[0m\u001b[0;34m\u001b[0m\u001b[0m\n\u001b[0;32m----> 5\u001b[0;31m         \u001b[0mprocessVideo\u001b[0m\u001b[0;34m(\u001b[0m\u001b[0mfull_file_path\u001b[0m\u001b[0;34m)\u001b[0m\u001b[0;34m\u001b[0m\u001b[0;34m\u001b[0m\u001b[0m\n\u001b[0m",
      "\u001b[0;32m<ipython-input-8-efa272ab97af>\u001b[0m in \u001b[0;36mprocessVideo\u001b[0;34m(video_file_path)\u001b[0m\n\u001b[1;32m     14\u001b[0m          \u001b[0;31m# convert to RGB\u001b[0m\u001b[0;34m\u001b[0m\u001b[0;34m\u001b[0m\u001b[0;34m\u001b[0m\u001b[0m\n\u001b[1;32m     15\u001b[0m          \u001b[0mrgb_frame\u001b[0m \u001b[0;34m=\u001b[0m  \u001b[0mcv2\u001b[0m\u001b[0;34m.\u001b[0m\u001b[0mcvtColor\u001b[0m\u001b[0;34m(\u001b[0m\u001b[0mframe\u001b[0m\u001b[0;34m,\u001b[0m \u001b[0mcv2\u001b[0m\u001b[0;34m.\u001b[0m\u001b[0mCOLOR_BGR2RGB\u001b[0m\u001b[0;34m)\u001b[0m\u001b[0;34m\u001b[0m\u001b[0;34m\u001b[0m\u001b[0m\n\u001b[0;32m---> 16\u001b[0;31m          \u001b[0mplt\u001b[0m\u001b[0;34m.\u001b[0m\u001b[0mimsave\u001b[0m\u001b[0;34m(\u001b[0m\u001b[0mtemp_file_name\u001b[0m\u001b[0;34m,\u001b[0m \u001b[0mrgb_frame\u001b[0m\u001b[0;34m)\u001b[0m\u001b[0;34m\u001b[0m\u001b[0;34m\u001b[0m\u001b[0m\n\u001b[0m\u001b[1;32m     17\u001b[0m          \u001b[0mprint\u001b[0m\u001b[0;34m(\u001b[0m\u001b[0;34mf\"{frame_count:05d}: Saved frame in {temp_file_name}\"\u001b[0m\u001b[0;34m)\u001b[0m\u001b[0;34m\u001b[0m\u001b[0;34m\u001b[0m\u001b[0m\n\u001b[1;32m     18\u001b[0m          \u001b[0mframe_count\u001b[0m \u001b[0;34m+=\u001b[0m \u001b[0;36m1\u001b[0m\u001b[0;34m\u001b[0m\u001b[0;34m\u001b[0m\u001b[0m\n",
      "\u001b[0;32m~/anaconda3/envs/wayve/lib/python3.8/site-packages/matplotlib/pyplot.py\u001b[0m in \u001b[0;36mimsave\u001b[0;34m(fname, arr, **kwargs)\u001b[0m\n\u001b[1;32m   2233\u001b[0m \u001b[0;34m@\u001b[0m\u001b[0m_copy_docstring_and_deprecators\u001b[0m\u001b[0;34m(\u001b[0m\u001b[0mmatplotlib\u001b[0m\u001b[0;34m.\u001b[0m\u001b[0mimage\u001b[0m\u001b[0;34m.\u001b[0m\u001b[0mimsave\u001b[0m\u001b[0;34m)\u001b[0m\u001b[0;34m\u001b[0m\u001b[0;34m\u001b[0m\u001b[0m\n\u001b[1;32m   2234\u001b[0m \u001b[0;32mdef\u001b[0m \u001b[0mimsave\u001b[0m\u001b[0;34m(\u001b[0m\u001b[0mfname\u001b[0m\u001b[0;34m,\u001b[0m \u001b[0marr\u001b[0m\u001b[0;34m,\u001b[0m \u001b[0;34m**\u001b[0m\u001b[0mkwargs\u001b[0m\u001b[0;34m)\u001b[0m\u001b[0;34m:\u001b[0m\u001b[0;34m\u001b[0m\u001b[0;34m\u001b[0m\u001b[0m\n\u001b[0;32m-> 2235\u001b[0;31m     \u001b[0;32mreturn\u001b[0m \u001b[0mmatplotlib\u001b[0m\u001b[0;34m.\u001b[0m\u001b[0mimage\u001b[0m\u001b[0;34m.\u001b[0m\u001b[0mimsave\u001b[0m\u001b[0;34m(\u001b[0m\u001b[0mfname\u001b[0m\u001b[0;34m,\u001b[0m \u001b[0marr\u001b[0m\u001b[0;34m,\u001b[0m \u001b[0;34m**\u001b[0m\u001b[0mkwargs\u001b[0m\u001b[0;34m)\u001b[0m\u001b[0;34m\u001b[0m\u001b[0;34m\u001b[0m\u001b[0m\n\u001b[0m\u001b[1;32m   2236\u001b[0m \u001b[0;34m\u001b[0m\u001b[0m\n\u001b[1;32m   2237\u001b[0m \u001b[0;34m\u001b[0m\u001b[0m\n",
      "\u001b[0;32m~/anaconda3/envs/wayve/lib/python3.8/site-packages/matplotlib/image.py\u001b[0m in \u001b[0;36mimsave\u001b[0;34m(fname, arr, vmin, vmax, cmap, format, origin, dpi, metadata, pil_kwargs)\u001b[0m\n\u001b[1;32m   1599\u001b[0m         \u001b[0mpil_kwargs\u001b[0m\u001b[0;34m.\u001b[0m\u001b[0msetdefault\u001b[0m\u001b[0;34m(\u001b[0m\u001b[0;34m\"format\"\u001b[0m\u001b[0;34m,\u001b[0m \u001b[0mformat\u001b[0m\u001b[0;34m)\u001b[0m\u001b[0;34m\u001b[0m\u001b[0;34m\u001b[0m\u001b[0m\n\u001b[1;32m   1600\u001b[0m         \u001b[0mpil_kwargs\u001b[0m\u001b[0;34m.\u001b[0m\u001b[0msetdefault\u001b[0m\u001b[0;34m(\u001b[0m\u001b[0;34m\"dpi\"\u001b[0m\u001b[0;34m,\u001b[0m \u001b[0;34m(\u001b[0m\u001b[0mdpi\u001b[0m\u001b[0;34m,\u001b[0m \u001b[0mdpi\u001b[0m\u001b[0;34m)\u001b[0m\u001b[0;34m)\u001b[0m\u001b[0;34m\u001b[0m\u001b[0;34m\u001b[0m\u001b[0m\n\u001b[0;32m-> 1601\u001b[0;31m         \u001b[0mimage\u001b[0m\u001b[0;34m.\u001b[0m\u001b[0msave\u001b[0m\u001b[0;34m(\u001b[0m\u001b[0mfname\u001b[0m\u001b[0;34m,\u001b[0m \u001b[0;34m**\u001b[0m\u001b[0mpil_kwargs\u001b[0m\u001b[0;34m)\u001b[0m\u001b[0;34m\u001b[0m\u001b[0;34m\u001b[0m\u001b[0m\n\u001b[0m\u001b[1;32m   1602\u001b[0m \u001b[0;34m\u001b[0m\u001b[0m\n\u001b[1;32m   1603\u001b[0m \u001b[0;34m\u001b[0m\u001b[0m\n",
      "\u001b[0;32m~/anaconda3/envs/wayve/lib/python3.8/site-packages/PIL/Image.py\u001b[0m in \u001b[0;36msave\u001b[0;34m(self, fp, format, **params)\u001b[0m\n\u001b[1;32m   2156\u001b[0m \u001b[0;34m\u001b[0m\u001b[0m\n\u001b[1;32m   2157\u001b[0m         \u001b[0;32mtry\u001b[0m\u001b[0;34m:\u001b[0m\u001b[0;34m\u001b[0m\u001b[0;34m\u001b[0m\u001b[0m\n\u001b[0;32m-> 2158\u001b[0;31m             \u001b[0msave_handler\u001b[0m\u001b[0;34m(\u001b[0m\u001b[0mself\u001b[0m\u001b[0;34m,\u001b[0m \u001b[0mfp\u001b[0m\u001b[0;34m,\u001b[0m \u001b[0mfilename\u001b[0m\u001b[0;34m)\u001b[0m\u001b[0;34m\u001b[0m\u001b[0;34m\u001b[0m\u001b[0m\n\u001b[0m\u001b[1;32m   2159\u001b[0m         \u001b[0;32mfinally\u001b[0m\u001b[0;34m:\u001b[0m\u001b[0;34m\u001b[0m\u001b[0;34m\u001b[0m\u001b[0m\n\u001b[1;32m   2160\u001b[0m             \u001b[0;31m# do what we can to clean up\u001b[0m\u001b[0;34m\u001b[0m\u001b[0;34m\u001b[0m\u001b[0;34m\u001b[0m\u001b[0m\n",
      "\u001b[0;32m~/anaconda3/envs/wayve/lib/python3.8/site-packages/PIL/JpegImagePlugin.py\u001b[0m in \u001b[0;36m_save\u001b[0;34m(im, fp, filename)\u001b[0m\n\u001b[1;32m    763\u001b[0m     \u001b[0mbufsize\u001b[0m \u001b[0;34m=\u001b[0m \u001b[0mmax\u001b[0m\u001b[0;34m(\u001b[0m\u001b[0mImageFile\u001b[0m\u001b[0;34m.\u001b[0m\u001b[0mMAXBLOCK\u001b[0m\u001b[0;34m,\u001b[0m \u001b[0mbufsize\u001b[0m\u001b[0;34m,\u001b[0m \u001b[0mlen\u001b[0m\u001b[0;34m(\u001b[0m\u001b[0mexif\u001b[0m\u001b[0;34m)\u001b[0m \u001b[0;34m+\u001b[0m \u001b[0;36m5\u001b[0m\u001b[0;34m,\u001b[0m \u001b[0mlen\u001b[0m\u001b[0;34m(\u001b[0m\u001b[0mextra\u001b[0m\u001b[0;34m)\u001b[0m \u001b[0;34m+\u001b[0m \u001b[0;36m1\u001b[0m\u001b[0;34m)\u001b[0m\u001b[0;34m\u001b[0m\u001b[0;34m\u001b[0m\u001b[0m\n\u001b[1;32m    764\u001b[0m \u001b[0;34m\u001b[0m\u001b[0m\n\u001b[0;32m--> 765\u001b[0;31m     \u001b[0mImageFile\u001b[0m\u001b[0;34m.\u001b[0m\u001b[0m_save\u001b[0m\u001b[0;34m(\u001b[0m\u001b[0mim\u001b[0m\u001b[0;34m,\u001b[0m \u001b[0mfp\u001b[0m\u001b[0;34m,\u001b[0m \u001b[0;34m[\u001b[0m\u001b[0;34m(\u001b[0m\u001b[0;34m\"jpeg\"\u001b[0m\u001b[0;34m,\u001b[0m \u001b[0;34m(\u001b[0m\u001b[0;36m0\u001b[0m\u001b[0;34m,\u001b[0m \u001b[0;36m0\u001b[0m\u001b[0;34m)\u001b[0m \u001b[0;34m+\u001b[0m \u001b[0mim\u001b[0m\u001b[0;34m.\u001b[0m\u001b[0msize\u001b[0m\u001b[0;34m,\u001b[0m \u001b[0;36m0\u001b[0m\u001b[0;34m,\u001b[0m \u001b[0mrawmode\u001b[0m\u001b[0;34m)\u001b[0m\u001b[0;34m]\u001b[0m\u001b[0;34m,\u001b[0m \u001b[0mbufsize\u001b[0m\u001b[0;34m)\u001b[0m\u001b[0;34m\u001b[0m\u001b[0;34m\u001b[0m\u001b[0m\n\u001b[0m\u001b[1;32m    766\u001b[0m \u001b[0;34m\u001b[0m\u001b[0m\n\u001b[1;32m    767\u001b[0m \u001b[0;34m\u001b[0m\u001b[0m\n",
      "\u001b[0;32m~/anaconda3/envs/wayve/lib/python3.8/site-packages/PIL/ImageFile.py\u001b[0m in \u001b[0;36m_save\u001b[0;34m(im, fp, tile, bufsize)\u001b[0m\n\u001b[1;32m    536\u001b[0m                 \u001b[0ml\u001b[0m\u001b[0;34m,\u001b[0m \u001b[0ms\u001b[0m \u001b[0;34m=\u001b[0m \u001b[0me\u001b[0m\u001b[0;34m.\u001b[0m\u001b[0mencode_to_pyfd\u001b[0m\u001b[0;34m(\u001b[0m\u001b[0;34m)\u001b[0m\u001b[0;34m\u001b[0m\u001b[0;34m\u001b[0m\u001b[0m\n\u001b[1;32m    537\u001b[0m             \u001b[0;32melse\u001b[0m\u001b[0;34m:\u001b[0m\u001b[0;34m\u001b[0m\u001b[0;34m\u001b[0m\u001b[0m\n\u001b[0;32m--> 538\u001b[0;31m                 \u001b[0ms\u001b[0m \u001b[0;34m=\u001b[0m \u001b[0me\u001b[0m\u001b[0;34m.\u001b[0m\u001b[0mencode_to_file\u001b[0m\u001b[0;34m(\u001b[0m\u001b[0mfh\u001b[0m\u001b[0;34m,\u001b[0m \u001b[0mbufsize\u001b[0m\u001b[0;34m)\u001b[0m\u001b[0;34m\u001b[0m\u001b[0;34m\u001b[0m\u001b[0m\n\u001b[0m\u001b[1;32m    539\u001b[0m             \u001b[0;32mif\u001b[0m \u001b[0ms\u001b[0m \u001b[0;34m<\u001b[0m \u001b[0;36m0\u001b[0m\u001b[0;34m:\u001b[0m\u001b[0;34m\u001b[0m\u001b[0;34m\u001b[0m\u001b[0m\n\u001b[1;32m    540\u001b[0m                 \u001b[0;32mraise\u001b[0m \u001b[0mOSError\u001b[0m\u001b[0;34m(\u001b[0m\u001b[0;34m\"encoder error %d when writing image file\"\u001b[0m \u001b[0;34m%\u001b[0m \u001b[0ms\u001b[0m\u001b[0;34m)\u001b[0m\u001b[0;34m\u001b[0m\u001b[0;34m\u001b[0m\u001b[0m\n",
      "\u001b[0;31mKeyboardInterrupt\u001b[0m: "
     ]
    }
   ],
   "source": [
    "\n",
    "# Loop through files\n",
    "for f in os.listdir(mount_context.mount_point):\n",
    "    if os.path.splitext(f)[-1] == '.mp4': # Process only files ending in mp4\n",
    "        full_file_path = os.path.join(mount_context.mount_point, f)\n",
    "        processVideo(full_file_path)\n"
   ]
  },
  {
   "cell_type": "code",
   "execution_count": 7,
   "metadata": {},
   "outputs": [],
   "source": [
    "# Unmount dataset\n",
    "mount_context.stop()"
   ]
  }
 ]
}