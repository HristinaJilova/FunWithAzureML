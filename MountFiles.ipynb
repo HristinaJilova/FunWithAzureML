{
  "cells": [
    {
      "cell_type": "markdown",
      "source": [
        "# Mount FileDataset and extract video frames"
      ],
      "metadata": {}
    },
    {
      "cell_type": "code",
      "source": [
        "!pip install --upgrade azureml-sdk azureml-dataprep opencv-python matplotlib"
      ],
      "outputs": [],
      "execution_count": null,
      "metadata": {
        "tags": []
      }
    },
    {
      "cell_type": "code",
      "source": [
        "from azureml.core import Workspace, Dataset\n",
        "\n",
        "workspace = Workspace.from_config()\n",
        "print(workspace)"
      ],
      "outputs": [],
      "execution_count": null,
      "metadata": {
        "tags": [],
        "gather": {
          "logged": 1631113268489
        }
      }
    },
    {
      "cell_type": "code",
      "source": [
        "dataset_name=\"videos-samples\"\n",
        "dataset = Dataset.get_by_name(workspace, name=dataset_name)\n",
        "print(dataset.name)"
      ],
      "outputs": [],
      "execution_count": null,
      "metadata": {
        "tags": [],
        "gather": {
          "logged": 1631103134397
        }
      }
    },
    {
      "cell_type": "code",
      "source": [
        "import cv2\n",
        "import matplotlib.pyplot as plt\n",
        "def processVideo(video_file_path):\n",
        "     video_capture = cv2.VideoCapture(video_file_path)\n",
        "     print(f\"{video_file_path}: file opened {video_capture.isOpened()}\")\n",
        "     fps = int(video_capture.get(cv2.CAP_PROP_FPS))\n",
        "     print(f\"{video_file_path}: fps # {fps}\")\n",
        "     frame_count = 0\n",
        "     video_capture.set(cv2.CAP_PROP_POS_FRAMES, frame_count)\n",
        "     success, frame = video_capture.read()\n",
        "     print(f\"{video_file_path}: {success} reading first frame\")\n",
        "     while success:\n",
        "         temp_file_name = f\"/tmp/video_frame_{frame_count:05d}.jpg\"\n",
        "         # convert to RGB\n",
        "         rgb_frame =  cv2.cvtColor(frame, cv2.COLOR_BGR2RGB)\n",
        "         plt.imsave(temp_file_name, rgb_frame)\n",
        "         print(f\"{frame_count:05d}: Saved frame in {temp_file_name}\")\n",
        "         frame_count += 1\n",
        "         success, frame = video_capture.read()\n"
      ],
      "outputs": [],
      "execution_count": null,
      "metadata": {}
    },
    {
      "cell_type": "code",
      "source": [
        "# mount dataset manually instead of using\n",
        "# with dataset.mount() as mount_context:\n",
        "mount_context=dataset.mount()\n",
        "mount_context.start()\n",
        "# See where we mounted the file dataset\n",
        "print(mount_context.mount_point)\n",
        "# List files in there\n",
        "print(os.listdir(mount_context.mount_point))\n"
      ],
      "outputs": [],
      "execution_count": null,
      "metadata": {
        "tags": [],
        "gather": {
          "logged": 1631103148966
        }
      }
    },
    {
      "cell_type": "code",
      "source": [
        "\n",
        "# Loop through files\n",
        "for f in os.listdir(mount_context.mount_point):\n",
        "    if os.path.splitext(f)[-1] == '.mp4': # Process only files ending in mp4\n",
        "        full_file_path = os.path.join(mount_context.mount_point, f)\n",
        "        processVideo(full_file_path)\n"
      ],
      "outputs": [],
      "execution_count": null,
      "metadata": {
        "tags": []
      }
    },
    {
      "cell_type": "code",
      "source": [
        "# Unmount dataset\n",
        "mount_context.stop()"
      ],
      "outputs": [],
      "execution_count": null,
      "metadata": {}
    },
    {
      "cell_type": "markdown",
      "source": [
        "## Identity passthrough"
      ],
      "metadata": {
        "nteract": {
          "transient": {
            "deleting": false
          }
        }
      }
    },
    {
      "cell_type": "markdown",
      "source": [
        "Create an ADLS Gen 2 datasource selecting `No` to the `Save credentials with the datastore for data access (Preview)` option. Configure the [ACL](https://docs.microsoft.com/en-us/azure/storage/blobs/data-lake-storage-access-control) to have access to the folder where you have the data. Don't forget to include ACL on subfolders as well. Define a new file dataset. Make sure that you can see files in that file dataset, otherwise your permissions are wrong. See following image as a sample on how a working file dataset would look like (passing your credentials to the datastore):\r\n",
        "![ADSL file dataset](./MountFiles.ADLS.png)"
      ],
      "metadata": {
        "nteract": {
          "transient": {
            "deleting": false
          }
        }
      }
    },
    {
      "cell_type": "code",
      "source": [
        "import os\r\n",
        "\r\n",
        "passthrough_ds = Dataset.get_by_name(workspace, name=\"adls-file-ds\")\r\n",
        "print(passthrough_ds)\r\n",
        "\r\n",
        "# mount dataset \r\n",
        "with passthrough_ds.mount() as mount_context:\r\n",
        "    print(mount_context.mount_point)\r\n",
        "    # List files in there\r\n",
        "    print(os.listdir(mount_context.mount_point))"
      ],
      "outputs": [],
      "execution_count": null,
      "metadata": {
        "jupyter": {
          "source_hidden": false,
          "outputs_hidden": false
        },
        "nteract": {
          "transient": {
            "deleting": false
          }
        },
        "gather": {
          "logged": 1631113284926
        }
      }
    },
    {
      "cell_type": "code",
      "source": [
        "# If I need to specify tenant\r\n",
        "# os.environ['AZUREML_DATA_ACCESS_TENANT_ID']=\"f1e73557-1454-436a-9ede-fcdce055eac8\"\r\n",
        "# !printenv"
      ],
      "outputs": [],
      "execution_count": null,
      "metadata": {
        "jupyter": {
          "source_hidden": false,
          "outputs_hidden": false
        },
        "nteract": {
          "transient": {
            "deleting": false
          }
        }
      }
    }
  ],
  "metadata": {
    "kernel_info": {
      "name": "python3-azureml"
    },
    "kernelspec": {
      "name": "python3-azureml",
      "language": "python",
      "display_name": "Python 3.6 - AzureML"
    },
    "language_info": {
      "name": "python",
      "version": "3.6.9",
      "mimetype": "text/x-python",
      "codemirror_mode": {
        "name": "ipython",
        "version": 3
      },
      "pygments_lexer": "ipython3",
      "nbconvert_exporter": "python",
      "file_extension": ".py"
    },
    "nteract": {
      "version": "nteract-front-end@1.0.0"
    }
  },
  "nbformat": 4,
  "nbformat_minor": 2
}