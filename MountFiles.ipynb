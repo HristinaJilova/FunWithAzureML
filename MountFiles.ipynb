{
 "metadata": {
  "language_info": {
   "codemirror_mode": {
    "name": "ipython",
    "version": 3
   },
   "file_extension": ".py",
   "mimetype": "text/x-python",
   "name": "python",
   "nbconvert_exporter": "python",
   "pygments_lexer": "ipython3",
   "version": "3.8.5-final"
  },
  "orig_nbformat": 2,
  "kernelspec": {
   "name": "python_defaultSpec_1599833441167",
   "display_name": "Python 3.8.5 64-bit ('wayve': conda)"
  }
 },
 "nbformat": 4,
 "nbformat_minor": 2,
 "cells": [
  {
   "source": [
    "# Mount FileDataset and extract video frames"
   ],
   "cell_type": "markdown",
   "metadata": {}
  },
  {
   "cell_type": "code",
   "execution_count": null,
   "metadata": {
    "tags": []
   },
   "outputs": [],
   "source": [
    "!pip install --upgrade azureml-sdk azureml-dataprep opencv-python matplotlib"
   ]
  },
  {
   "cell_type": "code",
   "execution_count": null,
   "metadata": {
    "tags": []
   },
   "outputs": [],
   "source": [
    "from azureml.core import Workspace, Dataset\n",
    "\n",
    "workspace = Workspace.from_config()\n",
    "print(workspace)"
   ]
  },
  {
   "cell_type": "code",
   "execution_count": null,
   "metadata": {
    "tags": []
   },
   "outputs": [],
   "source": [
    "dataset_name=\"videos-samples\"\n",
    "dataset = Dataset.get_by_name(workspace, name=dataset_name)\n",
    "print(dataset.name)"
   ]
  },
  {
   "cell_type": "code",
   "execution_count": null,
   "metadata": {},
   "outputs": [],
   "source": [
    "import cv2\n",
    "import matplotlib.pyplot as plt\n",
    "def processVideo(video_file_path):\n",
    "     video_capture = cv2.VideoCapture(video_file_path)\n",
    "     print(f\"{video_file_path}: file opened {video_capture.isOpened()}\")\n",
    "     fps = int(video_capture.get(cv2.CAP_PROP_FPS))\n",
    "     print(f\"{video_file_path}: fps # {fps}\")\n",
    "     frame_count = 0\n",
    "     video_capture.set(cv2.CAP_PROP_POS_FRAMES, frame_count)\n",
    "     success, frame = video_capture.read()\n",
    "     print(f\"{video_file_path}: {success} reading first frame\")\n",
    "     while success:\n",
    "         temp_file_name = f\"/tmp/video_frame_{frame_count:05d}.jpg\"\n",
    "         # convert to RGB\n",
    "         rgb_frame =  cv2.cvtColor(frame, cv2.COLOR_BGR2RGB)\n",
    "         plt.imsave(temp_file_name, rgb_frame)\n",
    "         print(f\"{frame_count:05d}: Saved frame in {temp_file_name}\")\n",
    "         frame_count += 1\n",
    "         success, frame = video_capture.read()\n"
   ]
  },
  {
   "cell_type": "code",
   "execution_count": null,
   "metadata": {
    "tags": []
   },
   "outputs": [],
   "source": [
    "# mount dataset manually instead of using\n",
    "# with dataset.mount() as mount_context:\n",
    "mount_context=dataset.mount()\n",
    "mount_context.start()\n",
    "# See where we mounted the file dataset\n",
    "print(mount_context.mount_point)\n",
    "# List files in there\n",
    "print(os.listdir(mount_context.mount_point))\n"
   ]
  },
  {
   "cell_type": "code",
   "execution_count": null,
   "metadata": {
    "tags": []
   },
   "outputs": [],
   "source": [
    "\n",
    "# Loop through files\n",
    "for f in os.listdir(mount_context.mount_point):\n",
    "    if os.path.splitext(f)[-1] == '.mp4': # Process only files ending in mp4\n",
    "        full_file_path = os.path.join(mount_context.mount_point, f)\n",
    "        processVideo(full_file_path)\n"
   ]
  },
  {
   "cell_type": "code",
   "execution_count": null,
   "metadata": {},
   "outputs": [],
   "source": [
    "# Unmount dataset\n",
    "mount_context.stop()"
   ]
  }
 ]
}