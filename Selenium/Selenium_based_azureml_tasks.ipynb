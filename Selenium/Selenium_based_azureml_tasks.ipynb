{
  "cells": [
    {
      "cell_type": "markdown",
      "source": [
        "# Use selenium tasks to extract information from web pages within AzureML pipelines"
      ],
      "metadata": {
        "nteract": {
          "transient": {
            "deleting": false
          }
        }
      }
    },
    {
      "cell_type": "code",
      "source": [
        "# Variables used in script. Update them to fit your environment.\r\n",
        "compute_cluster_name='cpu-cluster'\r\n",
        "pipeline_name='pull-data-from-site-pipeline'\r\n",
        "experiment_name='test-selenium'\r\n",
        "# The environment is created using the step00 file\r\n",
        "environment_name = 'selenium-env'"
      ],
      "outputs": [],
      "execution_count": null,
      "metadata": {
        "gather": {
          "logged": 1623777279686
        }
      }
    },
    {
      "cell_type": "code",
      "source": [
        "# The following line builds a docker image with the Selenium requirements\r\n",
        "# and registers it as an Environment in your workspace.\r\n",
        "# If you have run this already, you can comment it out to speed up \r\n",
        "# notebook execution\r\n",
        "!python step00_create_environment.py --env-name $environment_name"
      ],
      "outputs": [],
      "execution_count": null,
      "metadata": {
        "collapsed": true,
        "jupyter": {
          "source_hidden": false,
          "outputs_hidden": false
        },
        "nteract": {
          "transient": {
            "deleting": false
          }
        },
        "gather": {
          "logged": 1623777554896
        }
      }
    },
    {
      "cell_type": "markdown",
      "source": [
        "## Default imports from the AzureML SDK"
      ],
      "metadata": {
        "nteract": {
          "transient": {
            "deleting": false
          }
        }
      }
    },
    {
      "cell_type": "code",
      "source": [
        "import azureml\r\n",
        "\r\n",
        "from azureml.core import Workspace, Experiment, Datastore, Environment\r\n",
        "from azureml.core.runconfig import RunConfiguration\r\n",
        "from azureml.data.datapath import DataPath, DataPathComputeBinding\r\n",
        "from azureml.data.data_reference import DataReference\r\n",
        "from azureml.core.compute import ComputeTarget, AmlCompute\r\n",
        "from azureml.pipeline.core import Pipeline, PipelineData, PipelineParameter\r\n",
        "from azureml.pipeline.steps import PythonScriptStep, EstimatorStep\r\n",
        "from azureml.widgets import RunDetails\r\n",
        "from azureml.train.estimator import Estimator\r\n",
        "import os\r\n",
        "\r\n",
        "print(\"Azure ML SDK Version: \", azureml.core.VERSION)"
      ],
      "outputs": [],
      "execution_count": null,
      "metadata": {
        "collapsed": true,
        "jupyter": {
          "source_hidden": false,
          "outputs_hidden": false
        },
        "nteract": {
          "transient": {
            "deleting": false
          }
        },
        "gather": {
          "logged": 1623773103831
        }
      }
    },
    {
      "cell_type": "code",
      "source": [
        "# Connect to workspace and get resource references\r\n",
        "ws = Workspace.from_config()\r\n",
        "compute_cluster = ComputeTarget(workspace=ws, name=compute_cluster_name)\r\n",
        "datastore = ws.get_default_datastore()\r\n",
        "env = ws.environments[environment_name]"
      ],
      "outputs": [],
      "execution_count": null,
      "metadata": {
        "collapsed": true,
        "jupyter": {
          "source_hidden": false,
          "outputs_hidden": false
        },
        "nteract": {
          "transient": {
            "deleting": false
          }
        },
        "gather": {
          "logged": 1623773134401
        }
      }
    },
    {
      "cell_type": "markdown",
      "source": [
        "## Test the parsing script\r\n",
        "\r\n",
        "Use ScriptRunConfig to execute the selenium based web page scrapping script that stores a csv with all the links from a page to a CSV file in the `selenium/` folder in the root of the default blob storage container attached to the AzureML workspace."
      ],
      "metadata": {
        "nteract": {
          "transient": {
            "deleting": false
          }
        }
      }
    },
    {
      "cell_type": "code",
      "source": [
        "# Test the script that it works\r\n",
        "from azureml.core import ScriptRunConfig\r\n",
        "from azureml.data import OutputFileDatasetConfig\r\n",
        "\r\n",
        "# output is configured to write the result back to datastore, under \"selenium/\" folder\r\n",
        "# learn more about options to configure the output, run 'help(OutputFileDatasetConfig)'\r\n",
        "output = OutputFileDatasetConfig(destination=(datastore, 'selenium/'))\r\n",
        "\r\n",
        "script = ScriptRunConfig(\r\n",
        "    source_directory='.',\r\n",
        "    environment=env,\r\n",
        "    script='selenium_script.py',\r\n",
        "    compute_target=compute_cluster,\r\n",
        "    arguments=[\r\n",
        "        '--url', 'https://www.bing.com',\r\n",
        "        '--output-path', output\r\n",
        "     ]\r\n",
        ")\r\n",
        "\r\n",
        "exp = Experiment(ws, experiment_name)\r\n",
        "run = exp.submit(script)\r\n",
        "run.wait_for_completion(show_output=True)"
      ],
      "outputs": [],
      "execution_count": null,
      "metadata": {
        "collapsed": true,
        "jupyter": {
          "source_hidden": false,
          "outputs_hidden": false
        },
        "nteract": {
          "transient": {
            "deleting": false
          }
        },
        "gather": {
          "logged": 1623777656920
        }
      }
    },
    {
      "cell_type": "markdown",
      "source": [
        "## Create repeatable pipeline\r\n",
        "Create a pipeline that extracts the data and stores it in the default blob"
      ],
      "metadata": {
        "nteract": {
          "transient": {
            "deleting": false
          }
        }
      }
    },
    {
      "cell_type": "code",
      "source": [
        "# Define the pipeline parameters \r\n",
        "website_pipeline_param = PipelineParameter(name=\"url\", default_value=\"https://www.bing.com\")\r\n",
        "\r\n",
        "# Run configuration specifying the environment to use\r\n",
        "run_config = RunConfiguration()\r\n",
        "run_config.environment = env\r\n",
        "\r\n",
        "# Create a python step to run the same script. Note that this is similar to the above\r\n",
        "parse_step = PythonScriptStep(\r\n",
        "   'selenium_script.py',\r\n",
        "    name='Grab web data',\r\n",
        "    source_directory='.',\r\n",
        "    compute_target=compute_cluster,\r\n",
        "    arguments=[\r\n",
        "        '--url', website_pipeline_param,\r\n",
        "        '--output-path', output\r\n",
        "     ],\r\n",
        "    runconfig=run_config,\r\n",
        "    outputs=[output]\r\n",
        ")\r\n",
        "\r\n",
        "pipeline = Pipeline(workspace=ws, steps=[parse_step])\r\n",
        "\r\n",
        "published_pipeline = pipeline.publish(\r\n",
        "    pipeline_name, \r\n",
        "    description=\"Pipeline to parse links from a web page\")"
      ],
      "outputs": [],
      "execution_count": null,
      "metadata": {
        "collapsed": true,
        "jupyter": {
          "source_hidden": false,
          "outputs_hidden": false
        },
        "nteract": {
          "transient": {
            "deleting": false
          }
        },
        "gather": {
          "logged": 1623777988947
        }
      }
    },
    {
      "cell_type": "code",
      "source": [
        "from azureml.core.authentication import InteractiveLoginAuthentication\r\n",
        "import requests\r\n",
        "\r\n",
        "auth = InteractiveLoginAuthentication()\r\n",
        "aad_token = auth.get_authentication_header()\r\n",
        "\r\n",
        "response = requests.post(published_pipeline.endpoint, \r\n",
        "                         headers=aad_token, \r\n",
        "                         json={\"ExperimentName\": experiment_name,\r\n",
        "                               \"ParameterAssignments\": {\"url\": \"https://www.microsoft.com\"}})\r\n",
        "\r\n",
        "print(response)"
      ],
      "outputs": [],
      "execution_count": null,
      "metadata": {
        "collapsed": true,
        "jupyter": {
          "source_hidden": false,
          "outputs_hidden": false
        },
        "nteract": {
          "transient": {
            "deleting": false
          }
        },
        "gather": {
          "logged": 1623778600248
        }
      }
    },
    {
      "cell_type": "markdown",
      "source": [
        "Check the AutoShutDown example if you want to schedule the published pipeline."
      ],
      "metadata": {
        "nteract": {
          "transient": {
            "deleting": false
          }
        }
      }
    }
  ],
  "metadata": {
    "kernelspec": {
      "name": "python3-azureml",
      "language": "python",
      "display_name": "Python 3.6 - AzureML"
    },
    "language_info": {
      "name": "python",
      "version": "3.6.9",
      "mimetype": "text/x-python",
      "codemirror_mode": {
        "name": "ipython",
        "version": 3
      },
      "pygments_lexer": "ipython3",
      "nbconvert_exporter": "python",
      "file_extension": ".py"
    },
    "kernel_info": {
      "name": "python3-azureml"
    },
    "microsoft": {
      "host": {
        "AzureML": {
          "notebookHasBeenCompleted": true
        }
      }
    },
    "nteract": {
      "version": "nteract-front-end@1.0.0"
    }
  },
  "nbformat": 4,
  "nbformat_minor": 2
}