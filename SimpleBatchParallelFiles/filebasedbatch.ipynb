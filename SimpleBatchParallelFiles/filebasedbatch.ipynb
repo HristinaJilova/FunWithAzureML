{
  "cells": [
    {
      "cell_type": "markdown",
      "source": [
        "# Simple parallel batch processing of multiple files\r\n",
        "\r\n",
        "We have weather data partitioned by year and month e.g. `greece-weather-data/{year}/{month}/data.parquet`. We want to batch process them all in the `cpu-cluster` in 10 processes, 5 on each node.\r\n",
        "Each process will be invoked multiple times, passing in 10 files every time.\r\n",
        "The script will print which files it's processing every time.\r\n",
        "\r\n",
        "Results will be stored in `inferences/greece-weather/outputs.txt` file.\r\n"
      ],
      "metadata": {
        "nteract": {
          "transient": {
            "deleting": false
          }
        }
      }
    },
    {
      "cell_type": "code",
      "source": [
        "from azureml.core import Workspace\r\n",
        "\r\n",
        "ws = Workspace.from_config()\r\n",
        "dstore = ws.get_default_datastore()\r\n",
        "compute_target = ws.compute_targets[\"cpu-cluster\"]"
      ],
      "outputs": [],
      "execution_count": null,
      "metadata": {
        "gather": {
          "logged": 1632151411349
        }
      }
    },
    {
      "cell_type": "code",
      "source": [
        "from azureml.core import Dataset\r\n",
        "\r\n",
        "# Files are saved in a date partition like greece-weather-data/year/month/data.parquet \r\n",
        "file_paths = [(dstore,'greece-weather-data/**/*.parquet')]\r\n",
        "file_ds = Dataset.File.from_files(path=file_paths, validate=True)"
      ],
      "outputs": [],
      "execution_count": null,
      "metadata": {
        "jupyter": {
          "source_hidden": false,
          "outputs_hidden": false
        },
        "nteract": {
          "transient": {
            "deleting": false
          }
        },
        "gather": {
          "logged": 1632151151388
        }
      }
    },
    {
      "cell_type": "code",
      "source": [
        "from azureml.pipeline.core import PipelineParameter\r\n",
        "from azureml.data.dataset_consumption_config import DatasetConsumptionConfig\r\n",
        "\r\n",
        "ds_pipeline_param = PipelineParameter(name=\"dataset\", default_value=file_ds)\r\n",
        "step01_input_dataset = DatasetConsumptionConfig(\"input_dataset\", ds_pipeline_param)"
      ],
      "outputs": [],
      "execution_count": null,
      "metadata": {
        "jupyter": {
          "source_hidden": false,
          "outputs_hidden": false
        },
        "nteract": {
          "transient": {
            "deleting": false
          }
        },
        "gather": {
          "logged": 1632151151450
        }
      }
    },
    {
      "cell_type": "code",
      "source": [
        "from azureml.pipeline.steps import ParallelRunConfig\r\n",
        "\r\n",
        "# Configure parallel step\r\n",
        "parallel_run_config = ParallelRunConfig(\r\n",
        "    source_directory=\"script\",\r\n",
        "    entry_script=\"file_batch.py\",\r\n",
        "    mini_batch_size=10,\r\n",
        "    error_threshold=-1,\r\n",
        "    output_action=\"append_row\",\r\n",
        "    append_row_file_name=\"outputs.txt\",\r\n",
        "    environment=ws.environments[\"AzureML-Tutorial\"],\r\n",
        "    compute_target=compute_target,\r\n",
        "    node_count=2,\r\n",
        "    process_count_per_node=5,\r\n",
        "    run_invocation_timeout=600,\r\n",
        ")"
      ],
      "outputs": [],
      "execution_count": null,
      "metadata": {
        "jupyter": {
          "source_hidden": false,
          "outputs_hidden": false
        },
        "nteract": {
          "transient": {
            "deleting": false
          }
        },
        "gather": {
          "logged": 1632151152329
        }
      }
    },
    {
      "cell_type": "code",
      "source": [
        "from azureml.data import OutputFileDatasetConfig\r\n",
        "\r\n",
        "# Configure where to output inferences\r\n",
        "step_output = OutputFileDatasetConfig(\r\n",
        "    name=\"results_store\", destination=(dstore, \"/inferences/greece-weather/\")\r\n",
        ")"
      ],
      "outputs": [],
      "execution_count": null,
      "metadata": {
        "jupyter": {
          "source_hidden": false,
          "outputs_hidden": false
        },
        "nteract": {
          "transient": {
            "deleting": false
          }
        },
        "gather": {
          "logged": 1632151152392
        }
      }
    },
    {
      "cell_type": "code",
      "source": [
        "from azureml.pipeline.steps import ParallelRunStep\r\n",
        "\r\n",
        "parallel_step = ParallelRunStep(\r\n",
        "    name=\"parallel-inference\",\r\n",
        "    inputs=[step01_input_dataset],\r\n",
        "    output=step_output,\r\n",
        "    parallel_run_config=parallel_run_config,\r\n",
        "    allow_reuse=False,\r\n",
        ")"
      ],
      "outputs": [],
      "execution_count": null,
      "metadata": {
        "jupyter": {
          "source_hidden": false,
          "outputs_hidden": false
        },
        "nteract": {
          "transient": {
            "deleting": false
          }
        },
        "gather": {
          "logged": 1632151152451
        }
      }
    },
    {
      "cell_type": "code",
      "source": [
        "from azureml.core import Experiment\r\n",
        "from azureml.pipeline.core import Pipeline\r\n",
        "\r\n",
        "pipeline = Pipeline(workspace=ws, steps=[parallel_step])\r\n",
        "\r\n",
        "pipeline_run = Experiment(ws, \"parallel-file-inference-run\").submit(pipeline)"
      ],
      "outputs": [],
      "execution_count": null,
      "metadata": {
        "jupyter": {
          "source_hidden": false,
          "outputs_hidden": false
        },
        "nteract": {
          "transient": {
            "deleting": false
          }
        },
        "gather": {
          "logged": 1632151159110
        }
      }
    }
  ],
  "metadata": {
    "kernelspec": {
      "name": "python3-azureml",
      "language": "python",
      "display_name": "Python 3.6 - AzureML"
    },
    "language_info": {
      "name": "python",
      "version": "3.6.9",
      "mimetype": "text/x-python",
      "codemirror_mode": {
        "name": "ipython",
        "version": 3
      },
      "pygments_lexer": "ipython3",
      "nbconvert_exporter": "python",
      "file_extension": ".py"
    },
    "kernel_info": {
      "name": "python3-azureml"
    },
    "nteract": {
      "version": "nteract-front-end@1.0.0"
    },
    "microsoft": {
      "host": {
        "AzureML": {
          "notebookHasBeenCompleted": true
        }
      }
    }
  },
  "nbformat": 4,
  "nbformat_minor": 2
}