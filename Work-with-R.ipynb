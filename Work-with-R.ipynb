{
  "cells": [
    {
      "cell_type": "markdown",
      "metadata": {
        "nteract": {
          "transient": {
            "deleting": false
          }
        }
      },
      "source": [
        "# Running R scripts within notebook in AzureML studio\n",
        "Make sure you select the R kernel on the top right corner.\n",
        "> Note: R SDK is deprecated. You should use cli v2 to run R scripts."
      ]
    },
    {
      "cell_type": "code",
      "execution_count": 1,
      "metadata": {
        "gather": {
          "logged": 1632756965471
        },
        "vscode": {
          "languageId": "r"
        }
      },
      "outputs": [],
      "source": [
        "library(azuremlsdk)\n",
        "ws <- load_workspace_from_config()"
      ]
    },
    {
      "cell_type": "code",
      "execution_count": 2,
      "metadata": {
        "jupyter": {
          "outputs_hidden": false,
          "source_hidden": false
        },
        "nteract": {
          "transient": {
            "deleting": false
          }
        },
        "vscode": {
          "languageId": "r"
        }
      },
      "outputs": [],
      "source": [
        "ds_acsanalytics <- get_dataset_by_name(ws, \"churn-training-GR\", version = \"latest\")\n",
        "df_acsanalytics <- load_dataset_into_data_frame(ds_acsanalytics)"
      ]
    },
    {
      "cell_type": "code",
      "execution_count": 4,
      "metadata": {
        "vscode": {
          "languageId": "r"
        }
      },
      "outputs": [
        {
          "data": {
            "text/html": [
              "<table class=\"dataframe\">\n",
              "<caption>A data.frame: 6 × 6</caption>\n",
              "<thead>\n",
              "\t<tr><th></th><th scope=col>id</th><th scope=col>customer_tenure</th><th scope=col>product_tenure</th><th scope=col>activity_last_6_months</th><th scope=col>activity_last_12_months</th><th scope=col>churned</th></tr>\n",
              "\t<tr><th></th><th scope=col>&lt;chr&gt;</th><th scope=col>&lt;dbl&gt;</th><th scope=col>&lt;dbl&gt;</th><th scope=col>&lt;dbl&gt;</th><th scope=col>&lt;dbl&gt;</th><th scope=col>&lt;lgl&gt;</th></tr>\n",
              "</thead>\n",
              "<tbody>\n",
              "\t<tr><th scope=row>1</th><td>user_00000</td><td> 1</td><td> 1</td><td>706</td><td> 706</td><td>FALSE</td></tr>\n",
              "\t<tr><th scope=row>2</th><td>user_00001</td><td>34</td><td>34</td><td>939</td><td>2016</td><td>FALSE</td></tr>\n",
              "\t<tr><th scope=row>3</th><td>user_00002</td><td> 2</td><td> 2</td><td>698</td><td> 698</td><td> TRUE</td></tr>\n",
              "\t<tr><th scope=row>4</th><td>user_00003</td><td>45</td><td>15</td><td>737</td><td>1692</td><td>FALSE</td></tr>\n",
              "\t<tr><th scope=row>5</th><td>user_00004</td><td> 2</td><td> 2</td><td>  9</td><td>   9</td><td> TRUE</td></tr>\n",
              "\t<tr><th scope=row>6</th><td>user_00005</td><td> 8</td><td> 8</td><td>700</td><td>2002</td><td> TRUE</td></tr>\n",
              "</tbody>\n",
              "</table>\n"
            ],
            "text/latex": [
              "A data.frame: 6 × 6\n",
              "\\begin{tabular}{r|llllll}\n",
              "  & id & customer\\_tenure & product\\_tenure & activity\\_last\\_6\\_months & activity\\_last\\_12\\_months & churned\\\\\n",
              "  & <chr> & <dbl> & <dbl> & <dbl> & <dbl> & <lgl>\\\\\n",
              "\\hline\n",
              "\t1 & user\\_00000 &  1 &  1 & 706 &  706 & FALSE\\\\\n",
              "\t2 & user\\_00001 & 34 & 34 & 939 & 2016 & FALSE\\\\\n",
              "\t3 & user\\_00002 &  2 &  2 & 698 &  698 &  TRUE\\\\\n",
              "\t4 & user\\_00003 & 45 & 15 & 737 & 1692 & FALSE\\\\\n",
              "\t5 & user\\_00004 &  2 &  2 &   9 &    9 &  TRUE\\\\\n",
              "\t6 & user\\_00005 &  8 &  8 & 700 & 2002 &  TRUE\\\\\n",
              "\\end{tabular}\n"
            ],
            "text/markdown": [
              "\n",
              "A data.frame: 6 × 6\n",
              "\n",
              "| <!--/--> | id &lt;chr&gt; | customer_tenure &lt;dbl&gt; | product_tenure &lt;dbl&gt; | activity_last_6_months &lt;dbl&gt; | activity_last_12_months &lt;dbl&gt; | churned &lt;lgl&gt; |\n",
              "|---|---|---|---|---|---|---|\n",
              "| 1 | user_00000 |  1 |  1 | 706 |  706 | FALSE |\n",
              "| 2 | user_00001 | 34 | 34 | 939 | 2016 | FALSE |\n",
              "| 3 | user_00002 |  2 |  2 | 698 |  698 |  TRUE |\n",
              "| 4 | user_00003 | 45 | 15 | 737 | 1692 | FALSE |\n",
              "| 5 | user_00004 |  2 |  2 |   9 |    9 |  TRUE |\n",
              "| 6 | user_00005 |  8 |  8 | 700 | 2002 |  TRUE |\n",
              "\n"
            ],
            "text/plain": [
              "  id         customer_tenure product_tenure activity_last_6_months\n",
              "1 user_00000  1               1             706                   \n",
              "2 user_00001 34              34             939                   \n",
              "3 user_00002  2               2             698                   \n",
              "4 user_00003 45              15             737                   \n",
              "5 user_00004  2               2               9                   \n",
              "6 user_00005  8               8             700                   \n",
              "  activity_last_12_months churned\n",
              "1  706                    FALSE  \n",
              "2 2016                    FALSE  \n",
              "3  698                     TRUE  \n",
              "4 1692                    FALSE  \n",
              "5    9                     TRUE  \n",
              "6 2002                     TRUE  "
            ]
          },
          "metadata": {},
          "output_type": "display_data"
        }
      ],
      "source": [
        "head(df_acsanalytics)"
      ]
    }
  ],
  "metadata": {
    "kernel_info": {
      "name": "ir"
    },
    "kernelspec": {
      "display_name": "R",
      "language": "R",
      "name": "ir"
    },
    "language_info": {
      "codemirror_mode": "r",
      "file_extension": ".r",
      "mimetype": "text/x-r-source",
      "name": "R",
      "pygments_lexer": "r",
      "version": "4.1.2"
    },
    "nteract": {
      "version": "nteract-front-end@1.0.0"
    }
  },
  "nbformat": 4,
  "nbformat_minor": 2
}
