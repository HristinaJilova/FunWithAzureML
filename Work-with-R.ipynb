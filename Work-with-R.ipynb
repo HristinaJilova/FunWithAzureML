{
  "cells": [
    {
      "cell_type": "markdown",
      "source": [
        "# Running R scripts within notebook in AzureML studio\r\n",
        "Make sure you select the R kernel on the top right corner."
      ],
      "metadata": {
        "nteract": {
          "transient": {
            "deleting": false
          }
        }
      }
    },
    {
      "cell_type": "code",
      "source": [
        "library(azuremlsdk)\r\n",
        "ws <- load_workspace_from_config()"
      ],
      "outputs": [],
      "execution_count": 1,
      "metadata": {
        "gather": {
          "logged": 1632756965471
        }
      }
    },
    {
      "cell_type": "code",
      "source": [
        "ds_acsanalytics <- get_dataset_by_name(ws, \"churn-training-GR\", version = \"latest\")\r\n",
        "df_acsanalytics <- load_dataset_into_data_frame(ds_acsanalytics)"
      ],
      "outputs": [
        {
          "output_type": "error",
          "ename": "ERROR",
          "evalue": "Error in py_call_impl(callable, dots$args, dots$keywords): MemoryError: Engine process terminated. This is most likely due to system running out of memory. Please retry with increased memory. |session_id=3fd99652-6107-44ef-a120-39f4e0f6ae4d\n\nDetailed traceback:\n  File \"/anaconda/envs/azureml_py36/lib/python3.6/site-packages/azureml/data/_loggerfactory.py\", line 129, in wrapper\n    return func(*args, **kwargs)\n  File \"/anaconda/envs/azureml_py36/lib/python3.6/site-packages/azureml/data/abstract_dataset.py\", line 89, in get_by_name\n    dataset = AbstractDataset._get_by_name(workspace, name, version)\n  File \"/anaconda/envs/azureml_py36/lib/python3.6/site-packages/azureml/data/abstract_dataset.py\", line 656, in _get_by_name\n    dataset = _dto_to_dataset(workspace, result)\n  File \"/anaconda/envs/azureml_py36/lib/python3.6/site-packages/azureml/data/_dataset_rest_helper.py\", line 93, in _dto_to_dataset\n    registration=registration)\n  File \"/anaconda/envs/azureml_py36/lib/python3.6/site-packages/azureml/data/_loggerfactory.py\", line 129, in wrapper\n    return func(*args, **kwargs)\n  File \"/anaconda/envs/azureml_py36/lib/python3.6/site-packages/azureml/data/abstract_dataset.py\", line 559, in _create\n    steps = dataset._dataflow._get_steps()\n  File \"/anaconda/envs/azureml_py36/lib/python3.6/site-packages/azureml/data/_loggerfactory.py\", line 129, in wrapper\n    return func(*args, **kwargs)\n  File \"/anaconda/envs/azureml_py36/lib/python3.6/site-packages/azureml/data/abstract_dataset.py\", line 217, in _dataflow\n    dataprep().api._datastore_helper._set_auth_type(self._registration.workspace)\n  File \"/anaconda/envs/azureml_py36/lib/python3.6/site-packages/azureml/dataprep/api/_datastore_helper.py\", line 185, in _set_auth_type\n    get_engine_api().set_aml_auth(SetAmlAuthMessageArgument(auth_type, json.dumps(auth_value)))\n  File \"/anaconda/envs/azureml_py36/lib/python3.6/site-packages/azureml/dataprep/api/engineapi/api.py\", line 19, in get_engine_api\n    _engine_api = EngineAPI()\n  File \"/anaconda/envs/azureml_py36/lib/python3.6/site-packages/azureml/dataprep/api/engineapi/api.py\", line 120, in __init__\n    connect_to_requests_channel()\n  File \"/anaconda/envs/azureml_py36/lib/python3.6/site-packages/azureml/dataprep/api/engineapi/api.py\", line 107, in connect_to_requests_channel\n    self._engine_server_secret = self.sync_host_secret(self.requests_channel.host_secret)\n  File \"/anaconda/envs/azureml_py36/lib/python3.6/site-packages/azureml/dataprep/api/_aml_helper.py\", line 38, in wrapper\n    return send_message_func(op_code, message, cancellation_token)\n  File \"/anaconda/envs/azureml_py36/lib/python3.6/site-packages/azureml/dataprep/api/engineapi/api.py\", line 311, in sync_host_secret\n    response = self._message_channel.send_message('Engine.SyncHostSecret', message_args, cancellation_token)\n  File \"/anaconda/envs/azureml_py36/lib/python3.6/site-packages/azureml/dataprep/api/engineapi/engine.py\", line 275, in send_message\n    raise message['error']\n  File \"/anaconda/envs/azureml_py36/lib/python3.6/site-packages/azureml/dataprep/api/engineapi/engine.py\", line 223, in process_responses\n    response = self._read_response(caller='MultiThreadMessageChannel.process_responses')\n  File \"/anaconda/envs/azureml_py36/lib/python3.6/site-packages/azureml/dataprep/api/engineapi/engine.py\", line 148, in _read_response\n    raise error\n\n",
          "traceback": [
            "Error in py_call_impl(callable, dots$args, dots$keywords): MemoryError: Engine process terminated. This is most likely due to system running out of memory. Please retry with increased memory. |session_id=3fd99652-6107-44ef-a120-39f4e0f6ae4d\n\nDetailed traceback:\n  File \"/anaconda/envs/azureml_py36/lib/python3.6/site-packages/azureml/data/_loggerfactory.py\", line 129, in wrapper\n    return func(*args, **kwargs)\n  File \"/anaconda/envs/azureml_py36/lib/python3.6/site-packages/azureml/data/abstract_dataset.py\", line 89, in get_by_name\n    dataset = AbstractDataset._get_by_name(workspace, name, version)\n  File \"/anaconda/envs/azureml_py36/lib/python3.6/site-packages/azureml/data/abstract_dataset.py\", line 656, in _get_by_name\n    dataset = _dto_to_dataset(workspace, result)\n  File \"/anaconda/envs/azureml_py36/lib/python3.6/site-packages/azureml/data/_dataset_rest_helper.py\", line 93, in _dto_to_dataset\n    registration=registration)\n  File \"/anaconda/envs/azureml_py36/lib/python3.6/site-packages/azureml/data/_loggerfactory.py\", line 129, in wrapper\n    return func(*args, **kwargs)\n  File \"/anaconda/envs/azureml_py36/lib/python3.6/site-packages/azureml/data/abstract_dataset.py\", line 559, in _create\n    steps = dataset._dataflow._get_steps()\n  File \"/anaconda/envs/azureml_py36/lib/python3.6/site-packages/azureml/data/_loggerfactory.py\", line 129, in wrapper\n    return func(*args, **kwargs)\n  File \"/anaconda/envs/azureml_py36/lib/python3.6/site-packages/azureml/data/abstract_dataset.py\", line 217, in _dataflow\n    dataprep().api._datastore_helper._set_auth_type(self._registration.workspace)\n  File \"/anaconda/envs/azureml_py36/lib/python3.6/site-packages/azureml/dataprep/api/_datastore_helper.py\", line 185, in _set_auth_type\n    get_engine_api().set_aml_auth(SetAmlAuthMessageArgument(auth_type, json.dumps(auth_value)))\n  File \"/anaconda/envs/azureml_py36/lib/python3.6/site-packages/azureml/dataprep/api/engineapi/api.py\", line 19, in get_engine_api\n    _engine_api = EngineAPI()\n  File \"/anaconda/envs/azureml_py36/lib/python3.6/site-packages/azureml/dataprep/api/engineapi/api.py\", line 120, in __init__\n    connect_to_requests_channel()\n  File \"/anaconda/envs/azureml_py36/lib/python3.6/site-packages/azureml/dataprep/api/engineapi/api.py\", line 107, in connect_to_requests_channel\n    self._engine_server_secret = self.sync_host_secret(self.requests_channel.host_secret)\n  File \"/anaconda/envs/azureml_py36/lib/python3.6/site-packages/azureml/dataprep/api/_aml_helper.py\", line 38, in wrapper\n    return send_message_func(op_code, message, cancellation_token)\n  File \"/anaconda/envs/azureml_py36/lib/python3.6/site-packages/azureml/dataprep/api/engineapi/api.py\", line 311, in sync_host_secret\n    response = self._message_channel.send_message('Engine.SyncHostSecret', message_args, cancellation_token)\n  File \"/anaconda/envs/azureml_py36/lib/python3.6/site-packages/azureml/dataprep/api/engineapi/engine.py\", line 275, in send_message\n    raise message['error']\n  File \"/anaconda/envs/azureml_py36/lib/python3.6/site-packages/azureml/dataprep/api/engineapi/engine.py\", line 223, in process_responses\n    response = self._read_response(caller='MultiThreadMessageChannel.process_responses')\n  File \"/anaconda/envs/azureml_py36/lib/python3.6/site-packages/azureml/dataprep/api/engineapi/engine.py\", line 148, in _read_response\n    raise error\n\nTraceback:\n",
            "1. get_dataset_by_name(ws, \"churn-training-GR\", version = \"latest\")",
            "2. azureml$core$dataset$Dataset$get_by_name(workspace, name, version)",
            "3. py_call_impl(callable, dots$args, dots$keywords)"
          ]
        }
      ],
      "execution_count": 3,
      "metadata": {
        "jupyter": {
          "source_hidden": false,
          "outputs_hidden": false
        },
        "nteract": {
          "transient": {
            "deleting": false
          }
        }
      }
    },
    {
      "cell_type": "code",
      "source": [],
      "outputs": [],
      "execution_count": null,
      "metadata": {
        "jupyter": {
          "source_hidden": false,
          "outputs_hidden": false
        },
        "nteract": {
          "transient": {
            "deleting": false
          }
        }
      }
    }
  ],
  "metadata": {
    "kernelspec": {
      "name": "ir",
      "language": "R",
      "display_name": "R"
    },
    "language_info": {
      "name": "R",
      "codemirror_mode": "r",
      "pygments_lexer": "r",
      "mimetype": "text/x-r-source",
      "file_extension": ".r",
      "version": "4.0.5"
    },
    "kernel_info": {
      "name": "ir"
    },
    "nteract": {
      "version": "nteract-front-end@1.0.0"
    }
  },
  "nbformat": 4,
  "nbformat_minor": 2
}