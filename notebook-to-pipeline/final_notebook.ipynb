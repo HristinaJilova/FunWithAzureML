{
  "cells": [
    {
      "cell_type": "code",
      "execution_count": null,
      "metadata": {
        "gather": {
          "logged": 1665152507932
        },
        "jupyter": {
          "outputs_hidden": false,
          "source_hidden": false
        },
        "nteract": {
          "transient": {
            "deleting": false
          }
        }
      },
      "outputs": [],
      "source": [
        "# Environment setup\n",
        "# %pip install openpyxl\n",
        "# %pip install pyod\n",
        "# %pip install -U kaleido"
      ]
    },
    {
      "cell_type": "code",
      "execution_count": 16,
      "metadata": {
        "jupyter": {
          "outputs_hidden": false,
          "source_hidden": false
        },
        "nteract": {
          "transient": {
            "deleting": false
          }
        }
      },
      "outputs": [
        {
          "name": "stdout",
          "output_type": "stream",
          "text": [
            "Note: you may need to restart the kernel to use updated packages.\n"
          ]
        }
      ],
      "source": [
        "# Find specific version\n",
        "# %pip freeze | grep openpyxl"
      ]
    },
    {
      "cell_type": "code",
      "execution_count": null,
      "metadata": {
        "gather": {
          "logged": 1665153273281
        },
        "jupyter": {
          "outputs_hidden": false,
          "source_hidden": false
        },
        "nteract": {
          "transient": {
            "deleting": false
          }
        }
      },
      "outputs": [],
      "source": [
        "class Config(object):\n",
        "    def __init__(self):\n",
        "        self.input_folder = \"./Companies\"\n",
        "        self.input_file = \"Records.xlsx\"\n",
        "        self.output_folder = \"./analysis_results\"\n",
        "        self.company_code = \"CompanyA\"\n",
        "        self.showgraph = True\n",
        "\n",
        "\n",
        "args = Config()"
      ]
    },
    {
      "cell_type": "code",
      "execution_count": null,
      "metadata": {
        "gather": {
          "logged": 1665153090710
        }
      },
      "outputs": [],
      "source": [
        "import pandas as pd\n",
        "import numpy as np\n",
        "from os import path"
      ]
    },
    {
      "cell_type": "code",
      "execution_count": null,
      "metadata": {
        "gather": {
          "logged": 1665153102856
        },
        "jupyter": {
          "outputs_hidden": false,
          "source_hidden": false
        },
        "nteract": {
          "transient": {
            "deleting": false
          }
        }
      },
      "outputs": [],
      "source": [
        "excel_file_path = path.join(args.input_folder, args.company_code, args.input_file)\n",
        "print(excel_file_path)\n",
        "df = pd.read_excel(excel_file_path, engine=\"openpyxl\")"
      ]
    },
    {
      "cell_type": "code",
      "execution_count": null,
      "metadata": {
        "gather": {
          "logged": 1665152508734
        },
        "jupyter": {
          "outputs_hidden": false,
          "source_hidden": false
        },
        "nteract": {
          "transient": {
            "deleting": false
          }
        }
      },
      "outputs": [],
      "source": [
        "df.head()"
      ]
    },
    {
      "cell_type": "code",
      "execution_count": null,
      "metadata": {
        "gather": {
          "logged": 1665152508820
        },
        "jupyter": {
          "outputs_hidden": false,
          "source_hidden": false
        },
        "nteract": {
          "transient": {
            "deleting": false
          }
        }
      },
      "outputs": [],
      "source": [
        "df_no_date = df.drop(columns=\"Date\", inplace=False)"
      ]
    },
    {
      "cell_type": "code",
      "execution_count": null,
      "metadata": {
        "gather": {
          "logged": 1665152509284
        },
        "jupyter": {
          "outputs_hidden": false,
          "source_hidden": false
        },
        "nteract": {
          "transient": {
            "deleting": false
          }
        }
      },
      "outputs": [],
      "source": [
        "from pyod.models.pca import PCA\n",
        "from pyod.models.lof import LOF\n",
        "from pyod.models.abod import ABOD"
      ]
    },
    {
      "cell_type": "code",
      "execution_count": null,
      "metadata": {
        "gather": {
          "logged": 1665152509361
        },
        "jupyter": {
          "outputs_hidden": false,
          "source_hidden": false
        },
        "nteract": {
          "transient": {
            "deleting": false
          }
        }
      },
      "outputs": [],
      "source": [
        "models = {\n",
        "    \"pca\": PCA(contamination=0.1, n_components=3),\n",
        "    \"lof\": LOF(contamination=0.1),\n",
        "    \"abod\": ABOD(contamination=0.1),\n",
        "}"
      ]
    },
    {
      "cell_type": "code",
      "execution_count": null,
      "metadata": {
        "gather": {
          "logged": 1665152509443
        },
        "jupyter": {
          "outputs_hidden": false,
          "source_hidden": false
        },
        "nteract": {
          "transient": {
            "deleting": false
          }
        }
      },
      "outputs": [],
      "source": [
        "# Show all detectors\n",
        "for i, clf in enumerate(models.keys()):\n",
        "    print(\"Model\", i + 1, clf)"
      ]
    },
    {
      "cell_type": "code",
      "execution_count": null,
      "metadata": {
        "gather": {
          "logged": 1665152511050
        },
        "jupyter": {
          "outputs_hidden": false,
          "source_hidden": false
        },
        "nteract": {
          "transient": {
            "deleting": false
          }
        }
      },
      "outputs": [],
      "source": [
        "for i, (clf_name, clf) in enumerate(models.items()):\n",
        "    print(i + 1, \"fitting\", clf_name)\n",
        "    clf.fit(df_no_date)\n",
        "    outliers = clf.predict(df_no_date)\n",
        "    df[clf_name] = outliers"
      ]
    },
    {
      "cell_type": "code",
      "execution_count": null,
      "metadata": {
        "gather": {
          "logged": 1665152511241
        },
        "jupyter": {
          "outputs_hidden": false,
          "source_hidden": false
        },
        "nteract": {
          "transient": {
            "deleting": false
          }
        }
      },
      "outputs": [],
      "source": [
        "df.head()"
      ]
    },
    {
      "cell_type": "code",
      "execution_count": null,
      "metadata": {
        "gather": {
          "logged": 1665152511317
        },
        "jupyter": {
          "outputs_hidden": false,
          "source_hidden": false
        },
        "nteract": {
          "transient": {
            "deleting": false
          }
        }
      },
      "outputs": [],
      "source": [
        "from pathlib import Path\n",
        "\n",
        "# Create output folders if not exists\n",
        "outputs_folder = path.join(args.output_folder, args.company_code)\n",
        "Path(outputs_folder).mkdir(parents=True, exist_ok=True)"
      ]
    },
    {
      "cell_type": "code",
      "execution_count": null,
      "metadata": {
        "gather": {
          "logged": 1665152511381
        },
        "jupyter": {
          "outputs_hidden": false,
          "source_hidden": false
        },
        "nteract": {
          "transient": {
            "deleting": false
          }
        }
      },
      "outputs": [],
      "source": [
        "excel_outputfile_path = path.join(outputs_folder, \"outlier_records.xlsx\")\n",
        "print(excel_outputfile_path)\n",
        "\n",
        "df.to_excel(excel_outputfile_path)"
      ]
    },
    {
      "cell_type": "code",
      "execution_count": null,
      "metadata": {
        "gather": {
          "logged": 1665152514530
        },
        "jupyter": {
          "outputs_hidden": false,
          "source_hidden": false
        },
        "nteract": {
          "transient": {
            "deleting": false
          }
        }
      },
      "outputs": [],
      "source": [
        "# Create feature correlations plot\n",
        "import plotly\n",
        "import plotly.figure_factory as ff\n",
        "\n",
        "features = [k for k in df_no_date.columns]\n",
        "\n",
        "fig = ff.create_annotated_heatmap(\n",
        "    np.array(df_no_date.corr().round(2)),\n",
        "    colorscale=\"Viridis\",\n",
        "    x=features,\n",
        "    y=features,\n",
        "    hoverongaps=True,\n",
        ")\n",
        "\n",
        "fig.update_layout(\n",
        "    paper_bgcolor=\"white\",\n",
        "    width=1200,\n",
        "    height=1200,\n",
        "    titlefont=dict(size=25),\n",
        "    title_text=\"Features correlation plot\",\n",
        ")\n",
        "fig.update_xaxes(tickangle=90, side=\"bottom\")\n",
        "\n",
        "if args.showgraph:\n",
        "    fig.show()\n",
        "fig.write_image(path.join(outputs_folder, \"correlation_plot.png\"))\n",
        "plotly.offline.plot(fig, filename=path.join(outputs_folder, \"correlation_plot.html\"))"
      ]
    },
    {
      "cell_type": "code",
      "execution_count": null,
      "metadata": {
        "gather": {
          "logged": 1665152670530
        },
        "jupyter": {
          "outputs_hidden": false,
          "source_hidden": false
        },
        "nteract": {
          "transient": {
            "deleting": false
          }
        }
      },
      "outputs": [],
      "source": [
        "import seaborn as sns\n",
        "import matplotlib.pyplot as plt\n",
        "\n",
        "# Let's print a pairplot\n",
        "# https://doobzncoobz.com/seaborn-pairplot/\n",
        "plt.figure()\n",
        "sns_plot = sns.pairplot(df_no_date)\n",
        "sns_plot.fig.set_size_inches(15, 15)\n",
        "sns_plot.fig.suptitle(\"Pair plot\", y=1.01, size=30)\n",
        "\n",
        "if args.showgraph:\n",
        "    plt.show()\n",
        "sns_plot.savefig(path.join(outputs_folder, \"sns_pairplot.png\"))"
      ]
    },
    {
      "cell_type": "code",
      "execution_count": null,
      "metadata": {
        "gather": {
          "logged": 1665152800531
        },
        "jupyter": {
          "outputs_hidden": false,
          "source_hidden": false
        },
        "nteract": {
          "transient": {
            "deleting": false
          }
        }
      },
      "outputs": [],
      "source": [
        "import plotly.express as px\n",
        "\n",
        "outlier_column = list(models.keys())[0]\n",
        "\n",
        "fig = px.scatter_3d(data_frame=df, x=\"ft01\", y=\"ft02\", z=\"ft03\", symbol=outlier_column)\n",
        "\n",
        "fig.update_layout(\n",
        "    margin=dict(l=30, r=30, b=30, t=30),\n",
        "    autosize=False,\n",
        "    width=1000,\n",
        "    height=1000,\n",
        "    showlegend=False,\n",
        "    title={\n",
        "        \"text\": f\"Outlier Plot ({outlier_column})\",\n",
        "        \"y\": 0.91,\n",
        "        \"x\": 0.5,\n",
        "        \"xanchor\": \"center\",\n",
        "        \"yanchor\": \"top\",\n",
        "    },\n",
        ")\n",
        "\n",
        "# circle's are outliers, diamonds are normal entries for the specific model\n",
        "# Let's change the outliers to red X and the rest into green circles\n",
        "for i, d in enumerate(fig.data):\n",
        "    if fig.data[i].marker.symbol == \"circle\":\n",
        "        fig.data[i].marker.symbol = \"x\"\n",
        "        fig.data[i].marker.color = \"red\"\n",
        "    else:\n",
        "        fig.data[i].marker.symbol = \"circle\"\n",
        "        fig.data[i].marker.color = \"green\"\n",
        "if args.showgraph:\n",
        "    fig.show()\n",
        "fig.write_image(path.join(outputs_folder, \"outlier_plot.png\"))\n",
        "plotly.offline.plot(fig, filename=path.join(outputs_folder, \"outlier_plot.html\"))"
      ]
    }
  ],
  "metadata": {
    "kernel_info": {
      "name": "python38-azureml"
    },
    "kernelspec": {
      "display_name": "Python 3.8.8 64-bit ('Anaconda3')",
      "language": "python",
      "name": "python3"
    },
    "language_info": {
      "codemirror_mode": {
        "name": "ipython",
        "version": 3
      },
      "file_extension": ".py",
      "mimetype": "text/x-python",
      "name": "python",
      "nbconvert_exporter": "python",
      "pygments_lexer": "ipython3",
      "version": "3.8.8"
    },
    "microsoft": {
      "host": {
        "AzureML": {
          "notebookHasBeenCompleted": true
        }
      }
    },
    "nteract": {
      "version": "nteract-front-end@1.0.0"
    },
    "vscode": {
      "interpreter": {
        "hash": "07e4423184d9130616a08e69d6c2107fabc9e81746475142cd10318cf832cb4e"
      }
    }
  },
  "nbformat": 4,
  "nbformat_minor": 2
}
